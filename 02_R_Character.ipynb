{
  "nbformat": 4,
  "nbformat_minor": 0,
  "metadata": {
    "colab": {
      "provenance": []
    },
    "kernelspec": {
      "name": "ir",
      "display_name": "R"
    },
    "language_info": {
      "name": "R"
    }
  },
  "cells": [
    {
      "cell_type": "markdown",
      "source": [
        "# 2. Character"
      ],
      "metadata": {
        "id": "JCrt-dT2y1y6"
      }
    },
    {
      "cell_type": "markdown",
      "source": [
        "Get ready to master strings in R! This section will teach you how to create, manipulate, and work with text data effectively.\n",
        "\n",
        "Strings in R are used to store text data and are considered character vectors. Each element in a character vector is treated as a string. Like in Python, R treats strings as sequences of characters, and you can access or manipulate individual characters within a string using indexing and various string functions. However, indexing in R starts from 1, unlike Python, where it starts from 0.\n",
        "\n",
        "We'll learn about the following topics:\n",
        "\n",
        "   - [2.1. Creating Strings](#Creating_Strings)\n",
        "   - [2.2. Printing Strings](#Printing_Strings)\n",
        "   - [2.3. Built-in String Functions](#Builtin_String_Functions)\n",
        "   - [2.4. String Indexing](#String_Indexing)\n",
        "   - [2.5. String Formatting](#String_Formatting)"
      ],
      "metadata": {
        "id": "jiopcz4C1cVr"
      }
    },
    {
      "cell_type": "markdown",
      "source": [
        "<table>\n",
        "  <thead>\n",
        "    <tr>\n",
        "      <th>Name</th>\n",
        "      <th>Type in R</th>\n",
        "      <th>Description</th>\n",
        "      <th>Example</th>\n",
        "    </tr>\n",
        "  </thead>\n",
        "  <tbody>\n",
        "    <tr>\n",
        "      <td>Strings</td>\n",
        "      <td>character</td>\n",
        "      <td>Ordered sequence of characters, represented using single or double quotes.</td>\n",
        "      <td>\"hello\"  'apple'  \"I don't do that\"  \"2000f\"</td>  \n",
        "    </tr>\n",
        "  </tbody>\n",
        "</table>\n"
      ],
      "metadata": {
        "id": "C0g9e8o92gSB"
      }
    },
    {
      "cell_type": "code",
      "source": [
        "class('hello')"
      ],
      "metadata": {
        "colab": {
          "base_uri": "https://localhost:8080/",
          "height": 34
        },
        "id": "GXFZeEFu3SXQ",
        "outputId": "f50f4b06-a07c-4ffa-a304-8d5492289b09"
      },
      "execution_count": 1,
      "outputs": [
        {
          "output_type": "display_data",
          "data": {
            "text/html": [
              "'character'"
            ],
            "text/markdown": "'character'",
            "text/latex": "'character'",
            "text/plain": [
              "[1] \"character\""
            ]
          },
          "metadata": {}
        }
      ]
    },
    {
      "cell_type": "markdown",
      "source": [
        "<a name='Creating_Strings'></a>\n",
        "\n",
        "## 2.1. Creating Strings:"
      ],
      "metadata": {
        "id": "ZesCc52x3xGo"
      }
    },
    {
      "cell_type": "markdown",
      "source": [
        "n R, strings are used to store text data. You can create strings using either single quotes or double quotes. R treats these as character data types. Strings are considered sequences of characters in R, but they do not support direct indexing like in Python. Instead, R provides functions to manipulate and extract characters from strings."
      ],
      "metadata": {
        "id": "rGnVkjo_15tx"
      }
    },
    {
      "cell_type": "code",
      "source": [
        "#Single Quote\n",
        "'hello'"
      ],
      "metadata": {
        "colab": {
          "base_uri": "https://localhost:8080/",
          "height": 34
        },
        "id": "mnVV8zFf4QGZ",
        "outputId": "46cd3540-4559-4752-fad4-e213a6991d29"
      },
      "execution_count": 2,
      "outputs": [
        {
          "output_type": "display_data",
          "data": {
            "text/html": [
              "'hello'"
            ],
            "text/markdown": "'hello'",
            "text/latex": "'hello'",
            "text/plain": [
              "[1] \"hello\""
            ]
          },
          "metadata": {}
        }
      ]
    },
    {
      "cell_type": "code",
      "source": [
        "#phrase\n",
        "'beauty is in the eye of the beholder'"
      ],
      "metadata": {
        "colab": {
          "base_uri": "https://localhost:8080/",
          "height": 34
        },
        "id": "LiIO945n4SJC",
        "outputId": "fa0c906e-9354-41ef-ae53-5a7981a0a58a"
      },
      "execution_count": 3,
      "outputs": [
        {
          "output_type": "display_data",
          "data": {
            "text/html": [
              "'beauty is in the eye of the beholder'"
            ],
            "text/markdown": "'beauty is in the eye of the beholder'",
            "text/latex": "'beauty is in the eye of the beholder'",
            "text/plain": [
              "[1] \"beauty is in the eye of the beholder\""
            ]
          },
          "metadata": {}
        }
      ]
    },
    {
      "cell_type": "code",
      "source": [
        "#Double Quotes\n",
        "\"beauty is in the eye of the beholder\""
      ],
      "metadata": {
        "colab": {
          "base_uri": "https://localhost:8080/",
          "height": 34
        },
        "id": "q6uDPfqJ4TvH",
        "outputId": "3087114c-2951-4afe-f4a9-2ab2d637a7d1"
      },
      "execution_count": 4,
      "outputs": [
        {
          "output_type": "display_data",
          "data": {
            "text/html": [
              "'beauty is in the eye of the beholder'"
            ],
            "text/markdown": "'beauty is in the eye of the beholder'",
            "text/latex": "'beauty is in the eye of the beholder'",
            "text/plain": [
              "[1] \"beauty is in the eye of the beholder\""
            ]
          },
          "metadata": {}
        }
      ]
    },
    {
      "cell_type": "markdown",
      "source": [
        "Please note that if you use ' you also have to use `'` at the end of string not `\"`. Moreover, if your text contains `'` in itself, you have to use `\"` for determining the string."
      ],
      "metadata": {
        "id": "mWy1SZmC5YAf"
      }
    },
    {
      "cell_type": "code",
      "source": [
        "\"I'm happy\""
      ],
      "metadata": {
        "colab": {
          "base_uri": "https://localhost:8080/",
          "height": 34
        },
        "id": "dNX9cxfA4VLR",
        "outputId": "7789bcf7-0c76-44e3-d613-18e448b8188a"
      },
      "execution_count": 5,
      "outputs": [
        {
          "output_type": "display_data",
          "data": {
            "text/html": [
              "'I\\'m happy'"
            ],
            "text/markdown": "'I\\'m happy'",
            "text/latex": "'I\\textbackslash{}'m happy'",
            "text/plain": [
              "[1] \"I'm happy\""
            ]
          },
          "metadata": {}
        }
      ]
    },
    {
      "cell_type": "code",
      "source": [
        "'I'm happy'"
      ],
      "metadata": {
        "colab": {
          "base_uri": "https://localhost:8080/",
          "height": 106
        },
        "id": "a1Gl1p9r5aUO",
        "outputId": "e2a8b46a-abf3-45ea-e5d7-aea97dcf45db"
      },
      "execution_count": 6,
      "outputs": [
        {
          "output_type": "error",
          "ename": "ERROR",
          "evalue": "Error in parse(text = input): <text>:1:4: unexpected symbol\n1: 'I'm\n       ^\n",
          "traceback": [
            "Error in parse(text = input): <text>:1:4: unexpected symbol\n1: 'I'm\n       ^\nTraceback:\n"
          ]
        }
      ]
    },
    {
      "cell_type": "markdown",
      "source": [
        "This error occurred because `'` in the I'm stopped the string. Python will treat the second `'` as an ending character."
      ],
      "metadata": {
        "id": "dS94bTNC5eO0"
      }
    },
    {
      "cell_type": "markdown",
      "source": [
        "<a name='Printing_Strings'></a>\n",
        "\n",
        "## 2.2. Printing Strings:"
      ],
      "metadata": {
        "id": "2cbvv-8x5kUX"
      }
    },
    {
      "cell_type": "markdown",
      "source": [
        "In R, strings (or any other object) are automatically displayed in the console when you enter them into the script or R console. However, the proper way to print strings explicitly is to use the `print()` function."
      ],
      "metadata": {
        "id": "KPumoDC750CX"
      }
    },
    {
      "cell_type": "code",
      "source": [
        "#Using Print\n",
        "print('Hello World 1')\n",
        "print('Hello World 2')"
      ],
      "metadata": {
        "colab": {
          "base_uri": "https://localhost:8080/"
        },
        "id": "wGpoYj1_5boG",
        "outputId": "dc94e08c-55a8-4401-a6b3-78997f2139b6"
      },
      "execution_count": 7,
      "outputs": [
        {
          "output_type": "stream",
          "name": "stdout",
          "text": [
            "[1] \"Hello World 1\"\n",
            "[1] \"Hello World 2\"\n"
          ]
        }
      ]
    },
    {
      "cell_type": "markdown",
      "source": [
        "<table>\n",
        "<tr>\n",
        "    <th>Special Escape Character</th>\n",
        "    <th>Result</th>\n",
        "</tr>\n",
        "\n",
        "<tr>\n",
        "    <td>\\n</td>\n",
        "    <td>New Line</td>\n",
        "</tr>\n",
        "\n",
        "<tr>\n",
        "    <td>\\t</td>\n",
        "    <td>Tab</td>\n",
        "</tr>\n",
        "</table>\n"
      ],
      "metadata": {
        "id": "9P0U_uQe6Gn5"
      }
    },
    {
      "cell_type": "markdown",
      "source": [
        "The behavior of escape characters like \\n and \\t in R can be slightly different from Python depending on how you print them. In R, to see the actual effect of escape characters like newlines and tabs, you generally need to use the `cat()` function, which displays the output more like Python's `print()` function. If you use `print()` or just type the string directly, R will escape the characters and show them in the output literally."
      ],
      "metadata": {
        "id": "gwcpAS-d7FZF"
      }
    },
    {
      "cell_type": "code",
      "source": [
        "text <- \"This is a line.\\nThis is another line.\\tAnd this is a tabbed line.\"\n",
        "print(text)"
      ],
      "metadata": {
        "colab": {
          "base_uri": "https://localhost:8080/"
        },
        "id": "U8KL-o686KR2",
        "outputId": "41c8fdd3-4a46-4d07-dcba-eb60bf5bafae"
      },
      "execution_count": 8,
      "outputs": [
        {
          "output_type": "stream",
          "name": "stdout",
          "text": [
            "[1] \"This is a line.\\nThis is another line.\\tAnd this is a tabbed line.\"\n"
          ]
        }
      ]
    },
    {
      "cell_type": "code",
      "source": [
        "cat(text)"
      ],
      "metadata": {
        "colab": {
          "base_uri": "https://localhost:8080/"
        },
        "id": "RsyBfouC6ZDG",
        "outputId": "79e0e28b-2983-4d33-c924-6cabd5fb27e8"
      },
      "execution_count": 9,
      "outputs": [
        {
          "output_type": "stream",
          "name": "stdout",
          "text": [
            "This is a line.\n",
            "This is another line.\tAnd this is a tabbed line."
          ]
        }
      ]
    },
    {
      "cell_type": "markdown",
      "source": [
        "<a name='Builtin_String_Functions'></a>\n",
        "\n",
        "## 2.3. Built-in String Functions:"
      ],
      "metadata": {
        "id": "KBptixVf7Zzv"
      }
    },
    {
      "cell_type": "markdown",
      "source": [
        "| **Function**      | **Description**                                       | **Example**                                      |\n",
        "|--------------------|-------------------------------------------------------|--------------------------------------------------|\n",
        "| `nchar()`          | Returns the number of characters in a string.        | `nchar(\"Hello\")` output `5`.                   |\n",
        "| `toupper()`        | Converts a string to uppercase.                       | `toupper(\"hello\")` output `\"HELLO\"`.           |\n",
        "| `tolower()`        | Converts a string to lowercase.                       | `tolower(\"HELLO\")` output `\"hello\"`.           |\n",
        "| `substr()`         | Extracts a substring from a string.                  | `substr(\"Hello World\", 1, 5)` output `\"Hello\"`.|\n",
        "| `strsplit()`       | Splits a string into substrings based on a delimiter.| `strsplit(\"a,b,c\", \",\")` output `list(\"a\", \"b\", \"c\")`. |\n",
        "| `paste()`          | Concatenates strings together.                        | `paste(\"Hello\", \"World\")` output `\"Hello World\"`. |\n",
        "| `trimws()`         | Removes leading and trailing whitespace from a string.| `trimws(\"  Hello  \")` output `\"Hello\"`.        |\n",
        "| `sub()`           | \tReplaces the first occurrence of a pattern in a string.   | `sub(\"o\", \"x\", \"Hello World\")` output `\"Hellx World\"`. |\n",
        "| `gsub()`           | Replaces all occurrences of a pattern in a string.   | `gsub(\"o\", \"x\", \"Hello World\")` output `\"Hellx Wxrld\"`. |\n",
        "| `grep()`           | Searches for a specific pattern within a vector of strings.| `grep(\"o\", \"Hello World\")` output `1`.         |\n",
        "| `grepl()`          | Returns `TRUE` or `FALSE` if a pattern matches a string.| `grepl(\"o\", \"Hello World\")` output `TRUE`.     |\n",
        "| `regexpr()`          | Returns the starting positions of the first match of the pattern.| `regexpr(\"world\", \"Hello, world!\")` output 8.     |\n"
      ],
      "metadata": {
        "id": "f2DzdeBC7673"
      }
    },
    {
      "cell_type": "markdown",
      "source": [
        "**`nchar()`**: Returns the number of characters in a string."
      ],
      "metadata": {
        "id": "E1oFgbaN76iH"
      }
    },
    {
      "cell_type": "code",
      "source": [
        "nchar('Hello World')"
      ],
      "metadata": {
        "colab": {
          "base_uri": "https://localhost:8080/",
          "height": 34
        },
        "id": "3EyUvh4h6w5O",
        "outputId": "18d91eaf-5cf8-4cbf-f685-1d5425b099fa"
      },
      "execution_count": 10,
      "outputs": [
        {
          "output_type": "display_data",
          "data": {
            "text/html": [
              "11"
            ],
            "text/markdown": "11",
            "text/latex": "11",
            "text/plain": [
              "[1] 11"
            ]
          },
          "metadata": {}
        }
      ]
    },
    {
      "cell_type": "markdown",
      "source": [
        "**`toupper()`**: Converts a string to uppercase."
      ],
      "metadata": {
        "id": "SG0gzIw8-ox1"
      }
    },
    {
      "cell_type": "code",
      "source": [
        "toupper('Hello World')"
      ],
      "metadata": {
        "colab": {
          "base_uri": "https://localhost:8080/",
          "height": 34
        },
        "id": "e_3BRCKh8M1N",
        "outputId": "eaa2b746-d876-4d77-9dc4-76ed63a200ed"
      },
      "execution_count": 11,
      "outputs": [
        {
          "output_type": "display_data",
          "data": {
            "text/html": [
              "'HELLO WORLD'"
            ],
            "text/markdown": "'HELLO WORLD'",
            "text/latex": "'HELLO WORLD'",
            "text/plain": [
              "[1] \"HELLO WORLD\""
            ]
          },
          "metadata": {}
        }
      ]
    },
    {
      "cell_type": "markdown",
      "source": [
        "**`tolower()`**: Converts a string to lowercase."
      ],
      "metadata": {
        "id": "kFAyh7nF-0rc"
      }
    },
    {
      "cell_type": "code",
      "source": [
        "tolower('Hello World')"
      ],
      "metadata": {
        "colab": {
          "base_uri": "https://localhost:8080/",
          "height": 34
        },
        "id": "4NfS4Fda-zQ8",
        "outputId": "9eb8ecea-a623-4f50-c8b7-9d1b4c223c9b"
      },
      "execution_count": 12,
      "outputs": [
        {
          "output_type": "display_data",
          "data": {
            "text/html": [
              "'hello world'"
            ],
            "text/markdown": "'hello world'",
            "text/latex": "'hello world'",
            "text/plain": [
              "[1] \"hello world\""
            ]
          },
          "metadata": {}
        }
      ]
    },
    {
      "cell_type": "markdown",
      "source": [
        "**`substr(x, start, stop)`**: Extracts a substring from a string."
      ],
      "metadata": {
        "id": "yVBJ7aog_E27"
      }
    },
    {
      "cell_type": "code",
      "source": [
        "substr(\"Hello World\", 1, 5)"
      ],
      "metadata": {
        "colab": {
          "base_uri": "https://localhost:8080/",
          "height": 34
        },
        "id": "09t4wYBT-7RM",
        "outputId": "08b81f86-ba4e-4ba8-f651-31abf87bd579"
      },
      "execution_count": 13,
      "outputs": [
        {
          "output_type": "display_data",
          "data": {
            "text/html": [
              "'Hello'"
            ],
            "text/markdown": "'Hello'",
            "text/latex": "'Hello'",
            "text/plain": [
              "[1] \"Hello\""
            ]
          },
          "metadata": {}
        }
      ]
    },
    {
      "cell_type": "markdown",
      "source": [
        "**`strsplit()`**: Splits a string into substrings based on a delimiter."
      ],
      "metadata": {
        "id": "KzOe-2m1_vI-"
      }
    },
    {
      "cell_type": "code",
      "source": [
        "strsplit('Hello World', \" \")"
      ],
      "metadata": {
        "colab": {
          "base_uri": "https://localhost:8080/",
          "height": 62
        },
        "id": "puOFPdOz_Rcs",
        "outputId": "67c4adee-2bb5-4c77-faf9-30ae3b83adb1"
      },
      "execution_count": 14,
      "outputs": [
        {
          "output_type": "display_data",
          "data": {
            "text/html": [
              "<ol>\n",
              "\t<li><style>\n",
              ".list-inline {list-style: none; margin:0; padding: 0}\n",
              ".list-inline>li {display: inline-block}\n",
              ".list-inline>li:not(:last-child)::after {content: \"\\00b7\"; padding: 0 .5ex}\n",
              "</style>\n",
              "<ol class=list-inline><li>'Hello'</li><li>'World'</li></ol>\n",
              "</li>\n",
              "</ol>\n"
            ],
            "text/markdown": "1. 1. 'Hello'\n2. 'World'\n\n\n\n\n\n",
            "text/latex": "\\begin{enumerate}\n\\item \\begin{enumerate*}\n\\item 'Hello'\n\\item 'World'\n\\end{enumerate*}\n\n\\end{enumerate}\n",
            "text/plain": [
              "[[1]]\n",
              "[1] \"Hello\" \"World\"\n"
            ]
          },
          "metadata": {}
        }
      ]
    },
    {
      "cell_type": "code",
      "source": [
        "strsplit(\"a,b,c\", \",\")"
      ],
      "metadata": {
        "colab": {
          "base_uri": "https://localhost:8080/",
          "height": 62
        },
        "id": "hDdMPKFu_-48",
        "outputId": "30a65faa-bcf4-47ad-bbec-5a7a61c7564d"
      },
      "execution_count": 15,
      "outputs": [
        {
          "output_type": "display_data",
          "data": {
            "text/html": [
              "<ol>\n",
              "\t<li><style>\n",
              ".list-inline {list-style: none; margin:0; padding: 0}\n",
              ".list-inline>li {display: inline-block}\n",
              ".list-inline>li:not(:last-child)::after {content: \"\\00b7\"; padding: 0 .5ex}\n",
              "</style>\n",
              "<ol class=list-inline><li>'a'</li><li>'b'</li><li>'c'</li></ol>\n",
              "</li>\n",
              "</ol>\n"
            ],
            "text/markdown": "1. 1. 'a'\n2. 'b'\n3. 'c'\n\n\n\n\n\n",
            "text/latex": "\\begin{enumerate}\n\\item \\begin{enumerate*}\n\\item 'a'\n\\item 'b'\n\\item 'c'\n\\end{enumerate*}\n\n\\end{enumerate}\n",
            "text/plain": [
              "[[1]]\n",
              "[1] \"a\" \"b\" \"c\"\n"
            ]
          },
          "metadata": {}
        }
      ]
    },
    {
      "cell_type": "markdown",
      "source": [
        "**`paste()`**: Concatenates strings together."
      ],
      "metadata": {
        "id": "3xubn5BOAJA0"
      }
    },
    {
      "cell_type": "code",
      "source": [
        "paste(\"Hello\", \"World\", \"1\", sep = \" \")"
      ],
      "metadata": {
        "colab": {
          "base_uri": "https://localhost:8080/",
          "height": 34
        },
        "id": "W-Tv7BoiAFxl",
        "outputId": "38ca7c9a-5e00-4e4b-d5a9-661ac238ff3d"
      },
      "execution_count": 16,
      "outputs": [
        {
          "output_type": "display_data",
          "data": {
            "text/html": [
              "'Hello World 1'"
            ],
            "text/markdown": "'Hello World 1'",
            "text/latex": "'Hello World 1'",
            "text/plain": [
              "[1] \"Hello World 1\""
            ]
          },
          "metadata": {}
        }
      ]
    },
    {
      "cell_type": "markdown",
      "source": [
        "**`trimws()`**: Removes leading and trailing whitespace from a string."
      ],
      "metadata": {
        "id": "r2fFF74BAfnE"
      }
    },
    {
      "cell_type": "code",
      "source": [
        "trimws(\" Hello World \")"
      ],
      "metadata": {
        "colab": {
          "base_uri": "https://localhost:8080/",
          "height": 34
        },
        "id": "WRqly-cMAUJV",
        "outputId": "0caf2e85-33d4-46f5-996c-7653f6a8336e"
      },
      "execution_count": 17,
      "outputs": [
        {
          "output_type": "display_data",
          "data": {
            "text/html": [
              "'Hello World'"
            ],
            "text/markdown": "'Hello World'",
            "text/latex": "'Hello World'",
            "text/plain": [
              "[1] \"Hello World\""
            ]
          },
          "metadata": {}
        }
      ]
    },
    {
      "cell_type": "markdown",
      "source": [
        "**`sub()`**: \tReplaces the first occurrence of a pattern in a string."
      ],
      "metadata": {
        "id": "b7dXdiOIWj5d"
      }
    },
    {
      "cell_type": "code",
      "source": [
        "sub(\"o\", \"x\", \"Hello World\")"
      ],
      "metadata": {
        "colab": {
          "base_uri": "https://localhost:8080/",
          "height": 34
        },
        "id": "6rU9R747WoPO",
        "outputId": "08c9610d-1bea-473e-d8c6-7376e7e20864"
      },
      "execution_count": 18,
      "outputs": [
        {
          "output_type": "display_data",
          "data": {
            "text/html": [
              "'Hellx World'"
            ],
            "text/markdown": "'Hellx World'",
            "text/latex": "'Hellx World'",
            "text/plain": [
              "[1] \"Hellx World\""
            ]
          },
          "metadata": {}
        }
      ]
    },
    {
      "cell_type": "markdown",
      "source": [
        "**`gsub()`**: Replaces all occurrences of a pattern in a string."
      ],
      "metadata": {
        "id": "tg5w7Q9YAvIV"
      }
    },
    {
      "cell_type": "code",
      "source": [
        "gsub(\"o\", \"x\", \"Hello World\")"
      ],
      "metadata": {
        "colab": {
          "base_uri": "https://localhost:8080/",
          "height": 34
        },
        "id": "hY0_wGFhAq0s",
        "outputId": "4f3c2ef6-c4a2-4c2c-f175-25648b9c1f19"
      },
      "execution_count": 19,
      "outputs": [
        {
          "output_type": "display_data",
          "data": {
            "text/html": [
              "'Hellx Wxrld'"
            ],
            "text/markdown": "'Hellx Wxrld'",
            "text/latex": "'Hellx Wxrld'",
            "text/plain": [
              "[1] \"Hellx Wxrld\""
            ]
          },
          "metadata": {}
        }
      ]
    },
    {
      "cell_type": "code",
      "source": [
        "gsub(\"hel\", \"x\", \"Hello World\", ignore.case = TRUE)"
      ],
      "metadata": {
        "colab": {
          "base_uri": "https://localhost:8080/",
          "height": 34
        },
        "id": "DMfddhpGA6mz",
        "outputId": "677a4b7f-bb79-44e9-8298-fa1f023c6ade"
      },
      "execution_count": 20,
      "outputs": [
        {
          "output_type": "display_data",
          "data": {
            "text/html": [
              "'xlo World'"
            ],
            "text/markdown": "'xlo World'",
            "text/latex": "'xlo World'",
            "text/plain": [
              "[1] \"xlo World\""
            ]
          },
          "metadata": {}
        }
      ]
    },
    {
      "cell_type": "markdown",
      "source": [
        "**`grep()`**: Searches for a specific pattern within a vector of strings."
      ],
      "metadata": {
        "id": "3FzpbFuSBQp8"
      }
    },
    {
      "cell_type": "code",
      "source": [
        "grep(\"o\", \"Hello World\")"
      ],
      "metadata": {
        "colab": {
          "base_uri": "https://localhost:8080/",
          "height": 34
        },
        "id": "PXDfsWzUA-cc",
        "outputId": "c2499af4-b9df-4942-98ac-ea2e30a30772"
      },
      "execution_count": 21,
      "outputs": [
        {
          "output_type": "display_data",
          "data": {
            "text/html": [
              "1"
            ],
            "text/markdown": "1",
            "text/latex": "1",
            "text/plain": [
              "[1] 1"
            ]
          },
          "metadata": {}
        }
      ]
    },
    {
      "cell_type": "code",
      "source": [
        "x <- c(\"Hello, world!\", \"Goodbye\", \"Another world\")\n",
        "grep(\"world\", x)"
      ],
      "metadata": {
        "colab": {
          "base_uri": "https://localhost:8080/",
          "height": 34
        },
        "id": "y_GVpxA8BYvz",
        "outputId": "aa70a8fd-c1bc-4b3e-93a3-8bdaa996dc4c"
      },
      "execution_count": 22,
      "outputs": [
        {
          "output_type": "display_data",
          "data": {
            "text/html": [
              "<style>\n",
              ".list-inline {list-style: none; margin:0; padding: 0}\n",
              ".list-inline>li {display: inline-block}\n",
              ".list-inline>li:not(:last-child)::after {content: \"\\00b7\"; padding: 0 .5ex}\n",
              "</style>\n",
              "<ol class=list-inline><li>1</li><li>3</li></ol>\n"
            ],
            "text/markdown": "1. 1\n2. 3\n\n\n",
            "text/latex": "\\begin{enumerate*}\n\\item 1\n\\item 3\n\\end{enumerate*}\n",
            "text/plain": [
              "[1] 1 3"
            ]
          },
          "metadata": {}
        }
      ]
    },
    {
      "cell_type": "markdown",
      "source": [
        "**`grepl()`**: Returns TRUE or FALSE if a pattern matches a string."
      ],
      "metadata": {
        "id": "mUQd4PJ7DW2s"
      }
    },
    {
      "cell_type": "code",
      "source": [
        "grepl(\"o\", \"Hello World\")"
      ],
      "metadata": {
        "colab": {
          "base_uri": "https://localhost:8080/",
          "height": 34
        },
        "id": "fghRp6TbDQnC",
        "outputId": "9bfef900-b559-4a91-ac62-9203368d9067"
      },
      "execution_count": 23,
      "outputs": [
        {
          "output_type": "display_data",
          "data": {
            "text/html": [
              "TRUE"
            ],
            "text/markdown": "TRUE",
            "text/latex": "TRUE",
            "text/plain": [
              "[1] TRUE"
            ]
          },
          "metadata": {}
        }
      ]
    },
    {
      "cell_type": "markdown",
      "source": [
        "**`regexpr()`**: Returns the starting positions of the first match of the pattern."
      ],
      "metadata": {
        "id": "3Me5GBdFEgMS"
      }
    },
    {
      "cell_type": "code",
      "source": [
        "regexpr(\"world\", \"Hello, world!\")"
      ],
      "metadata": {
        "colab": {
          "base_uri": "https://localhost:8080/",
          "height": 34
        },
        "id": "cpXpHRryDjVq",
        "outputId": "2a409935-0fd3-405e-974e-563c500e61e3"
      },
      "execution_count": 24,
      "outputs": [
        {
          "output_type": "display_data",
          "data": {
            "text/html": [
              "8"
            ],
            "text/markdown": "8",
            "text/latex": "8",
            "text/plain": [
              "[1] 8\n",
              "attr(,\"match.length\")\n",
              "[1] 5\n",
              "attr(,\"index.type\")\n",
              "[1] \"chars\"\n",
              "attr(,\"useBytes\")\n",
              "[1] TRUE"
            ]
          },
          "metadata": {}
        }
      ]
    },
    {
      "cell_type": "markdown",
      "source": [
        "<a name='String_Indexing'></a>\n",
        "\n",
        "## 2.4. String Indexing:"
      ],
      "metadata": {
        "id": "Ep8MRH6VOdRN"
      }
    },
    {
      "cell_type": "markdown",
      "source": [
        "Strings are sequences, so we can access specific parts using indexes. Indexes start from **1** in R.\n",
        "\n",
        "<p align=\"center\">\n",
        "  <img width=\"700\" height=\"300\" src=\"https://www.sharpsightlabs.com/wp-content/uploads/2018/07/string-with-index-example-768x185.png\">\n",
        "</p>\n",
        "\n",
        "The most common way to extract a specific character or substring from a string in R is to use the `substr()` function:\n",
        "\n",
        "`substr(x, start, stop)`\n",
        "\n",
        "- x: The string you want to extract from.\n",
        "- start: The starting index of the substring.\n",
        "- stop: The ending index of the substring.\n",
        "\n",
        "\n",
        "**Comparison with Python:**\n",
        "\n",
        "- Starting index: R starts from **1**, while Python starts from **0**.\n",
        "- Slicing: Python offers a more flexible slicing syntax with negative indices for accessing characters from the end."
      ],
      "metadata": {
        "id": "QyKJfA6_Of1c"
      }
    },
    {
      "cell_type": "code",
      "source": [
        "a <- \"Hello World\""
      ],
      "metadata": {
        "id": "JyXYNTO5FRDe"
      },
      "execution_count": 25,
      "outputs": []
    },
    {
      "cell_type": "code",
      "source": [
        "substr(a, 3, 7)"
      ],
      "metadata": {
        "colab": {
          "base_uri": "https://localhost:8080/",
          "height": 34
        },
        "id": "Oq67H9FhFZXH",
        "outputId": "5e4b699c-5554-4597-e868-63007f6a51a3"
      },
      "execution_count": 26,
      "outputs": [
        {
          "output_type": "display_data",
          "data": {
            "text/html": [
              "'llo W'"
            ],
            "text/markdown": "'llo W'",
            "text/latex": "'llo W'",
            "text/plain": [
              "[1] \"llo W\""
            ]
          },
          "metadata": {}
        }
      ]
    },
    {
      "cell_type": "code",
      "source": [
        "substr(a, 3, nchar(a))"
      ],
      "metadata": {
        "colab": {
          "base_uri": "https://localhost:8080/",
          "height": 34
        },
        "id": "Hr1MOT2gD4cx",
        "outputId": "233214f9-fc9c-4bcf-887f-d9484251e7f8"
      },
      "execution_count": 27,
      "outputs": [
        {
          "output_type": "display_data",
          "data": {
            "text/html": [
              "'llo World'"
            ],
            "text/markdown": "'llo World'",
            "text/latex": "'llo World'",
            "text/plain": [
              "[1] \"llo World\""
            ]
          },
          "metadata": {}
        }
      ]
    },
    {
      "cell_type": "code",
      "source": [
        "substr(a, 3, 3)"
      ],
      "metadata": {
        "colab": {
          "base_uri": "https://localhost:8080/",
          "height": 34
        },
        "id": "E2rupLk_FcCA",
        "outputId": "ee809a42-c2ae-430a-d8ec-f498e2e519a9"
      },
      "execution_count": 28,
      "outputs": [
        {
          "output_type": "display_data",
          "data": {
            "text/html": [
              "'l'"
            ],
            "text/markdown": "'l'",
            "text/latex": "'l'",
            "text/plain": [
              "[1] \"l\""
            ]
          },
          "metadata": {}
        }
      ]
    },
    {
      "cell_type": "markdown",
      "source": [
        "<a name='String_Formatting'></a>\n",
        "\n",
        "## 2.5. String Formatting:"
      ],
      "metadata": {
        "id": "bwXpmPh8VyRC"
      }
    },
    {
      "cell_type": "markdown",
      "source": [
        "**`sprintf()`**: We can use the `sprintf()` method to add formatted objects to printed string statements."
      ],
      "metadata": {
        "id": "wBIQ-R7dXLju"
      }
    },
    {
      "cell_type": "code",
      "source": [
        "name <- \"John\"\n",
        "age <- 30\n",
        "\n",
        "sprintf(\"My name is %s and I am %d years old.\", name, age)"
      ],
      "metadata": {
        "colab": {
          "base_uri": "https://localhost:8080/",
          "height": 34
        },
        "id": "DxCFXDSQFdyM",
        "outputId": "41c78dfc-7815-4999-c98c-fcecbb1166ee"
      },
      "execution_count": 29,
      "outputs": [
        {
          "output_type": "display_data",
          "data": {
            "text/html": [
              "'My name is John and I am 30 years old.'"
            ],
            "text/markdown": "'My name is John and I am 30 years old.'",
            "text/latex": "'My name is John and I am 30 years old.'",
            "text/plain": [
              "[1] \"My name is John and I am 30 years old.\""
            ]
          },
          "metadata": {}
        }
      ]
    },
    {
      "cell_type": "markdown",
      "source": [
        "The `%s` is used for strings, `%d` is for integers, and other format specifiers like `%f` for floats can be used."
      ],
      "metadata": {
        "id": "rQLxkubwXiA0"
      }
    },
    {
      "cell_type": "markdown",
      "source": [
        "**`paste()`** separates elements with a space by default,"
      ],
      "metadata": {
        "id": "kMcU2exvX2zc"
      }
    },
    {
      "cell_type": "code",
      "source": [
        "name <- \"John\"\n",
        "age <- 30\n",
        "\n",
        "paste(\"My name is\", name, \"and I am\", age, \"years old.\")"
      ],
      "metadata": {
        "colab": {
          "base_uri": "https://localhost:8080/",
          "height": 34
        },
        "id": "EptT6dOiXrn-",
        "outputId": "c5169af4-a96d-453d-f7ae-95dbf9c64bd5"
      },
      "execution_count": 30,
      "outputs": [
        {
          "output_type": "display_data",
          "data": {
            "text/html": [
              "'My name is John and I am 30 years old.'"
            ],
            "text/markdown": "'My name is John and I am 30 years old.'",
            "text/latex": "'My name is John and I am 30 years old.'",
            "text/plain": [
              "[1] \"My name is John and I am 30 years old.\""
            ]
          },
          "metadata": {}
        }
      ]
    },
    {
      "cell_type": "markdown",
      "source": [
        "`paste0()` concatenates without spaces."
      ],
      "metadata": {
        "id": "zhWfRaSwX-DE"
      }
    },
    {
      "cell_type": "code",
      "source": [
        "paste0(\"My name is\", name, \"and I am\", age, \"years old.\")"
      ],
      "metadata": {
        "colab": {
          "base_uri": "https://localhost:8080/",
          "height": 34
        },
        "id": "il0H3jk_XxFD",
        "outputId": "cd7228cd-0539-4ee2-8604-dd6861c82626"
      },
      "execution_count": 31,
      "outputs": [
        {
          "output_type": "display_data",
          "data": {
            "text/html": [
              "'My name isJohnand I am30years old.'"
            ],
            "text/markdown": "'My name isJohnand I am30years old.'",
            "text/latex": "'My name isJohnand I am30years old.'",
            "text/plain": [
              "[1] \"My name isJohnand I am30years old.\""
            ]
          },
          "metadata": {}
        }
      ]
    }
  ]
}