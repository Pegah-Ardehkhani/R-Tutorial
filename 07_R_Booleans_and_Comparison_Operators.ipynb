{
  "nbformat": 4,
  "nbformat_minor": 0,
  "metadata": {
    "colab": {
      "provenance": []
    },
    "kernelspec": {
      "name": "ir",
      "display_name": "R"
    },
    "language_info": {
      "name": "R"
    }
  },
  "cells": [
    {
      "cell_type": "markdown",
      "source": [
        "# 7. Booleans and Comparison Operators"
      ],
      "metadata": {
        "id": "rJzNhi0ABt-0"
      }
    },
    {
      "cell_type": "markdown",
      "source": [
        "In this section, we'll explore the concept of booleans and how they are used in Python to represent true or false values. We'll also delve into comparison operators, which are used to evaluate conditions and make decisions within your programs.\n",
        "\n",
        "We'll learn about the following topics:\n",
        "\n",
        "- [7.1. Booleans](#Booleans)\n",
        "- [7.2. Comparison Operators](#Comparison_Operators)\n",
        "- [7.3. Logical Operators](#Logical_Operators)"
      ],
      "metadata": {
        "id": "WzAPsif4V-JU"
      }
    },
    {
      "cell_type": "markdown",
      "source": [
        "<a name='Booleans'></a>\n",
        "\n",
        "## 7.1. Booleans:"
      ],
      "metadata": {
        "id": "lBpEyWVEVrQ5"
      }
    },
    {
      "cell_type": "markdown",
      "source": [
        "In R, Booleans are logical data types that have two possible values: `TRUE` and `FALSE`. These values are used to represent logical conditions or results of comparisons and can be used in control structures (such as if statements or loops) and in conjunction with logical operators.\n",
        "\n",
        "You can check the type of a Boolean value using `typeof()` or `class()`:"
      ],
      "metadata": {
        "id": "k34_2QkIV6ba"
      }
    },
    {
      "cell_type": "code",
      "source": [
        "x <- TRUE\n",
        "y <- FALSE\n",
        "\n",
        "typeof(x)\n",
        "class(y)"
      ],
      "metadata": {
        "colab": {
          "base_uri": "https://localhost:8080/",
          "height": 52
        },
        "id": "mtiDGdyl2Kx2",
        "outputId": "1ae4825a-7c78-4c75-ebeb-ac8bcc07819b"
      },
      "execution_count": 1,
      "outputs": [
        {
          "output_type": "display_data",
          "data": {
            "text/html": [
              "'logical'"
            ],
            "text/markdown": "'logical'",
            "text/latex": "'logical'",
            "text/plain": [
              "[1] \"logical\""
            ]
          },
          "metadata": {}
        },
        {
          "output_type": "display_data",
          "data": {
            "text/html": [
              "'logical'"
            ],
            "text/markdown": "'logical'",
            "text/latex": "'logical'",
            "text/plain": [
              "[1] \"logical\""
            ]
          },
          "metadata": {}
        }
      ]
    },
    {
      "cell_type": "markdown",
      "source": [
        "<a name='Comparison_Operators'></a>\n",
        "\n",
        "## 7.2. Comparison Operators:"
      ],
      "metadata": {
        "id": "46IhB3u4Wmhu"
      }
    },
    {
      "cell_type": "markdown",
      "source": [
        "<table>\n",
        "  <thead>\n",
        "    <tr>\n",
        "      <th>Operator</th>\n",
        "      <th>Description</th>\n",
        "      <th>Example</th>\n",
        "      <th>Output</th>\n",
        "    </tr>\n",
        "  </thead>\n",
        "  <tbody>\n",
        "    <tr>\n",
        "      <td>==</td>\n",
        "      <td>Equal to</td>\n",
        "      <td>5 == 5</td>\n",
        "      <td>TRUE</td>\n",
        "    </tr>\n",
        "    <tr>\n",
        "      <td>!=</td>\n",
        "      <td>Not equal to</td>\n",
        "      <td>5 != 6</td>\n",
        "      <td>TRUE</td>\n",
        "    </tr>\n",
        "    <tr>\n",
        "      <td>&lt;</td>\n",
        "      <td>Less than</td>\n",
        "      <td>3 &lt; 5</td>\n",
        "      <td>TRUE</td>\n",
        "    </tr>\n",
        "    <tr>\n",
        "      <td>&lt;=</td>\n",
        "      <td>Less than or equal to</td>\n",
        "      <td>5 &lt;= 5</td>\n",
        "      <td>TRUE</td>\n",
        "    </tr>\n",
        "    <tr>\n",
        "      <td>&gt;</td>\n",
        "      <td>Greater than</td>\n",
        "      <td>7 &gt; 6</td>\n",
        "      <td>TRUE</td>\n",
        "    </tr>\n",
        "    <tr>\n",
        "      <td>&gt;=</td>\n",
        "      <td>Greater than or equal to</td>\n",
        "      <td>5 &gt;= 5</td>\n",
        "      <td>TRUE</td>\n",
        "    </tr>\n",
        "  </tbody>\n",
        "</table>\n"
      ],
      "metadata": {
        "id": "NzKQsVJ3XrLV"
      }
    },
    {
      "cell_type": "markdown",
      "source": [
        "- **Equal**"
      ],
      "metadata": {
        "id": "XwhZiKcGX3e0"
      }
    },
    {
      "cell_type": "code",
      "source": [
        "5 == 5"
      ],
      "metadata": {
        "colab": {
          "base_uri": "https://localhost:8080/",
          "height": 34
        },
        "id": "C0MlNl_9WXDM",
        "outputId": "25d8b64c-f869-4160-e7b6-19bffebf951f"
      },
      "execution_count": 2,
      "outputs": [
        {
          "output_type": "display_data",
          "data": {
            "text/html": [
              "TRUE"
            ],
            "text/markdown": "TRUE",
            "text/latex": "TRUE",
            "text/plain": [
              "[1] TRUE"
            ]
          },
          "metadata": {}
        }
      ]
    },
    {
      "cell_type": "code",
      "source": [
        "8 == 9"
      ],
      "metadata": {
        "colab": {
          "base_uri": "https://localhost:8080/",
          "height": 34
        },
        "id": "VubZWZZFX8Uf",
        "outputId": "bfa65b4a-f183-4b6e-c1f7-413c11732e71"
      },
      "execution_count": 3,
      "outputs": [
        {
          "output_type": "display_data",
          "data": {
            "text/html": [
              "FALSE"
            ],
            "text/markdown": "FALSE",
            "text/latex": "FALSE",
            "text/plain": [
              "[1] FALSE"
            ]
          },
          "metadata": {}
        }
      ]
    },
    {
      "cell_type": "markdown",
      "source": [
        "- **Not Equal**"
      ],
      "metadata": {
        "id": "gtRDPiMdYCJs"
      }
    },
    {
      "cell_type": "code",
      "source": [
        "5 != 6"
      ],
      "metadata": {
        "colab": {
          "base_uri": "https://localhost:8080/",
          "height": 34
        },
        "id": "mt3cNhUaX-Uv",
        "outputId": "aa9165b5-2f75-41b8-d96f-b214de56dcb6"
      },
      "execution_count": 4,
      "outputs": [
        {
          "output_type": "display_data",
          "data": {
            "text/html": [
              "TRUE"
            ],
            "text/markdown": "TRUE",
            "text/latex": "TRUE",
            "text/plain": [
              "[1] TRUE"
            ]
          },
          "metadata": {}
        }
      ]
    },
    {
      "cell_type": "code",
      "source": [
        "5 != 5"
      ],
      "metadata": {
        "colab": {
          "base_uri": "https://localhost:8080/",
          "height": 34
        },
        "id": "9R5mHiwqX--d",
        "outputId": "64f87e28-03c7-427b-d67d-41819da6cd35"
      },
      "execution_count": 5,
      "outputs": [
        {
          "output_type": "display_data",
          "data": {
            "text/html": [
              "FALSE"
            ],
            "text/markdown": "FALSE",
            "text/latex": "FALSE",
            "text/plain": [
              "[1] FALSE"
            ]
          },
          "metadata": {}
        }
      ]
    },
    {
      "cell_type": "markdown",
      "source": [
        "In R, the equality (==) and inequality (!=) operations can also be performed on vectors. However, R compares elements in the same positions, so the order matters for vectors:"
      ],
      "metadata": {
        "id": "XQ4aD29mZVoT"
      }
    },
    {
      "cell_type": "code",
      "source": [
        "#Example of vector comparison\n",
        "c(1, 2) == c(2, 1)"
      ],
      "metadata": {
        "colab": {
          "base_uri": "https://localhost:8080/",
          "height": 34
        },
        "id": "voqg2y94ZcH0",
        "outputId": "b77feee6-157b-40c3-8cb1-5dd3247e8220"
      },
      "execution_count": 6,
      "outputs": [
        {
          "output_type": "display_data",
          "data": {
            "text/html": [
              "<style>\n",
              ".list-inline {list-style: none; margin:0; padding: 0}\n",
              ".list-inline>li {display: inline-block}\n",
              ".list-inline>li:not(:last-child)::after {content: \"\\00b7\"; padding: 0 .5ex}\n",
              "</style>\n",
              "<ol class=list-inline><li>FALSE</li><li>FALSE</li></ol>\n"
            ],
            "text/markdown": "1. FALSE\n2. FALSE\n\n\n",
            "text/latex": "\\begin{enumerate*}\n\\item FALSE\n\\item FALSE\n\\end{enumerate*}\n",
            "text/plain": [
              "[1] FALSE FALSE"
            ]
          },
          "metadata": {}
        }
      ]
    },
    {
      "cell_type": "markdown",
      "source": [
        "- **Less than**"
      ],
      "metadata": {
        "id": "IAD57ZY-YqMT"
      }
    },
    {
      "cell_type": "code",
      "source": [
        "2 < 6"
      ],
      "metadata": {
        "colab": {
          "base_uri": "https://localhost:8080/",
          "height": 34
        },
        "id": "3Faa-VzKYAcc",
        "outputId": "987484be-3dfa-485d-e02d-32a645962029"
      },
      "execution_count": 7,
      "outputs": [
        {
          "output_type": "display_data",
          "data": {
            "text/html": [
              "TRUE"
            ],
            "text/markdown": "TRUE",
            "text/latex": "TRUE",
            "text/plain": [
              "[1] TRUE"
            ]
          },
          "metadata": {}
        }
      ]
    },
    {
      "cell_type": "code",
      "source": [
        "5 < 2"
      ],
      "metadata": {
        "colab": {
          "base_uri": "https://localhost:8080/",
          "height": 34
        },
        "id": "piV4o8cwX-5_",
        "outputId": "0856e8a1-161d-4f0a-bfcf-c8bb5380cc30"
      },
      "execution_count": 8,
      "outputs": [
        {
          "output_type": "display_data",
          "data": {
            "text/html": [
              "FALSE"
            ],
            "text/markdown": "FALSE",
            "text/latex": "FALSE",
            "text/plain": [
              "[1] FALSE"
            ]
          },
          "metadata": {}
        }
      ]
    },
    {
      "cell_type": "markdown",
      "source": [
        "- **Less than or equal to**"
      ],
      "metadata": {
        "id": "Zn4YIUucYzjF"
      }
    },
    {
      "cell_type": "code",
      "source": [
        "4 <= 4"
      ],
      "metadata": {
        "colab": {
          "base_uri": "https://localhost:8080/",
          "height": 34
        },
        "id": "HBJavx4MYwu_",
        "outputId": "4e8e20fb-0b91-4871-8af0-c769e3d625b9"
      },
      "execution_count": 9,
      "outputs": [
        {
          "output_type": "display_data",
          "data": {
            "text/html": [
              "TRUE"
            ],
            "text/markdown": "TRUE",
            "text/latex": "TRUE",
            "text/plain": [
              "[1] TRUE"
            ]
          },
          "metadata": {}
        }
      ]
    },
    {
      "cell_type": "code",
      "source": [
        "8 <= 4"
      ],
      "metadata": {
        "colab": {
          "base_uri": "https://localhost:8080/",
          "height": 34
        },
        "id": "m_tdwjscYwqD",
        "outputId": "c7e12da1-a87e-4251-b42d-4cee9e29480d"
      },
      "execution_count": 10,
      "outputs": [
        {
          "output_type": "display_data",
          "data": {
            "text/html": [
              "FALSE"
            ],
            "text/markdown": "FALSE",
            "text/latex": "FALSE",
            "text/plain": [
              "[1] FALSE"
            ]
          },
          "metadata": {}
        }
      ]
    },
    {
      "cell_type": "markdown",
      "source": [
        "- **Greater than**"
      ],
      "metadata": {
        "id": "csGWb-6oY77D"
      }
    },
    {
      "cell_type": "code",
      "source": [
        "6>4"
      ],
      "metadata": {
        "colab": {
          "base_uri": "https://localhost:8080/",
          "height": 34
        },
        "id": "queKrMfMYwlB",
        "outputId": "ccc88d40-c81a-4f0e-fbae-0a818a4633e4"
      },
      "execution_count": 11,
      "outputs": [
        {
          "output_type": "display_data",
          "data": {
            "text/html": [
              "TRUE"
            ],
            "text/markdown": "TRUE",
            "text/latex": "TRUE",
            "text/plain": [
              "[1] TRUE"
            ]
          },
          "metadata": {}
        }
      ]
    },
    {
      "cell_type": "code",
      "source": [
        "2>3"
      ],
      "metadata": {
        "colab": {
          "base_uri": "https://localhost:8080/",
          "height": 34
        },
        "id": "vQ-FQ9-rX-1F",
        "outputId": "74b22103-d638-4d1c-825e-132324ed1620"
      },
      "execution_count": 12,
      "outputs": [
        {
          "output_type": "display_data",
          "data": {
            "text/html": [
              "FALSE"
            ],
            "text/markdown": "FALSE",
            "text/latex": "FALSE",
            "text/plain": [
              "[1] FALSE"
            ]
          },
          "metadata": {}
        }
      ]
    },
    {
      "cell_type": "markdown",
      "source": [
        "- **Greater than or equal to**"
      ],
      "metadata": {
        "id": "MLhqB2DjZGO5"
      }
    },
    {
      "cell_type": "code",
      "source": [
        "3 >= 3"
      ],
      "metadata": {
        "colab": {
          "base_uri": "https://localhost:8080/",
          "height": 34
        },
        "id": "A-szfcfMZIh7",
        "outputId": "b2b2dc08-bcae-4cf4-ca39-0d5f754f7700"
      },
      "execution_count": 13,
      "outputs": [
        {
          "output_type": "display_data",
          "data": {
            "text/html": [
              "TRUE"
            ],
            "text/markdown": "TRUE",
            "text/latex": "TRUE",
            "text/plain": [
              "[1] TRUE"
            ]
          },
          "metadata": {}
        }
      ]
    },
    {
      "cell_type": "code",
      "source": [
        "1 >= 7"
      ],
      "metadata": {
        "colab": {
          "base_uri": "https://localhost:8080/",
          "height": 34
        },
        "id": "dgKIi-nIZIoS",
        "outputId": "ac55b04e-3e40-481e-9000-993f4ab0c859"
      },
      "execution_count": 14,
      "outputs": [
        {
          "output_type": "display_data",
          "data": {
            "text/html": [
              "FALSE"
            ],
            "text/markdown": "FALSE",
            "text/latex": "FALSE",
            "text/plain": [
              "[1] FALSE"
            ]
          },
          "metadata": {}
        }
      ]
    },
    {
      "cell_type": "markdown",
      "source": [
        "<a name='Logical_Operators'></a>\n",
        "\n",
        "## 7.3. Logical Operators:"
      ],
      "metadata": {
        "id": "pLEwyx1_aG2L"
      }
    },
    {
      "cell_type": "markdown",
      "source": [
        "<table>\n",
        "  <thead>\n",
        "    <tr>\n",
        "      <th>Operator</th>\n",
        "      <th>Description</th>\n",
        "      <th>Example</th>\n",
        "      <th>Output</th>\n",
        "    </tr>\n",
        "  </thead>\n",
        "  <tbody>\n",
        "    <tr>\n",
        "      <td>&</td>\n",
        "      <td>Element-wise AND</td>\n",
        "      <td>(TRUE & FALSE)</td>\n",
        "      <td>FALSE</td>\n",
        "    </tr>\n",
        "    <tr>\n",
        "      <td>|</td>\n",
        "      <td>Element-wise OR</td>\n",
        "      <td>(TRUE | FALSE)</td>\n",
        "      <td>TRUE</td>\n",
        "    </tr>\n",
        "    <tr>\n",
        "      <td>!</td>\n",
        "      <td>NOT</td>\n",
        "      <td>!TRUE</td>\n",
        "      <td>FALSE</td>\n",
        "    </tr>\n",
        "    <tr>\n",
        "      <td>&&</td>\n",
        "      <td>Short-circuit AND (only evaluates the first element)</td>\n",
        "      <td>(TRUE && FALSE)</td>\n",
        "      <td>FALSE</td>\n",
        "    </tr>\n",
        "    <tr>\n",
        "      <td>||</td>\n",
        "      <td>Short-circuit OR (only evaluates the first element)</td>\n",
        "      <td>(TRUE || FALSE)</td>\n",
        "      <td>TRUE</td>\n",
        "    </tr>\n",
        "  </tbody>\n",
        "</table>"
      ],
      "metadata": {
        "id": "LFwDNutNYgr4"
      }
    },
    {
      "cell_type": "markdown",
      "source": [
        "**1. AND Operator (& and &&)**\n",
        "\n",
        "- `&`: Element-wise logical AND (used with vectors).\n",
        "- `&&`: Short-circuit logical AND (only evaluates the first element)."
      ],
      "metadata": {
        "id": "IzpfShzpbNGy"
      }
    },
    {
      "cell_type": "code",
      "source": [
        "x <- c(5, 10, 15)\n",
        "y <- c(10, 10, 10)\n",
        "\n",
        "x & y"
      ],
      "metadata": {
        "colab": {
          "base_uri": "https://localhost:8080/",
          "height": 34
        },
        "id": "KZEfNXt4aM0_",
        "outputId": "5862144e-4073-49ed-b98f-90bbc9c2fa5c"
      },
      "execution_count": 15,
      "outputs": [
        {
          "output_type": "display_data",
          "data": {
            "text/html": [
              "<style>\n",
              ".list-inline {list-style: none; margin:0; padding: 0}\n",
              ".list-inline>li {display: inline-block}\n",
              ".list-inline>li:not(:last-child)::after {content: \"\\00b7\"; padding: 0 .5ex}\n",
              "</style>\n",
              "<ol class=list-inline><li>TRUE</li><li>TRUE</li><li>TRUE</li></ol>\n"
            ],
            "text/markdown": "1. TRUE\n2. TRUE\n3. TRUE\n\n\n",
            "text/latex": "\\begin{enumerate*}\n\\item TRUE\n\\item TRUE\n\\item TRUE\n\\end{enumerate*}\n",
            "text/plain": [
              "[1] TRUE TRUE TRUE"
            ]
          },
          "metadata": {}
        }
      ]
    },
    {
      "cell_type": "code",
      "source": [
        "(x > 5) & (y == 10)"
      ],
      "metadata": {
        "colab": {
          "base_uri": "https://localhost:8080/",
          "height": 34
        },
        "id": "C6TCLQN1b2Zg",
        "outputId": "da2c9df8-31c0-43e6-93f4-3f6ae7b1f5a8"
      },
      "execution_count": 16,
      "outputs": [
        {
          "output_type": "display_data",
          "data": {
            "text/html": [
              "<style>\n",
              ".list-inline {list-style: none; margin:0; padding: 0}\n",
              ".list-inline>li {display: inline-block}\n",
              ".list-inline>li:not(:last-child)::after {content: \"\\00b7\"; padding: 0 .5ex}\n",
              "</style>\n",
              "<ol class=list-inline><li>FALSE</li><li>TRUE</li><li>TRUE</li></ol>\n"
            ],
            "text/markdown": "1. FALSE\n2. TRUE\n3. TRUE\n\n\n",
            "text/latex": "\\begin{enumerate*}\n\\item FALSE\n\\item TRUE\n\\item TRUE\n\\end{enumerate*}\n",
            "text/plain": [
              "[1] FALSE  TRUE  TRUE"
            ]
          },
          "metadata": {}
        }
      ]
    },
    {
      "cell_type": "code",
      "source": [
        "a <- 5\n",
        "b <- 10\n",
        "\n",
        "(a > 3) && (b < 15)"
      ],
      "metadata": {
        "colab": {
          "base_uri": "https://localhost:8080/",
          "height": 34
        },
        "id": "EzUI5fsFaMra",
        "outputId": "109ed65a-9de2-4072-8a5f-04c929640751"
      },
      "execution_count": 17,
      "outputs": [
        {
          "output_type": "display_data",
          "data": {
            "text/html": [
              "TRUE"
            ],
            "text/markdown": "TRUE",
            "text/latex": "TRUE",
            "text/plain": [
              "[1] TRUE"
            ]
          },
          "metadata": {}
        }
      ]
    },
    {
      "cell_type": "markdown",
      "source": [
        "**2. OR Operator (| and ||)**\n",
        "\n",
        "- `|`: Element-wise logical OR (used with vectors).\n",
        "- `||`: Short-circuit logical OR (only evaluates the first element)."
      ],
      "metadata": {
        "id": "5UMznDtYdkQC"
      }
    },
    {
      "cell_type": "code",
      "source": [
        "x | y"
      ],
      "metadata": {
        "colab": {
          "base_uri": "https://localhost:8080/",
          "height": 34
        },
        "id": "oWFu5gEraMmW",
        "outputId": "43bd5e30-d30d-4cb3-ef03-7f2280d6890d"
      },
      "execution_count": 18,
      "outputs": [
        {
          "output_type": "display_data",
          "data": {
            "text/html": [
              "<style>\n",
              ".list-inline {list-style: none; margin:0; padding: 0}\n",
              ".list-inline>li {display: inline-block}\n",
              ".list-inline>li:not(:last-child)::after {content: \"\\00b7\"; padding: 0 .5ex}\n",
              "</style>\n",
              "<ol class=list-inline><li>TRUE</li><li>TRUE</li><li>TRUE</li></ol>\n"
            ],
            "text/markdown": "1. TRUE\n2. TRUE\n3. TRUE\n\n\n",
            "text/latex": "\\begin{enumerate*}\n\\item TRUE\n\\item TRUE\n\\item TRUE\n\\end{enumerate*}\n",
            "text/plain": [
              "[1] TRUE TRUE TRUE"
            ]
          },
          "metadata": {}
        }
      ]
    },
    {
      "cell_type": "code",
      "source": [
        "(a > 6) || (b < 5)"
      ],
      "metadata": {
        "colab": {
          "base_uri": "https://localhost:8080/",
          "height": 34
        },
        "id": "p8NRjT7KaMhu",
        "outputId": "2e9fd642-4f49-4f0d-d0b4-e4beead4d699"
      },
      "execution_count": 19,
      "outputs": [
        {
          "output_type": "display_data",
          "data": {
            "text/html": [
              "FALSE"
            ],
            "text/markdown": "FALSE",
            "text/latex": "FALSE",
            "text/plain": [
              "[1] FALSE"
            ]
          },
          "metadata": {}
        }
      ]
    },
    {
      "cell_type": "markdown",
      "source": [
        "R does not support chained comparison operators in the same way that Python does. In Python, you can write expressions like `1 < 2 < 3`, which evaluates to TRUE because both comparisons `(1 < 2 and 2 < 3)` are true. This is a feature of Python's syntax, allowing multiple comparisons to be evaluated in a single expression."
      ],
      "metadata": {
        "id": "g0DQJmHag0Pf"
      }
    }
  ]
}