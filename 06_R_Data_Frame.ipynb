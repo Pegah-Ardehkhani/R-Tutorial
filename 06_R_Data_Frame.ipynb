{
  "nbformat": 4,
  "nbformat_minor": 0,
  "metadata": {
    "colab": {
      "provenance": []
    },
    "kernelspec": {
      "name": "ir",
      "display_name": "R"
    },
    "language_info": {
      "name": "R"
    }
  },
  "cells": [
    {
      "cell_type": "markdown",
      "source": [
        "# 6. Data Frame"
      ],
      "metadata": {
        "id": "GznDuobHuIHu"
      }
    },
    {
      "cell_type": "markdown",
      "source": [
        "This section will guide you through the process of creating, manipulating, and efficiently working with data frames.\n",
        "\n",
        "A **data frame** in R is a table-like data structure used for storing data. It is one of the most commonly used data structures in R for data analysis, as it can hold different types of data (numeric, character, factor, etc.) in a rectangular format with rows and columns. Each column in a data frame can be of a different data type, making it similar to a table or spreadsheet. The rows typically represent observations or records, while the columns represent variables or features.\n",
        "\n",
        "We'll learn about the following topics:\n",
        "\n",
        "   - [6.1. Creating Data Frames](#Creating_DataFrame)\n",
        "   - [6.2. Data Frame Indexing and Slicing](#DataFrame_Indexing_and_Slicing)\n",
        "   - [6.3. Built-in Data Frame Functions](#Builtin_DataFrame_Functions)\n",
        "   - [6.4. Data Frame Properties](#DataFrame_Properties)"
      ],
      "metadata": {
        "id": "o2t_xy6xvFn3"
      }
    },
    {
      "cell_type": "markdown",
      "source": [
        "<p align=\"center\">\n",
        "  <img width=\"700\" height=\"400\" src=\"https://media.geeksforgeeks.org/wp-content/uploads/20200414224825/f115.png\">\n",
        "</p>"
      ],
      "metadata": {
        "id": "4YT6jOwMzV4e"
      }
    },
    {
      "cell_type": "markdown",
      "source": [
        "<a name='Creating_DataFrames'></a>\n",
        "\n",
        "## 6.1. Creating Data Frames:"
      ],
      "metadata": {
        "id": "mKQ5wne3wIoQ"
      }
    },
    {
      "cell_type": "markdown",
      "source": [
        "To create a data frame in R, you use the `data.frame()` function."
      ],
      "metadata": {
        "id": "Tz5eBifuytos"
      }
    },
    {
      "cell_type": "code",
      "source": [
        "#Create a data frame\n",
        "df <- data.frame(\n",
        "  Name = c(\"Alice\", \"Bob\", \"Charlie\"),\n",
        "  Age = c(30, 35, 25),\n",
        "  Height = c(165, 175, 170),\n",
        "  Married = c(TRUE, FALSE, TRUE)\n",
        ")\n",
        "\n",
        "#Print the data frame\n",
        "print(df)"
      ],
      "metadata": {
        "colab": {
          "base_uri": "https://localhost:8080/"
        },
        "id": "4vQnNgNFfXY1",
        "outputId": "1660f73a-983d-4837-ae7c-cdb1ab50eb14"
      },
      "execution_count": 1,
      "outputs": [
        {
          "output_type": "stream",
          "name": "stdout",
          "text": [
            "     Name Age Height Married\n",
            "1   Alice  30    165    TRUE\n",
            "2     Bob  35    175   FALSE\n",
            "3 Charlie  25    170    TRUE\n"
          ]
        }
      ]
    },
    {
      "cell_type": "markdown",
      "source": [
        "To read a data frame from a CSV file in R, you can use the read.csv() function. Here’s the general syntax:\n",
        "\n",
        "`data_frame_name <- read.csv(\"path/to/your/file.csv\", header = TRUE, sep = \",\")\n",
        "`\n",
        "\n",
        "- data_frame_name: This is the name you want to assign to your data frame.\n",
        "\"path/to/your/file.csv\": Replace this with the actual path to your CSV file.\n",
        "- header: Logical value indicating whether the first row of the file contains column names. Set to TRUE (default) if your CSV has headers, otherwise set to FALSE.\n",
        "- sep: Specifies the character that separates the values in the file. The default is a comma (,), but you can change it if your data uses a different separator (e.g., sep = \"\\t\" for tab-separated values)"
      ],
      "metadata": {
        "id": "Y3X6xs7wOAFv"
      }
    },
    {
      "cell_type": "markdown",
      "source": [
        "**Matrix vs. Dataframe**\n",
        "\n",
        "<table>\n",
        "  <thead>\n",
        "    <tr>\n",
        "      <th>Matrix</th>\n",
        "      <th>Dataframe</th>\n",
        "    </tr>\n",
        "  </thead>\n",
        "  <tbody>\n",
        "    <tr>\n",
        "      <td>Collection of data sets arranged in a two-dimensional rectangular organization.</td>\n",
        "      <td>Stores data tables that contain multiple data types in multiple columns called fields.</td>\n",
        "    </tr>\n",
        "    <tr>\n",
        "      <td>It’s an m*n array with a similar data type.</td>\n",
        "      <td>It is a list of vectors of equal length. It is a generalized form of a matrix.</td>\n",
        "    </tr>\n",
        "    <tr>\n",
        "      <td>It has a fixed number of rows and columns.</td>\n",
        "      <td>It has a variable number of rows and columns.</td>\n",
        "    </tr>\n",
        "    <tr>\n",
        "      <td>The data stored in columns can be only of the same data type.</td>\n",
        "      <td>The data stored must be numeric, character, or factor type.</td>\n",
        "    </tr>\n",
        "    <tr>\n",
        "      <td>Matrix is homogeneous.</td>\n",
        "      <td>DataFrames are heterogeneous.</td>\n",
        "    </tr>\n",
        "  </tbody>\n",
        "</table>\n"
      ],
      "metadata": {
        "id": "gZy66b9KDwHT"
      }
    },
    {
      "cell_type": "markdown",
      "source": [
        "<a name='DataFrame_Indexing_and_Slicing'></a>\n",
        "\n",
        "## 6.2. Data Frame Indexing and Slicing:"
      ],
      "metadata": {
        "id": "iIFNMo8Y0ByT"
      }
    },
    {
      "cell_type": "markdown",
      "source": [
        "You can access individual columns, rows, or elements within a data frame using several different methods:\n",
        "\n",
        "**1. Access by Column Name:**"
      ],
      "metadata": {
        "id": "X4SAluUA0O4p"
      }
    },
    {
      "cell_type": "code",
      "source": [
        "#Access the \"Age\" column\n",
        "df$Age"
      ],
      "metadata": {
        "colab": {
          "base_uri": "https://localhost:8080/",
          "height": 34
        },
        "id": "x20XWvke0LCU",
        "outputId": "14c20a51-5c34-473a-c3df-9ba52b4d4843"
      },
      "execution_count": 2,
      "outputs": [
        {
          "output_type": "display_data",
          "data": {
            "text/html": [
              "<style>\n",
              ".list-inline {list-style: none; margin:0; padding: 0}\n",
              ".list-inline>li {display: inline-block}\n",
              ".list-inline>li:not(:last-child)::after {content: \"\\00b7\"; padding: 0 .5ex}\n",
              "</style>\n",
              "<ol class=list-inline><li>30</li><li>35</li><li>25</li></ol>\n"
            ],
            "text/markdown": "1. 30\n2. 35\n3. 25\n\n\n",
            "text/latex": "\\begin{enumerate*}\n\\item 30\n\\item 35\n\\item 25\n\\end{enumerate*}\n",
            "text/plain": [
              "[1] 30 35 25"
            ]
          },
          "metadata": {}
        }
      ]
    },
    {
      "cell_type": "code",
      "source": [
        "df[[\"Name\"]]"
      ],
      "metadata": {
        "colab": {
          "base_uri": "https://localhost:8080/",
          "height": 34
        },
        "id": "bL9MFajb1ExD",
        "outputId": "b4771028-6f75-42df-d503-0d269489a74a"
      },
      "execution_count": 3,
      "outputs": [
        {
          "output_type": "display_data",
          "data": {
            "text/html": [
              "<style>\n",
              ".list-inline {list-style: none; margin:0; padding: 0}\n",
              ".list-inline>li {display: inline-block}\n",
              ".list-inline>li:not(:last-child)::after {content: \"\\00b7\"; padding: 0 .5ex}\n",
              "</style>\n",
              "<ol class=list-inline><li>'Alice'</li><li>'Bob'</li><li>'Charlie'</li></ol>\n"
            ],
            "text/markdown": "1. 'Alice'\n2. 'Bob'\n3. 'Charlie'\n\n\n",
            "text/latex": "\\begin{enumerate*}\n\\item 'Alice'\n\\item 'Bob'\n\\item 'Charlie'\n\\end{enumerate*}\n",
            "text/plain": [
              "[1] \"Alice\"   \"Bob\"     \"Charlie\""
            ]
          },
          "metadata": {}
        }
      ]
    },
    {
      "cell_type": "code",
      "source": [
        "df[[\"Name\"]][2]"
      ],
      "metadata": {
        "colab": {
          "base_uri": "https://localhost:8080/",
          "height": 34
        },
        "id": "_Hj42PYtB2Sj",
        "outputId": "08d92f64-2649-4fdc-c054-ef1ebbbda716"
      },
      "execution_count": 4,
      "outputs": [
        {
          "output_type": "display_data",
          "data": {
            "text/html": [
              "'Bob'"
            ],
            "text/markdown": "'Bob'",
            "text/latex": "'Bob'",
            "text/plain": [
              "[1] \"Bob\""
            ]
          },
          "metadata": {}
        }
      ]
    },
    {
      "cell_type": "markdown",
      "source": [
        "**2. Access by Indexing:**"
      ],
      "metadata": {
        "id": "cCszM-jD0j0W"
      }
    },
    {
      "cell_type": "code",
      "source": [
        "#Access the first row\n",
        "df[1, ]"
      ],
      "metadata": {
        "colab": {
          "base_uri": "https://localhost:8080/",
          "height": 129
        },
        "id": "jG6GRRSb0K3u",
        "outputId": "fe897385-760c-4f05-c27e-fdadab0a3ef3"
      },
      "execution_count": 5,
      "outputs": [
        {
          "output_type": "display_data",
          "data": {
            "text/html": [
              "<table class=\"dataframe\">\n",
              "<caption>A data.frame: 1 × 4</caption>\n",
              "<thead>\n",
              "\t<tr><th></th><th scope=col>Name</th><th scope=col>Age</th><th scope=col>Height</th><th scope=col>Married</th></tr>\n",
              "\t<tr><th></th><th scope=col>&lt;chr&gt;</th><th scope=col>&lt;dbl&gt;</th><th scope=col>&lt;dbl&gt;</th><th scope=col>&lt;lgl&gt;</th></tr>\n",
              "</thead>\n",
              "<tbody>\n",
              "\t<tr><th scope=row>1</th><td>Alice</td><td>30</td><td>165</td><td>TRUE</td></tr>\n",
              "</tbody>\n",
              "</table>\n"
            ],
            "text/markdown": "\nA data.frame: 1 × 4\n\n| <!--/--> | Name &lt;chr&gt; | Age &lt;dbl&gt; | Height &lt;dbl&gt; | Married &lt;lgl&gt; |\n|---|---|---|---|---|\n| 1 | Alice | 30 | 165 | TRUE |\n\n",
            "text/latex": "A data.frame: 1 × 4\n\\begin{tabular}{r|llll}\n  & Name & Age & Height & Married\\\\\n  & <chr> & <dbl> & <dbl> & <lgl>\\\\\n\\hline\n\t1 & Alice & 30 & 165 & TRUE\\\\\n\\end{tabular}\n",
            "text/plain": [
              "  Name  Age Height Married\n",
              "1 Alice 30  165    TRUE   "
            ]
          },
          "metadata": {}
        }
      ]
    },
    {
      "cell_type": "code",
      "source": [
        "#Access the first column\n",
        "df[, 1]"
      ],
      "metadata": {
        "colab": {
          "base_uri": "https://localhost:8080/",
          "height": 34
        },
        "id": "tTQIVDDDweI5",
        "outputId": "3d694f4e-c42b-4fcf-a816-8675ed5a9d99"
      },
      "execution_count": 6,
      "outputs": [
        {
          "output_type": "display_data",
          "data": {
            "text/html": [
              "<style>\n",
              ".list-inline {list-style: none; margin:0; padding: 0}\n",
              ".list-inline>li {display: inline-block}\n",
              ".list-inline>li:not(:last-child)::after {content: \"\\00b7\"; padding: 0 .5ex}\n",
              "</style>\n",
              "<ol class=list-inline><li>'Alice'</li><li>'Bob'</li><li>'Charlie'</li></ol>\n"
            ],
            "text/markdown": "1. 'Alice'\n2. 'Bob'\n3. 'Charlie'\n\n\n",
            "text/latex": "\\begin{enumerate*}\n\\item 'Alice'\n\\item 'Bob'\n\\item 'Charlie'\n\\end{enumerate*}\n",
            "text/plain": [
              "[1] \"Alice\"   \"Bob\"     \"Charlie\""
            ]
          },
          "metadata": {}
        }
      ]
    },
    {
      "cell_type": "markdown",
      "source": [
        "n R, you can use negative indexing to exclude specific elements from a data structure, such as a data frame."
      ],
      "metadata": {
        "id": "PlJ9xA_nDNOy"
      }
    },
    {
      "cell_type": "code",
      "source": [
        "#Exclude the first column\n",
        "df[, -1]"
      ],
      "metadata": {
        "colab": {
          "base_uri": "https://localhost:8080/",
          "height": 192
        },
        "id": "_xR4DrMWCaOb",
        "outputId": "d0f4dbbb-78bf-4eba-bdbc-0c79f247b08c"
      },
      "execution_count": 7,
      "outputs": [
        {
          "output_type": "display_data",
          "data": {
            "text/html": [
              "<table class=\"dataframe\">\n",
              "<caption>A data.frame: 3 × 3</caption>\n",
              "<thead>\n",
              "\t<tr><th scope=col>Age</th><th scope=col>Height</th><th scope=col>Married</th></tr>\n",
              "\t<tr><th scope=col>&lt;dbl&gt;</th><th scope=col>&lt;dbl&gt;</th><th scope=col>&lt;lgl&gt;</th></tr>\n",
              "</thead>\n",
              "<tbody>\n",
              "\t<tr><td>30</td><td>165</td><td> TRUE</td></tr>\n",
              "\t<tr><td>35</td><td>175</td><td>FALSE</td></tr>\n",
              "\t<tr><td>25</td><td>170</td><td> TRUE</td></tr>\n",
              "</tbody>\n",
              "</table>\n"
            ],
            "text/markdown": "\nA data.frame: 3 × 3\n\n| Age &lt;dbl&gt; | Height &lt;dbl&gt; | Married &lt;lgl&gt; |\n|---|---|---|\n| 30 | 165 |  TRUE |\n| 35 | 175 | FALSE |\n| 25 | 170 |  TRUE |\n\n",
            "text/latex": "A data.frame: 3 × 3\n\\begin{tabular}{lll}\n Age & Height & Married\\\\\n <dbl> & <dbl> & <lgl>\\\\\n\\hline\n\t 30 & 165 &  TRUE\\\\\n\t 35 & 175 & FALSE\\\\\n\t 25 & 170 &  TRUE\\\\\n\\end{tabular}\n",
            "text/plain": [
              "  Age Height Married\n",
              "1 30  165     TRUE  \n",
              "2 35  175    FALSE  \n",
              "3 25  170     TRUE  "
            ]
          },
          "metadata": {}
        }
      ]
    },
    {
      "cell_type": "code",
      "source": [
        "#Access a specific element (row 2, column 3)\n",
        "df[2, 3]"
      ],
      "metadata": {
        "colab": {
          "base_uri": "https://localhost:8080/",
          "height": 34
        },
        "id": "R9s135yw0uHR",
        "outputId": "00b165c9-562f-4728-dd1d-896150f17e72"
      },
      "execution_count": 8,
      "outputs": [
        {
          "output_type": "display_data",
          "data": {
            "text/html": [
              "175"
            ],
            "text/markdown": "175",
            "text/latex": "175",
            "text/plain": [
              "[1] 175"
            ]
          },
          "metadata": {}
        }
      ]
    },
    {
      "cell_type": "code",
      "source": [
        "df[c(2,4), c(1,2)]"
      ],
      "metadata": {
        "colab": {
          "base_uri": "https://localhost:8080/",
          "height": 161
        },
        "id": "hkGynEHB0upc",
        "outputId": "758cb529-560f-49b0-d9fd-653e8a57d0df"
      },
      "execution_count": 9,
      "outputs": [
        {
          "output_type": "display_data",
          "data": {
            "text/html": [
              "<table class=\"dataframe\">\n",
              "<caption>A data.frame: 2 × 2</caption>\n",
              "<thead>\n",
              "\t<tr><th></th><th scope=col>Name</th><th scope=col>Age</th></tr>\n",
              "\t<tr><th></th><th scope=col>&lt;chr&gt;</th><th scope=col>&lt;dbl&gt;</th></tr>\n",
              "</thead>\n",
              "<tbody>\n",
              "\t<tr><th scope=row>2</th><td>Bob</td><td>35</td></tr>\n",
              "\t<tr><th scope=row>NA</th><td>NA </td><td>NA</td></tr>\n",
              "</tbody>\n",
              "</table>\n"
            ],
            "text/markdown": "\nA data.frame: 2 × 2\n\n| <!--/--> | Name &lt;chr&gt; | Age &lt;dbl&gt; |\n|---|---|---|\n| 2 | Bob | 35 |\n| NA | NA  | NA |\n\n",
            "text/latex": "A data.frame: 2 × 2\n\\begin{tabular}{r|ll}\n  & Name & Age\\\\\n  & <chr> & <dbl>\\\\\n\\hline\n\t2 & Bob & 35\\\\\n\tNA & NA  & NA\\\\\n\\end{tabular}\n",
            "text/plain": [
              "   Name Age\n",
              "2  Bob  35 \n",
              "NA NA   NA "
            ]
          },
          "metadata": {}
        }
      ]
    },
    {
      "cell_type": "code",
      "source": [
        "df[2:3, 1:2]"
      ],
      "metadata": {
        "colab": {
          "base_uri": "https://localhost:8080/",
          "height": 161
        },
        "id": "GQntjZGqEQo8",
        "outputId": "fa5bf93b-da19-455d-cc28-0779a09a9457"
      },
      "execution_count": 10,
      "outputs": [
        {
          "output_type": "display_data",
          "data": {
            "text/html": [
              "<table class=\"dataframe\">\n",
              "<caption>A data.frame: 2 × 2</caption>\n",
              "<thead>\n",
              "\t<tr><th></th><th scope=col>Name</th><th scope=col>Age</th></tr>\n",
              "\t<tr><th></th><th scope=col>&lt;chr&gt;</th><th scope=col>&lt;dbl&gt;</th></tr>\n",
              "</thead>\n",
              "<tbody>\n",
              "\t<tr><th scope=row>2</th><td>Bob    </td><td>35</td></tr>\n",
              "\t<tr><th scope=row>3</th><td>Charlie</td><td>25</td></tr>\n",
              "</tbody>\n",
              "</table>\n"
            ],
            "text/markdown": "\nA data.frame: 2 × 2\n\n| <!--/--> | Name &lt;chr&gt; | Age &lt;dbl&gt; |\n|---|---|---|\n| 2 | Bob     | 35 |\n| 3 | Charlie | 25 |\n\n",
            "text/latex": "A data.frame: 2 × 2\n\\begin{tabular}{r|ll}\n  & Name & Age\\\\\n  & <chr> & <dbl>\\\\\n\\hline\n\t2 & Bob     & 35\\\\\n\t3 & Charlie & 25\\\\\n\\end{tabular}\n",
            "text/plain": [
              "  Name    Age\n",
              "2 Bob     35 \n",
              "3 Charlie 25 "
            ]
          },
          "metadata": {}
        }
      ]
    },
    {
      "cell_type": "code",
      "source": [
        "df[df$Age>25, ]"
      ],
      "metadata": {
        "colab": {
          "base_uri": "https://localhost:8080/",
          "height": 161
        },
        "id": "DB7VGIAg-hKi",
        "outputId": "4e10d107-ad0a-4cfd-9861-86e0d9d52be0"
      },
      "execution_count": 11,
      "outputs": [
        {
          "output_type": "display_data",
          "data": {
            "text/html": [
              "<table class=\"dataframe\">\n",
              "<caption>A data.frame: 2 × 4</caption>\n",
              "<thead>\n",
              "\t<tr><th></th><th scope=col>Name</th><th scope=col>Age</th><th scope=col>Height</th><th scope=col>Married</th></tr>\n",
              "\t<tr><th></th><th scope=col>&lt;chr&gt;</th><th scope=col>&lt;dbl&gt;</th><th scope=col>&lt;dbl&gt;</th><th scope=col>&lt;lgl&gt;</th></tr>\n",
              "</thead>\n",
              "<tbody>\n",
              "\t<tr><th scope=row>1</th><td>Alice</td><td>30</td><td>165</td><td> TRUE</td></tr>\n",
              "\t<tr><th scope=row>2</th><td>Bob  </td><td>35</td><td>175</td><td>FALSE</td></tr>\n",
              "</tbody>\n",
              "</table>\n"
            ],
            "text/markdown": "\nA data.frame: 2 × 4\n\n| <!--/--> | Name &lt;chr&gt; | Age &lt;dbl&gt; | Height &lt;dbl&gt; | Married &lt;lgl&gt; |\n|---|---|---|---|---|\n| 1 | Alice | 30 | 165 |  TRUE |\n| 2 | Bob   | 35 | 175 | FALSE |\n\n",
            "text/latex": "A data.frame: 2 × 4\n\\begin{tabular}{r|llll}\n  & Name & Age & Height & Married\\\\\n  & <chr> & <dbl> & <dbl> & <lgl>\\\\\n\\hline\n\t1 & Alice & 30 & 165 &  TRUE\\\\\n\t2 & Bob   & 35 & 175 & FALSE\\\\\n\\end{tabular}\n",
            "text/plain": [
              "  Name  Age Height Married\n",
              "1 Alice 30  165     TRUE  \n",
              "2 Bob   35  175    FALSE  "
            ]
          },
          "metadata": {}
        }
      ]
    },
    {
      "cell_type": "markdown",
      "source": [
        "<a name='Builtin_DataFrame_Functions'></a>\n",
        "\n",
        "## 6.3. Built-in Data Frame Functions:"
      ],
      "metadata": {
        "id": "x890VfvGzvbM"
      }
    },
    {
      "cell_type": "markdown",
      "source": [
        "<table>\n",
        "  <thead>\n",
        "    <tr>\n",
        "      <th>Function</th>\n",
        "      <th>Description</th>\n",
        "    </tr>\n",
        "  </thead>\n",
        "  <tbody>\n",
        "    <tr>\n",
        "      <td>as.data.frame()</td>\n",
        "      <td>Convert a List to a Data Frame.</td>\n",
        "    </tr>\n",
        "    <tr>\n",
        "      <td>str()</td>\n",
        "      <td>Displays the structure of the data frame, including data types and a preview of each column.</td>\n",
        "    </tr>\n",
        "    <tr>\n",
        "      <td>nrow() and ncol()</td>\n",
        "      <td>Returns the number of rows and columns in a data frame.</td>\n",
        "    </tr>\n",
        "    <tr>\n",
        "      <td>dim()</td>\n",
        "      <td>Returns the dimensions of the data frame (number of rows and columns).</td>\n",
        "    </tr>\n",
        "    <tr>\n",
        "      <td>colnames() and rownames()</td>\n",
        "      <td>Get or set the column and row names of the data frame.</td>\n",
        "    </tr>\n",
        "    <tr>\n",
        "      <td>head() and tail()</td>\n",
        "      <td>Displays the first few or last few rows of the data frame.</td>\n",
        "    </tr>\n",
        "    <tr>\n",
        "      <td>summary()</td>\n",
        "      <td>Provides summary statistics for each column in the data frame.</td>\n",
        "    </tr>\n",
        "    <tr>\n",
        "      <td>subset()</td>\n",
        "      <td>Subsets a data frame based on conditions.</td>\n",
        "    </tr>\n",
        "    <tr>\n",
        "      <td>merge()</td>\n",
        "      <td>Merges two data frames by common columns or row names.</td>\n",
        "    </tr>\n",
        "    <tr>\n",
        "      <td>rbind() and cbind()</td>\n",
        "      <td>Binds data frames by rows or columns.</td>\n",
        "    </tr>\n",
        "    <tr>\n",
        "      <td>apply()</td>\n",
        "      <td>Applies a function to rows or columns of the data frame.</td>\n",
        "    </tr>\n",
        "    <tr>\n",
        "      <td>is.data.frame()</td>\n",
        "      <td>Checks if an object is a data frame.</td>\n",
        "    </tr>\n",
        "    <tr>\n",
        "      <td>order()</td>\n",
        "      <td>Sorts a data frame by one or more columns.</td>\n",
        "    </tr>\n",
        "    <tr>\n",
        "      <td>duplicated() and unique()</td>\n",
        "      <td>Finds duplicate rows or returns unique rows.</td>\n",
        "    </tr>\n",
        "    <tr>\n",
        "      <td>transform()</td>\n",
        "      <td>Adds new columns or transforms existing columns.</td>\n",
        "    </tr>\n",
        "  </tbody>\n",
        "</table>"
      ],
      "metadata": {
        "id": "pBI34pPtPcd4"
      }
    },
    {
      "cell_type": "markdown",
      "source": [
        "**`as.data.frame()`**: Convert a List to a Data Frame."
      ],
      "metadata": {
        "id": "oCe0iAti5A3x"
      }
    },
    {
      "cell_type": "code",
      "source": [
        "lst <- list(Name = c(\"Alice\", \"Bob\"), Age = c(25, 30))\n",
        "\n",
        "df_lst <- as.data.frame(lst)\n",
        "\n",
        "print(df_lst)"
      ],
      "metadata": {
        "colab": {
          "base_uri": "https://localhost:8080/"
        },
        "id": "rAXCiAEy0LbM",
        "outputId": "97293a31-2483-42c7-a136-87bf4174987c"
      },
      "execution_count": 12,
      "outputs": [
        {
          "output_type": "stream",
          "name": "stdout",
          "text": [
            "   Name Age\n",
            "1 Alice  25\n",
            "2   Bob  30\n"
          ]
        }
      ]
    },
    {
      "cell_type": "markdown",
      "source": [
        "**`str()`**: Displays the structure of the data frame, including data types and a preview of each column."
      ],
      "metadata": {
        "id": "hhpv6Faw5i9P"
      }
    },
    {
      "cell_type": "code",
      "source": [
        "str(df)"
      ],
      "metadata": {
        "colab": {
          "base_uri": "https://localhost:8080/"
        },
        "id": "c4lpCH_60IgB",
        "outputId": "46531d5b-abf2-4b5f-f979-03460879f661"
      },
      "execution_count": 13,
      "outputs": [
        {
          "output_type": "stream",
          "name": "stdout",
          "text": [
            "'data.frame':\t3 obs. of  4 variables:\n",
            " $ Name   : chr  \"Alice\" \"Bob\" \"Charlie\"\n",
            " $ Age    : num  30 35 25\n",
            " $ Height : num  165 175 170\n",
            " $ Married: logi  TRUE FALSE TRUE\n"
          ]
        }
      ]
    },
    {
      "cell_type": "markdown",
      "source": [
        "**`nrow()`** and **`ncol()`**: Returns the number of rows and columns in a data frame."
      ],
      "metadata": {
        "id": "-1EijUeP9BLW"
      }
    },
    {
      "cell_type": "code",
      "source": [
        "nrow(df)\n",
        "ncol(df)"
      ],
      "metadata": {
        "colab": {
          "base_uri": "https://localhost:8080/",
          "height": 52
        },
        "id": "hGIfFCFT9AwS",
        "outputId": "d9eba9a4-7b99-48e5-878a-6a4f5f936283"
      },
      "execution_count": 14,
      "outputs": [
        {
          "output_type": "display_data",
          "data": {
            "text/html": [
              "3"
            ],
            "text/markdown": "3",
            "text/latex": "3",
            "text/plain": [
              "[1] 3"
            ]
          },
          "metadata": {}
        },
        {
          "output_type": "display_data",
          "data": {
            "text/html": [
              "4"
            ],
            "text/markdown": "4",
            "text/latex": "4",
            "text/plain": [
              "[1] 4"
            ]
          },
          "metadata": {}
        }
      ]
    },
    {
      "cell_type": "markdown",
      "source": [
        "**`dim()`**: Returns the dimensions of the data frame (number of rows and columns)."
      ],
      "metadata": {
        "id": "GX4X7EQi9Qxn"
      }
    },
    {
      "cell_type": "code",
      "source": [
        "dim(df)"
      ],
      "metadata": {
        "colab": {
          "base_uri": "https://localhost:8080/",
          "height": 34
        },
        "id": "X6KhBRnB9AsC",
        "outputId": "3bdca8ba-1f32-4efe-b149-96329e095bb5"
      },
      "execution_count": 15,
      "outputs": [
        {
          "output_type": "display_data",
          "data": {
            "text/html": [
              "<style>\n",
              ".list-inline {list-style: none; margin:0; padding: 0}\n",
              ".list-inline>li {display: inline-block}\n",
              ".list-inline>li:not(:last-child)::after {content: \"\\00b7\"; padding: 0 .5ex}\n",
              "</style>\n",
              "<ol class=list-inline><li>3</li><li>4</li></ol>\n"
            ],
            "text/markdown": "1. 3\n2. 4\n\n\n",
            "text/latex": "\\begin{enumerate*}\n\\item 3\n\\item 4\n\\end{enumerate*}\n",
            "text/plain": [
              "[1] 3 4"
            ]
          },
          "metadata": {}
        }
      ]
    },
    {
      "cell_type": "markdown",
      "source": [
        "**`colnames()`** and **`rownames()`**: Get or set the column and row names of the data frame."
      ],
      "metadata": {
        "id": "jUDUgChA9YYW"
      }
    },
    {
      "cell_type": "code",
      "source": [
        "colnames(df)\n",
        "rownames(df)"
      ],
      "metadata": {
        "colab": {
          "base_uri": "https://localhost:8080/",
          "height": 52
        },
        "id": "Hjbu5JgB9AnU",
        "outputId": "45cf0aee-2cf3-41ef-d483-52037f9be163"
      },
      "execution_count": 16,
      "outputs": [
        {
          "output_type": "display_data",
          "data": {
            "text/html": [
              "<style>\n",
              ".list-inline {list-style: none; margin:0; padding: 0}\n",
              ".list-inline>li {display: inline-block}\n",
              ".list-inline>li:not(:last-child)::after {content: \"\\00b7\"; padding: 0 .5ex}\n",
              "</style>\n",
              "<ol class=list-inline><li>'Name'</li><li>'Age'</li><li>'Height'</li><li>'Married'</li></ol>\n"
            ],
            "text/markdown": "1. 'Name'\n2. 'Age'\n3. 'Height'\n4. 'Married'\n\n\n",
            "text/latex": "\\begin{enumerate*}\n\\item 'Name'\n\\item 'Age'\n\\item 'Height'\n\\item 'Married'\n\\end{enumerate*}\n",
            "text/plain": [
              "[1] \"Name\"    \"Age\"     \"Height\"  \"Married\""
            ]
          },
          "metadata": {}
        },
        {
          "output_type": "display_data",
          "data": {
            "text/html": [
              "<style>\n",
              ".list-inline {list-style: none; margin:0; padding: 0}\n",
              ".list-inline>li {display: inline-block}\n",
              ".list-inline>li:not(:last-child)::after {content: \"\\00b7\"; padding: 0 .5ex}\n",
              "</style>\n",
              "<ol class=list-inline><li>'1'</li><li>'2'</li><li>'3'</li></ol>\n"
            ],
            "text/markdown": "1. '1'\n2. '2'\n3. '3'\n\n\n",
            "text/latex": "\\begin{enumerate*}\n\\item '1'\n\\item '2'\n\\item '3'\n\\end{enumerate*}\n",
            "text/plain": [
              "[1] \"1\" \"2\" \"3\""
            ]
          },
          "metadata": {}
        }
      ]
    },
    {
      "cell_type": "markdown",
      "source": [
        "**`head()`** and **`tail()`**: Displays the first few or last few rows of the data frame."
      ],
      "metadata": {
        "id": "dh-z26EM9r3j"
      }
    },
    {
      "cell_type": "code",
      "source": [
        "head(df)  #Returns the first 6 rows (or fewer if the frame is smaller)\n",
        "tail(df)  #Returns the last 6 rows"
      ],
      "metadata": {
        "colab": {
          "base_uri": "https://localhost:8080/",
          "height": 367
        },
        "id": "qyfC0NJg0Ki7",
        "outputId": "7a53c4f4-caf7-4ab4-f20f-ada02c13b3c0"
      },
      "execution_count": 17,
      "outputs": [
        {
          "output_type": "display_data",
          "data": {
            "text/html": [
              "<table class=\"dataframe\">\n",
              "<caption>A data.frame: 3 × 4</caption>\n",
              "<thead>\n",
              "\t<tr><th></th><th scope=col>Name</th><th scope=col>Age</th><th scope=col>Height</th><th scope=col>Married</th></tr>\n",
              "\t<tr><th></th><th scope=col>&lt;chr&gt;</th><th scope=col>&lt;dbl&gt;</th><th scope=col>&lt;dbl&gt;</th><th scope=col>&lt;lgl&gt;</th></tr>\n",
              "</thead>\n",
              "<tbody>\n",
              "\t<tr><th scope=row>1</th><td>Alice  </td><td>30</td><td>165</td><td> TRUE</td></tr>\n",
              "\t<tr><th scope=row>2</th><td>Bob    </td><td>35</td><td>175</td><td>FALSE</td></tr>\n",
              "\t<tr><th scope=row>3</th><td>Charlie</td><td>25</td><td>170</td><td> TRUE</td></tr>\n",
              "</tbody>\n",
              "</table>\n"
            ],
            "text/markdown": "\nA data.frame: 3 × 4\n\n| <!--/--> | Name &lt;chr&gt; | Age &lt;dbl&gt; | Height &lt;dbl&gt; | Married &lt;lgl&gt; |\n|---|---|---|---|---|\n| 1 | Alice   | 30 | 165 |  TRUE |\n| 2 | Bob     | 35 | 175 | FALSE |\n| 3 | Charlie | 25 | 170 |  TRUE |\n\n",
            "text/latex": "A data.frame: 3 × 4\n\\begin{tabular}{r|llll}\n  & Name & Age & Height & Married\\\\\n  & <chr> & <dbl> & <dbl> & <lgl>\\\\\n\\hline\n\t1 & Alice   & 30 & 165 &  TRUE\\\\\n\t2 & Bob     & 35 & 175 & FALSE\\\\\n\t3 & Charlie & 25 & 170 &  TRUE\\\\\n\\end{tabular}\n",
            "text/plain": [
              "  Name    Age Height Married\n",
              "1 Alice   30  165     TRUE  \n",
              "2 Bob     35  175    FALSE  \n",
              "3 Charlie 25  170     TRUE  "
            ]
          },
          "metadata": {}
        },
        {
          "output_type": "display_data",
          "data": {
            "text/html": [
              "<table class=\"dataframe\">\n",
              "<caption>A data.frame: 3 × 4</caption>\n",
              "<thead>\n",
              "\t<tr><th></th><th scope=col>Name</th><th scope=col>Age</th><th scope=col>Height</th><th scope=col>Married</th></tr>\n",
              "\t<tr><th></th><th scope=col>&lt;chr&gt;</th><th scope=col>&lt;dbl&gt;</th><th scope=col>&lt;dbl&gt;</th><th scope=col>&lt;lgl&gt;</th></tr>\n",
              "</thead>\n",
              "<tbody>\n",
              "\t<tr><th scope=row>1</th><td>Alice  </td><td>30</td><td>165</td><td> TRUE</td></tr>\n",
              "\t<tr><th scope=row>2</th><td>Bob    </td><td>35</td><td>175</td><td>FALSE</td></tr>\n",
              "\t<tr><th scope=row>3</th><td>Charlie</td><td>25</td><td>170</td><td> TRUE</td></tr>\n",
              "</tbody>\n",
              "</table>\n"
            ],
            "text/markdown": "\nA data.frame: 3 × 4\n\n| <!--/--> | Name &lt;chr&gt; | Age &lt;dbl&gt; | Height &lt;dbl&gt; | Married &lt;lgl&gt; |\n|---|---|---|---|---|\n| 1 | Alice   | 30 | 165 |  TRUE |\n| 2 | Bob     | 35 | 175 | FALSE |\n| 3 | Charlie | 25 | 170 |  TRUE |\n\n",
            "text/latex": "A data.frame: 3 × 4\n\\begin{tabular}{r|llll}\n  & Name & Age & Height & Married\\\\\n  & <chr> & <dbl> & <dbl> & <lgl>\\\\\n\\hline\n\t1 & Alice   & 30 & 165 &  TRUE\\\\\n\t2 & Bob     & 35 & 175 & FALSE\\\\\n\t3 & Charlie & 25 & 170 &  TRUE\\\\\n\\end{tabular}\n",
            "text/plain": [
              "  Name    Age Height Married\n",
              "1 Alice   30  165     TRUE  \n",
              "2 Bob     35  175    FALSE  \n",
              "3 Charlie 25  170     TRUE  "
            ]
          },
          "metadata": {}
        }
      ]
    },
    {
      "cell_type": "markdown",
      "source": [
        "**`summary()`**: Provides summary statistics for each column in the data frame."
      ],
      "metadata": {
        "id": "Z-YTBF139_OF"
      }
    },
    {
      "cell_type": "code",
      "source": [
        "summary(df)"
      ],
      "metadata": {
        "colab": {
          "base_uri": "https://localhost:8080/",
          "height": 138
        },
        "id": "ca2Q-OnC9-z1",
        "outputId": "8094056b-9447-4a29-ebf6-0ad42f136420"
      },
      "execution_count": 18,
      "outputs": [
        {
          "output_type": "display_data",
          "data": {
            "text/plain": [
              "     Name                Age           Height       Married       \n",
              " Length:3           Min.   :25.0   Min.   :165.0   Mode :logical  \n",
              " Class :character   1st Qu.:27.5   1st Qu.:167.5   FALSE:1        \n",
              " Mode  :character   Median :30.0   Median :170.0   TRUE :2        \n",
              "                    Mean   :30.0   Mean   :170.0                  \n",
              "                    3rd Qu.:32.5   3rd Qu.:172.5                  \n",
              "                    Max.   :35.0   Max.   :175.0                  "
            ]
          },
          "metadata": {}
        }
      ]
    },
    {
      "cell_type": "markdown",
      "source": [
        "**`subset()`**: Subsets a data frame based on conditions."
      ],
      "metadata": {
        "id": "JJ3deuvw-LCe"
      }
    },
    {
      "cell_type": "code",
      "source": [
        "subset(df, Age > 25)"
      ],
      "metadata": {
        "colab": {
          "base_uri": "https://localhost:8080/",
          "height": 161
        },
        "id": "tXLc-ZEF9-vm",
        "outputId": "05c1b55c-c575-4964-fd6d-5ea67950b4d6"
      },
      "execution_count": 19,
      "outputs": [
        {
          "output_type": "display_data",
          "data": {
            "text/html": [
              "<table class=\"dataframe\">\n",
              "<caption>A data.frame: 2 × 4</caption>\n",
              "<thead>\n",
              "\t<tr><th></th><th scope=col>Name</th><th scope=col>Age</th><th scope=col>Height</th><th scope=col>Married</th></tr>\n",
              "\t<tr><th></th><th scope=col>&lt;chr&gt;</th><th scope=col>&lt;dbl&gt;</th><th scope=col>&lt;dbl&gt;</th><th scope=col>&lt;lgl&gt;</th></tr>\n",
              "</thead>\n",
              "<tbody>\n",
              "\t<tr><th scope=row>1</th><td>Alice</td><td>30</td><td>165</td><td> TRUE</td></tr>\n",
              "\t<tr><th scope=row>2</th><td>Bob  </td><td>35</td><td>175</td><td>FALSE</td></tr>\n",
              "</tbody>\n",
              "</table>\n"
            ],
            "text/markdown": "\nA data.frame: 2 × 4\n\n| <!--/--> | Name &lt;chr&gt; | Age &lt;dbl&gt; | Height &lt;dbl&gt; | Married &lt;lgl&gt; |\n|---|---|---|---|---|\n| 1 | Alice | 30 | 165 |  TRUE |\n| 2 | Bob   | 35 | 175 | FALSE |\n\n",
            "text/latex": "A data.frame: 2 × 4\n\\begin{tabular}{r|llll}\n  & Name & Age & Height & Married\\\\\n  & <chr> & <dbl> & <dbl> & <lgl>\\\\\n\\hline\n\t1 & Alice & 30 & 165 &  TRUE\\\\\n\t2 & Bob   & 35 & 175 & FALSE\\\\\n\\end{tabular}\n",
            "text/plain": [
              "  Name  Age Height Married\n",
              "1 Alice 30  165     TRUE  \n",
              "2 Bob   35  175    FALSE  "
            ]
          },
          "metadata": {}
        }
      ]
    },
    {
      "cell_type": "code",
      "source": [
        "subset(df, Height != 170)"
      ],
      "metadata": {
        "colab": {
          "base_uri": "https://localhost:8080/",
          "height": 161
        },
        "id": "InQN3LZgCFg8",
        "outputId": "bdf7828b-3d3b-48ab-bb3b-4aaa349b0b04"
      },
      "execution_count": 20,
      "outputs": [
        {
          "output_type": "display_data",
          "data": {
            "text/html": [
              "<table class=\"dataframe\">\n",
              "<caption>A data.frame: 2 × 4</caption>\n",
              "<thead>\n",
              "\t<tr><th></th><th scope=col>Name</th><th scope=col>Age</th><th scope=col>Height</th><th scope=col>Married</th></tr>\n",
              "\t<tr><th></th><th scope=col>&lt;chr&gt;</th><th scope=col>&lt;dbl&gt;</th><th scope=col>&lt;dbl&gt;</th><th scope=col>&lt;lgl&gt;</th></tr>\n",
              "</thead>\n",
              "<tbody>\n",
              "\t<tr><th scope=row>1</th><td>Alice</td><td>30</td><td>165</td><td> TRUE</td></tr>\n",
              "\t<tr><th scope=row>2</th><td>Bob  </td><td>35</td><td>175</td><td>FALSE</td></tr>\n",
              "</tbody>\n",
              "</table>\n"
            ],
            "text/markdown": "\nA data.frame: 2 × 4\n\n| <!--/--> | Name &lt;chr&gt; | Age &lt;dbl&gt; | Height &lt;dbl&gt; | Married &lt;lgl&gt; |\n|---|---|---|---|---|\n| 1 | Alice | 30 | 165 |  TRUE |\n| 2 | Bob   | 35 | 175 | FALSE |\n\n",
            "text/latex": "A data.frame: 2 × 4\n\\begin{tabular}{r|llll}\n  & Name & Age & Height & Married\\\\\n  & <chr> & <dbl> & <dbl> & <lgl>\\\\\n\\hline\n\t1 & Alice & 30 & 165 &  TRUE\\\\\n\t2 & Bob   & 35 & 175 & FALSE\\\\\n\\end{tabular}\n",
            "text/plain": [
              "  Name  Age Height Married\n",
              "1 Alice 30  165     TRUE  \n",
              "2 Bob   35  175    FALSE  "
            ]
          },
          "metadata": {}
        }
      ]
    },
    {
      "cell_type": "markdown",
      "source": [
        "**`merge()`**: Merges two data frames by common columns or row names."
      ],
      "metadata": {
        "id": "Njh3wY9x-0F2"
      }
    },
    {
      "cell_type": "code",
      "source": [
        "df1 <- data.frame(ID = c(1, 2), Name = c(\"Alice\", \"Bob\"))\n",
        "df2 <- data.frame(ID = c(1, 2), Age = c(25, 30))\n",
        "merge(df1, df2, by = \"ID\")"
      ],
      "metadata": {
        "colab": {
          "base_uri": "https://localhost:8080/",
          "height": 161
        },
        "id": "_erzf_Ee-zim",
        "outputId": "ef0001e8-8422-4e22-93db-e27e189bc6ea"
      },
      "execution_count": 21,
      "outputs": [
        {
          "output_type": "display_data",
          "data": {
            "text/html": [
              "<table class=\"dataframe\">\n",
              "<caption>A data.frame: 2 × 3</caption>\n",
              "<thead>\n",
              "\t<tr><th scope=col>ID</th><th scope=col>Name</th><th scope=col>Age</th></tr>\n",
              "\t<tr><th scope=col>&lt;dbl&gt;</th><th scope=col>&lt;chr&gt;</th><th scope=col>&lt;dbl&gt;</th></tr>\n",
              "</thead>\n",
              "<tbody>\n",
              "\t<tr><td>1</td><td>Alice</td><td>25</td></tr>\n",
              "\t<tr><td>2</td><td>Bob  </td><td>30</td></tr>\n",
              "</tbody>\n",
              "</table>\n"
            ],
            "text/markdown": "\nA data.frame: 2 × 3\n\n| ID &lt;dbl&gt; | Name &lt;chr&gt; | Age &lt;dbl&gt; |\n|---|---|---|\n| 1 | Alice | 25 |\n| 2 | Bob   | 30 |\n\n",
            "text/latex": "A data.frame: 2 × 3\n\\begin{tabular}{lll}\n ID & Name & Age\\\\\n <dbl> & <chr> & <dbl>\\\\\n\\hline\n\t 1 & Alice & 25\\\\\n\t 2 & Bob   & 30\\\\\n\\end{tabular}\n",
            "text/plain": [
              "  ID Name  Age\n",
              "1 1  Alice 25 \n",
              "2 2  Bob   30 "
            ]
          },
          "metadata": {}
        }
      ]
    },
    {
      "cell_type": "markdown",
      "source": [
        "**`rbind()`** and **`cbind()`**: Binds data frames by rows or columns."
      ],
      "metadata": {
        "id": "QqmxCR7o_I4u"
      }
    },
    {
      "cell_type": "code",
      "source": [
        "df1 <- data.frame(Name = c(\"Alice\", \"Bob\"), Age = c(25, 30))\n",
        "df2 <- data.frame(Name = c(\"Charlie\", \"David\"), Age = c(35, 40))\n",
        "rbind(df1, df2)"
      ],
      "metadata": {
        "id": "N8Mbn5lw-zei",
        "colab": {
          "base_uri": "https://localhost:8080/",
          "height": 241
        },
        "outputId": "1a9d33c6-0682-475e-8c47-1714b6c64acd"
      },
      "execution_count": 22,
      "outputs": [
        {
          "output_type": "display_data",
          "data": {
            "text/html": [
              "<table class=\"dataframe\">\n",
              "<caption>A data.frame: 4 × 2</caption>\n",
              "<thead>\n",
              "\t<tr><th scope=col>Name</th><th scope=col>Age</th></tr>\n",
              "\t<tr><th scope=col>&lt;chr&gt;</th><th scope=col>&lt;dbl&gt;</th></tr>\n",
              "</thead>\n",
              "<tbody>\n",
              "\t<tr><td>Alice  </td><td>25</td></tr>\n",
              "\t<tr><td>Bob    </td><td>30</td></tr>\n",
              "\t<tr><td>Charlie</td><td>35</td></tr>\n",
              "\t<tr><td>David  </td><td>40</td></tr>\n",
              "</tbody>\n",
              "</table>\n"
            ],
            "text/markdown": "\nA data.frame: 4 × 2\n\n| Name &lt;chr&gt; | Age &lt;dbl&gt; |\n|---|---|\n| Alice   | 25 |\n| Bob     | 30 |\n| Charlie | 35 |\n| David   | 40 |\n\n",
            "text/latex": "A data.frame: 4 × 2\n\\begin{tabular}{ll}\n Name & Age\\\\\n <chr> & <dbl>\\\\\n\\hline\n\t Alice   & 25\\\\\n\t Bob     & 30\\\\\n\t Charlie & 35\\\\\n\t David   & 40\\\\\n\\end{tabular}\n",
            "text/plain": [
              "  Name    Age\n",
              "1 Alice   25 \n",
              "2 Bob     30 \n",
              "3 Charlie 35 \n",
              "4 David   40 "
            ]
          },
          "metadata": {}
        }
      ]
    },
    {
      "cell_type": "markdown",
      "source": [
        "**`apply()`**: Applies a function to rows or columns of the data frame."
      ],
      "metadata": {
        "id": "WJ7jCQyD_ZYz"
      }
    },
    {
      "cell_type": "code",
      "source": [
        "df[, -1]"
      ],
      "metadata": {
        "colab": {
          "base_uri": "https://localhost:8080/",
          "height": 192
        },
        "id": "Ti2Xe6S5_jsA",
        "outputId": "d1a4e2ad-2320-4fa2-f6a3-aa1e36988222"
      },
      "execution_count": 23,
      "outputs": [
        {
          "output_type": "display_data",
          "data": {
            "text/html": [
              "<table class=\"dataframe\">\n",
              "<caption>A data.frame: 3 × 3</caption>\n",
              "<thead>\n",
              "\t<tr><th scope=col>Age</th><th scope=col>Height</th><th scope=col>Married</th></tr>\n",
              "\t<tr><th scope=col>&lt;dbl&gt;</th><th scope=col>&lt;dbl&gt;</th><th scope=col>&lt;lgl&gt;</th></tr>\n",
              "</thead>\n",
              "<tbody>\n",
              "\t<tr><td>30</td><td>165</td><td> TRUE</td></tr>\n",
              "\t<tr><td>35</td><td>175</td><td>FALSE</td></tr>\n",
              "\t<tr><td>25</td><td>170</td><td> TRUE</td></tr>\n",
              "</tbody>\n",
              "</table>\n"
            ],
            "text/markdown": "\nA data.frame: 3 × 3\n\n| Age &lt;dbl&gt; | Height &lt;dbl&gt; | Married &lt;lgl&gt; |\n|---|---|---|\n| 30 | 165 |  TRUE |\n| 35 | 175 | FALSE |\n| 25 | 170 |  TRUE |\n\n",
            "text/latex": "A data.frame: 3 × 3\n\\begin{tabular}{lll}\n Age & Height & Married\\\\\n <dbl> & <dbl> & <lgl>\\\\\n\\hline\n\t 30 & 165 &  TRUE\\\\\n\t 35 & 175 & FALSE\\\\\n\t 25 & 170 &  TRUE\\\\\n\\end{tabular}\n",
            "text/plain": [
              "  Age Height Married\n",
              "1 30  165     TRUE  \n",
              "2 35  175    FALSE  \n",
              "3 25  170     TRUE  "
            ]
          },
          "metadata": {}
        }
      ]
    },
    {
      "cell_type": "code",
      "source": [
        "apply(df['Age'], 2, mean)"
      ],
      "metadata": {
        "colab": {
          "base_uri": "https://localhost:8080/",
          "height": 34
        },
        "id": "9IwjXhmz-zZm",
        "outputId": "01c52ad8-1312-4295-af6c-014806f45e77"
      },
      "execution_count": 24,
      "outputs": [
        {
          "output_type": "display_data",
          "data": {
            "text/html": [
              "<strong>Age:</strong> 30"
            ],
            "text/markdown": "**Age:** 30",
            "text/latex": "\\textbf{Age:} 30",
            "text/plain": [
              "Age \n",
              " 30 "
            ]
          },
          "metadata": {}
        }
      ]
    },
    {
      "cell_type": "markdown",
      "source": [
        "**`is.data.frame()`**: Checks if an object is a data frame."
      ],
      "metadata": {
        "id": "LYzGa05I__y1"
      }
    },
    {
      "cell_type": "code",
      "source": [
        "is.data.frame(df)"
      ],
      "metadata": {
        "colab": {
          "base_uri": "https://localhost:8080/",
          "height": 34
        },
        "id": "dwZm5pW8__gP",
        "outputId": "ffce9b29-8046-479e-e3ac-725181bc3141"
      },
      "execution_count": 25,
      "outputs": [
        {
          "output_type": "display_data",
          "data": {
            "text/html": [
              "TRUE"
            ],
            "text/markdown": "TRUE",
            "text/latex": "TRUE",
            "text/plain": [
              "[1] TRUE"
            ]
          },
          "metadata": {}
        }
      ]
    },
    {
      "cell_type": "markdown",
      "source": [
        "**`order()`**: Sorts a data frame by one or more columns."
      ],
      "metadata": {
        "id": "fJeAk0ThALyR"
      }
    },
    {
      "cell_type": "code",
      "source": [
        "#Sorts the data frame by the Age column\n",
        "df[order(df$Age), ]"
      ],
      "metadata": {
        "colab": {
          "base_uri": "https://localhost:8080/",
          "height": 192
        },
        "id": "bVo0Xsf4__bX",
        "outputId": "f4a4418f-687e-4005-b714-6c26dad8b5f6"
      },
      "execution_count": 26,
      "outputs": [
        {
          "output_type": "display_data",
          "data": {
            "text/html": [
              "<table class=\"dataframe\">\n",
              "<caption>A data.frame: 3 × 4</caption>\n",
              "<thead>\n",
              "\t<tr><th></th><th scope=col>Name</th><th scope=col>Age</th><th scope=col>Height</th><th scope=col>Married</th></tr>\n",
              "\t<tr><th></th><th scope=col>&lt;chr&gt;</th><th scope=col>&lt;dbl&gt;</th><th scope=col>&lt;dbl&gt;</th><th scope=col>&lt;lgl&gt;</th></tr>\n",
              "</thead>\n",
              "<tbody>\n",
              "\t<tr><th scope=row>3</th><td>Charlie</td><td>25</td><td>170</td><td> TRUE</td></tr>\n",
              "\t<tr><th scope=row>1</th><td>Alice  </td><td>30</td><td>165</td><td> TRUE</td></tr>\n",
              "\t<tr><th scope=row>2</th><td>Bob    </td><td>35</td><td>175</td><td>FALSE</td></tr>\n",
              "</tbody>\n",
              "</table>\n"
            ],
            "text/markdown": "\nA data.frame: 3 × 4\n\n| <!--/--> | Name &lt;chr&gt; | Age &lt;dbl&gt; | Height &lt;dbl&gt; | Married &lt;lgl&gt; |\n|---|---|---|---|---|\n| 3 | Charlie | 25 | 170 |  TRUE |\n| 1 | Alice   | 30 | 165 |  TRUE |\n| 2 | Bob     | 35 | 175 | FALSE |\n\n",
            "text/latex": "A data.frame: 3 × 4\n\\begin{tabular}{r|llll}\n  & Name & Age & Height & Married\\\\\n  & <chr> & <dbl> & <dbl> & <lgl>\\\\\n\\hline\n\t3 & Charlie & 25 & 170 &  TRUE\\\\\n\t1 & Alice   & 30 & 165 &  TRUE\\\\\n\t2 & Bob     & 35 & 175 & FALSE\\\\\n\\end{tabular}\n",
            "text/plain": [
              "  Name    Age Height Married\n",
              "3 Charlie 25  170     TRUE  \n",
              "1 Alice   30  165     TRUE  \n",
              "2 Bob     35  175    FALSE  "
            ]
          },
          "metadata": {}
        }
      ]
    },
    {
      "cell_type": "markdown",
      "source": [
        "**`duplicated()`** and **`unique()`**: Finds duplicate rows or returns unique rows."
      ],
      "metadata": {
        "id": "yyfETcXXBADP"
      }
    },
    {
      "cell_type": "code",
      "source": [
        "duplicated(df)\n",
        "unique(df)"
      ],
      "metadata": {
        "colab": {
          "base_uri": "https://localhost:8080/",
          "height": 209
        },
        "id": "0-8W7vQnBAyN",
        "outputId": "d6ac2ddf-ae2a-4c1a-c7a3-f644df6da35f"
      },
      "execution_count": 27,
      "outputs": [
        {
          "output_type": "display_data",
          "data": {
            "text/html": [
              "<style>\n",
              ".list-inline {list-style: none; margin:0; padding: 0}\n",
              ".list-inline>li {display: inline-block}\n",
              ".list-inline>li:not(:last-child)::after {content: \"\\00b7\"; padding: 0 .5ex}\n",
              "</style>\n",
              "<ol class=list-inline><li>FALSE</li><li>FALSE</li><li>FALSE</li></ol>\n"
            ],
            "text/markdown": "1. FALSE\n2. FALSE\n3. FALSE\n\n\n",
            "text/latex": "\\begin{enumerate*}\n\\item FALSE\n\\item FALSE\n\\item FALSE\n\\end{enumerate*}\n",
            "text/plain": [
              "[1] FALSE FALSE FALSE"
            ]
          },
          "metadata": {}
        },
        {
          "output_type": "display_data",
          "data": {
            "text/html": [
              "<table class=\"dataframe\">\n",
              "<caption>A data.frame: 3 × 4</caption>\n",
              "<thead>\n",
              "\t<tr><th></th><th scope=col>Name</th><th scope=col>Age</th><th scope=col>Height</th><th scope=col>Married</th></tr>\n",
              "\t<tr><th></th><th scope=col>&lt;chr&gt;</th><th scope=col>&lt;dbl&gt;</th><th scope=col>&lt;dbl&gt;</th><th scope=col>&lt;lgl&gt;</th></tr>\n",
              "</thead>\n",
              "<tbody>\n",
              "\t<tr><th scope=row>1</th><td>Alice  </td><td>30</td><td>165</td><td> TRUE</td></tr>\n",
              "\t<tr><th scope=row>2</th><td>Bob    </td><td>35</td><td>175</td><td>FALSE</td></tr>\n",
              "\t<tr><th scope=row>3</th><td>Charlie</td><td>25</td><td>170</td><td> TRUE</td></tr>\n",
              "</tbody>\n",
              "</table>\n"
            ],
            "text/markdown": "\nA data.frame: 3 × 4\n\n| <!--/--> | Name &lt;chr&gt; | Age &lt;dbl&gt; | Height &lt;dbl&gt; | Married &lt;lgl&gt; |\n|---|---|---|---|---|\n| 1 | Alice   | 30 | 165 |  TRUE |\n| 2 | Bob     | 35 | 175 | FALSE |\n| 3 | Charlie | 25 | 170 |  TRUE |\n\n",
            "text/latex": "A data.frame: 3 × 4\n\\begin{tabular}{r|llll}\n  & Name & Age & Height & Married\\\\\n  & <chr> & <dbl> & <dbl> & <lgl>\\\\\n\\hline\n\t1 & Alice   & 30 & 165 &  TRUE\\\\\n\t2 & Bob     & 35 & 175 & FALSE\\\\\n\t3 & Charlie & 25 & 170 &  TRUE\\\\\n\\end{tabular}\n",
            "text/plain": [
              "  Name    Age Height Married\n",
              "1 Alice   30  165     TRUE  \n",
              "2 Bob     35  175    FALSE  \n",
              "3 Charlie 25  170     TRUE  "
            ]
          },
          "metadata": {}
        }
      ]
    },
    {
      "cell_type": "markdown",
      "source": [
        "**`transform()`**: Adds new columns or transforms existing columns."
      ],
      "metadata": {
        "id": "WJINie2SBPZ8"
      }
    },
    {
      "cell_type": "code",
      "source": [
        "df <- transform(df, AgeInMonths = Age * 12)"
      ],
      "metadata": {
        "id": "O7sg33YdBPBc"
      },
      "execution_count": 28,
      "outputs": []
    },
    {
      "cell_type": "code",
      "source": [
        "df"
      ],
      "metadata": {
        "colab": {
          "base_uri": "https://localhost:8080/",
          "height": 192
        },
        "id": "AQ9HheIfBakM",
        "outputId": "2a35a242-c372-4a71-cfa3-b9940b31004b"
      },
      "execution_count": 29,
      "outputs": [
        {
          "output_type": "display_data",
          "data": {
            "text/html": [
              "<table class=\"dataframe\">\n",
              "<caption>A data.frame: 3 × 5</caption>\n",
              "<thead>\n",
              "\t<tr><th scope=col>Name</th><th scope=col>Age</th><th scope=col>Height</th><th scope=col>Married</th><th scope=col>AgeInMonths</th></tr>\n",
              "\t<tr><th scope=col>&lt;chr&gt;</th><th scope=col>&lt;dbl&gt;</th><th scope=col>&lt;dbl&gt;</th><th scope=col>&lt;lgl&gt;</th><th scope=col>&lt;dbl&gt;</th></tr>\n",
              "</thead>\n",
              "<tbody>\n",
              "\t<tr><td>Alice  </td><td>30</td><td>165</td><td> TRUE</td><td>360</td></tr>\n",
              "\t<tr><td>Bob    </td><td>35</td><td>175</td><td>FALSE</td><td>420</td></tr>\n",
              "\t<tr><td>Charlie</td><td>25</td><td>170</td><td> TRUE</td><td>300</td></tr>\n",
              "</tbody>\n",
              "</table>\n"
            ],
            "text/markdown": "\nA data.frame: 3 × 5\n\n| Name &lt;chr&gt; | Age &lt;dbl&gt; | Height &lt;dbl&gt; | Married &lt;lgl&gt; | AgeInMonths &lt;dbl&gt; |\n|---|---|---|---|---|\n| Alice   | 30 | 165 |  TRUE | 360 |\n| Bob     | 35 | 175 | FALSE | 420 |\n| Charlie | 25 | 170 |  TRUE | 300 |\n\n",
            "text/latex": "A data.frame: 3 × 5\n\\begin{tabular}{lllll}\n Name & Age & Height & Married & AgeInMonths\\\\\n <chr> & <dbl> & <dbl> & <lgl> & <dbl>\\\\\n\\hline\n\t Alice   & 30 & 165 &  TRUE & 360\\\\\n\t Bob     & 35 & 175 & FALSE & 420\\\\\n\t Charlie & 25 & 170 &  TRUE & 300\\\\\n\\end{tabular}\n",
            "text/plain": [
              "  Name    Age Height Married AgeInMonths\n",
              "1 Alice   30  165     TRUE   360        \n",
              "2 Bob     35  175    FALSE   420        \n",
              "3 Charlie 25  170     TRUE   300        "
            ]
          },
          "metadata": {}
        }
      ]
    },
    {
      "cell_type": "markdown",
      "source": [
        "<a name='DataFrame_Properties'></a>\n",
        "\n",
        "## 6.4. Data Frame Properties:"
      ],
      "metadata": {
        "id": "DCV_2OVW2BPD"
      }
    },
    {
      "cell_type": "markdown",
      "source": [
        "**Mutability**: efers to the ability to modify an object after it has been created. In the context of data frames (or other data structures like lists, matrices, or vectors), mutability refers to whether the content of the data structure can be changed (e.g., adding, removing, or modifying elements) after it has been created."
      ],
      "metadata": {
        "id": "reEgydKN3zzR"
      }
    },
    {
      "cell_type": "markdown",
      "source": [
        "- **Add a New Column**:"
      ],
      "metadata": {
        "id": "Um39FUmM4SOx"
      }
    },
    {
      "cell_type": "code",
      "source": [
        "df$Weight <- c(65, 75, 85)\n",
        "print(df)"
      ],
      "metadata": {
        "colab": {
          "base_uri": "https://localhost:8080/"
        },
        "id": "srzxYzYc2K90",
        "outputId": "d9cd82df-a4d0-48f4-dd82-900dbaba9e93"
      },
      "execution_count": 30,
      "outputs": [
        {
          "output_type": "stream",
          "name": "stdout",
          "text": [
            "     Name Age Height Married AgeInMonths Weight\n",
            "1   Alice  30    165    TRUE         360     65\n",
            "2     Bob  35    175   FALSE         420     75\n",
            "3 Charlie  25    170    TRUE         300     85\n"
          ]
        }
      ]
    },
    {
      "cell_type": "markdown",
      "source": [
        "- **Remove a Column**:"
      ],
      "metadata": {
        "id": "2gtUwSwp4cJk"
      }
    },
    {
      "cell_type": "code",
      "source": [
        "df$Weight <- NULL\n",
        "print(df)"
      ],
      "metadata": {
        "colab": {
          "base_uri": "https://localhost:8080/"
        },
        "id": "yuV9UX4f2K6B",
        "outputId": "01dfc3d1-9352-4b68-a7af-48794e44849a"
      },
      "execution_count": 31,
      "outputs": [
        {
          "output_type": "stream",
          "name": "stdout",
          "text": [
            "     Name Age Height Married AgeInMonths\n",
            "1   Alice  30    165    TRUE         360\n",
            "2     Bob  35    175   FALSE         420\n",
            "3 Charlie  25    170    TRUE         300\n"
          ]
        }
      ]
    },
    {
      "cell_type": "markdown",
      "source": [
        "- **Add a New Row**:"
      ],
      "metadata": {
        "id": "SVKf6tNg4l_C"
      }
    },
    {
      "cell_type": "code",
      "source": [
        "new_row <- data.frame(Name = \"David\", Age = 40, Height = 180, Married = FALSE, AgeInMonths = 480)\n",
        "df <- rbind(df, new_row)\n",
        "print(df)"
      ],
      "metadata": {
        "colab": {
          "base_uri": "https://localhost:8080/"
        },
        "id": "zn2qCQgW2K2T",
        "outputId": "7521443e-6acd-4f53-b52a-28d23ac5b39b"
      },
      "execution_count": 32,
      "outputs": [
        {
          "output_type": "stream",
          "name": "stdout",
          "text": [
            "     Name Age Height Married AgeInMonths\n",
            "1   Alice  30    165    TRUE         360\n",
            "2     Bob  35    175   FALSE         420\n",
            "3 Charlie  25    170    TRUE         300\n",
            "4   David  40    180   FALSE         480\n"
          ]
        }
      ]
    }
  ]
}