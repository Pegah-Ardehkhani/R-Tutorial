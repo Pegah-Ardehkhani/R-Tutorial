{
  "nbformat": 4,
  "nbformat_minor": 0,
  "metadata": {
    "colab": {
      "provenance": []
    },
    "kernelspec": {
      "name": "ir",
      "display_name": "R"
    },
    "language_info": {
      "name": "R"
    }
  },
  "cells": [
    {
      "cell_type": "markdown",
      "source": [
        "# 1. Numbers"
      ],
      "metadata": {
        "id": "RkmLmg1AeDAe"
      }
    },
    {
      "cell_type": "markdown",
      "source": [
        "In this section, We'll dive into the world of numbers and learn how to use them effectively in R.\n",
        "\n",
        "We'll learn about the following topics:\n",
        "\n",
        "   - [1.1. Types of Numbers in R](#Types_of_Numbers_in_R)\n",
        "   - [1.2. R Built-in Arithmetic Operators](#R_Builtin_Arithmetic_Operators)\n",
        "   - [1.3. R Built-in Arithmetic Functions](#R_Builtin_Arithmetic_Functions)\n",
        "   - [1.4. Variable Assignment](#Variable_Assignment)\n",
        "   - [1.5. Variable Reassignment](#Variable_Reassignment)\n",
        "   - [1.6. Determining Variable Type](#Determining_Variable_Type)"
      ],
      "metadata": {
        "id": "whSgbR8yywOj"
      }
    },
    {
      "cell_type": "markdown",
      "source": [
        "<a name='Types_of_Numbers_in_R'></a>\n",
        "\n",
        "## 1.1. Types of Numbers in R:"
      ],
      "metadata": {
        "id": "4fz8F13PeIq4"
      }
    },
    {
      "cell_type": "markdown",
      "source": [
        "R, like Python, offers different kinds of numbers. We’ll primarily work with integers and floating-point numbers.\n",
        "\n",
        "**Integers**:\n",
        "\n",
        "Integers in R are whole numbers, either positive or negative. To explicitly create an integer, you need to append the letter `L` to the number. For example, 5L or -5L.\n",
        "\n",
        "If you don’t append L, numbers are treated as numeric by default, which means they are floating-point numbers even if they appear to be whole numbers.\n",
        "\n",
        "**Floating-point numbers**:\n",
        "\n",
        "Floating-point numbers, or simply numerics in R, are numbers with a decimal point or those in scientific notation. They can represent a wide range of values, including very large or very small numbers. For example: 4E2 (4 times 10 to the power of 2) or 4.56.\n",
        "\n",
        "Here’s a table with some examples of the two main number types:\n",
        "\n",
        "<table> <tr> <th>Examples</th> <th>Number Type</th> </tr> <tr> <td>1L, 5L, -7L, 1400L</td> <td>Integer</td> </tr> <tr> <td>1.3, -0.8, 2e2, 4E9</td> <td> Numeric (Floating-point numbers)</td> </tr> </table>"
      ],
      "metadata": {
        "id": "kXmmatWne_-f"
      }
    },
    {
      "cell_type": "markdown",
      "source": [
        "**Comparison with Python:**\n",
        "\n",
        "- In Python, an integer is automatically recognized when you write 1 or -5. However, in R, you need to use the L suffix to explicitly define an integer. Without L, 1 would be considered a floating-point number in R.\n",
        "- Both languages use scientific notation similarly (e.g., 2e2)."
      ],
      "metadata": {
        "id": "91PmAv4jz48Q"
      }
    },
    {
      "cell_type": "code",
      "source": [
        "class(1L)"
      ],
      "metadata": {
        "colab": {
          "base_uri": "https://localhost:8080/",
          "height": 34
        },
        "id": "M6dTWhTS13sW",
        "outputId": "7d19b152-869f-4fda-a52e-d72cf3969927"
      },
      "execution_count": 1,
      "outputs": [
        {
          "output_type": "display_data",
          "data": {
            "text/html": [
              "'integer'"
            ],
            "text/markdown": "'integer'",
            "text/latex": "'integer'",
            "text/plain": [
              "[1] \"integer\""
            ]
          },
          "metadata": {}
        }
      ]
    },
    {
      "cell_type": "code",
      "source": [
        "class(1)"
      ],
      "metadata": {
        "colab": {
          "base_uri": "https://localhost:8080/",
          "height": 34
        },
        "id": "OyhW_e_U2ApN",
        "outputId": "e2716b20-a7b3-4e0a-c3b1-1aa745381be7"
      },
      "execution_count": 2,
      "outputs": [
        {
          "output_type": "display_data",
          "data": {
            "text/html": [
              "'numeric'"
            ],
            "text/markdown": "'numeric'",
            "text/latex": "'numeric'",
            "text/plain": [
              "[1] \"numeric\""
            ]
          },
          "metadata": {}
        }
      ]
    },
    {
      "cell_type": "markdown",
      "source": [
        "<a name='R_Builtin_Arithmetic_Operators'></a>\n",
        "\n",
        "## 1.2. R Built-in Arithmetic Operators:"
      ],
      "metadata": {
        "id": "zInEiu7w1Q1-"
      }
    },
    {
      "cell_type": "code",
      "source": [
        "#Addition\n",
        "6+3"
      ],
      "metadata": {
        "colab": {
          "base_uri": "https://localhost:8080/",
          "height": 34
        },
        "id": "DhjG2xRGci6_",
        "outputId": "149925ca-ef20-4c9a-eee0-11c82403342a"
      },
      "execution_count": 3,
      "outputs": [
        {
          "output_type": "display_data",
          "data": {
            "text/html": [
              "9"
            ],
            "text/markdown": "9",
            "text/latex": "9",
            "text/plain": [
              "[1] 9"
            ]
          },
          "metadata": {}
        }
      ]
    },
    {
      "cell_type": "code",
      "source": [
        "#Subtraction\n",
        "7-2"
      ],
      "metadata": {
        "colab": {
          "base_uri": "https://localhost:8080/",
          "height": 34
        },
        "id": "VX3aHMw_2TMs",
        "outputId": "0ddcda8e-8cb1-45ba-bea5-b2c804f005d9"
      },
      "execution_count": 4,
      "outputs": [
        {
          "output_type": "display_data",
          "data": {
            "text/html": [
              "5"
            ],
            "text/markdown": "5",
            "text/latex": "5",
            "text/plain": [
              "[1] 5"
            ]
          },
          "metadata": {}
        }
      ]
    },
    {
      "cell_type": "code",
      "source": [
        "#Multiplication\n",
        "2*5"
      ],
      "metadata": {
        "colab": {
          "base_uri": "https://localhost:8080/",
          "height": 34
        },
        "id": "8TREQueo2U0z",
        "outputId": "0b695ad1-3e01-46e7-ac38-605f7cc53005"
      },
      "execution_count": 5,
      "outputs": [
        {
          "output_type": "display_data",
          "data": {
            "text/html": [
              "10"
            ],
            "text/markdown": "10",
            "text/latex": "10",
            "text/plain": [
              "[1] 10"
            ]
          },
          "metadata": {}
        }
      ]
    },
    {
      "cell_type": "code",
      "source": [
        "#Division\n",
        "9/2"
      ],
      "metadata": {
        "colab": {
          "base_uri": "https://localhost:8080/",
          "height": 34
        },
        "id": "2QjgWb1z2WxD",
        "outputId": "8ecd5bac-e969-4cbc-b15d-c0b87a9ea143"
      },
      "execution_count": 6,
      "outputs": [
        {
          "output_type": "display_data",
          "data": {
            "text/html": [
              "4.5"
            ],
            "text/markdown": "4.5",
            "text/latex": "4.5",
            "text/plain": [
              "[1] 4.5"
            ]
          },
          "metadata": {}
        }
      ]
    },
    {
      "cell_type": "code",
      "source": [
        "#Floor Division\n",
        "9%/%2"
      ],
      "metadata": {
        "colab": {
          "base_uri": "https://localhost:8080/",
          "height": 34
        },
        "id": "SeetQYp_49HK",
        "outputId": "220c8b86-4b16-4f61-93c4-25158a6bfeb0"
      },
      "execution_count": 7,
      "outputs": [
        {
          "output_type": "display_data",
          "data": {
            "text/html": [
              "4"
            ],
            "text/markdown": "4",
            "text/latex": "4",
            "text/plain": [
              "[1] 4"
            ]
          },
          "metadata": {}
        }
      ]
    },
    {
      "cell_type": "markdown",
      "source": [
        "**Comparison with Python:**\n",
        "\n",
        "The `//` operator in Python is equivalent to the `%/%` operator in R for integer (floor) division. Both operators divide two numbers and return the largest integer less than or equal to the result."
      ],
      "metadata": {
        "id": "UDRj3-Vj5BnK"
      }
    },
    {
      "cell_type": "code",
      "source": [
        "#Power\n",
        "5^2"
      ],
      "metadata": {
        "colab": {
          "base_uri": "https://localhost:8080/",
          "height": 34
        },
        "id": "zafFvBJH2bKc",
        "outputId": "b9f691cf-9960-40aa-ee47-5dd5388544dd"
      },
      "execution_count": 8,
      "outputs": [
        {
          "output_type": "display_data",
          "data": {
            "text/html": [
              "25"
            ],
            "text/markdown": "25",
            "text/latex": "25",
            "text/plain": [
              "[1] 25"
            ]
          },
          "metadata": {}
        }
      ]
    },
    {
      "cell_type": "code",
      "source": [
        "#Square Root\n",
        "16^0.5"
      ],
      "metadata": {
        "colab": {
          "base_uri": "https://localhost:8080/",
          "height": 34
        },
        "id": "Zfs03SZq4ODc",
        "outputId": "76b7400a-7065-4913-e788-0ae87939da0a"
      },
      "execution_count": 9,
      "outputs": [
        {
          "output_type": "display_data",
          "data": {
            "text/html": [
              "4"
            ],
            "text/markdown": "4",
            "text/latex": "4",
            "text/plain": [
              "[1] 4"
            ]
          },
          "metadata": {}
        }
      ]
    },
    {
      "cell_type": "markdown",
      "source": [
        "**Comparison with Python:**\n",
        "\n",
        "In R, the power operator is ^, whereas in Python, the power operator is **."
      ],
      "metadata": {
        "id": "NHs6o4G02zyN"
      }
    },
    {
      "cell_type": "code",
      "source": [
        "#Modulo\n",
        "12%%7"
      ],
      "metadata": {
        "colab": {
          "base_uri": "https://localhost:8080/",
          "height": 34
        },
        "id": "y6PWi0f82y6c",
        "outputId": "d02550df-4ce1-42e8-bbff-e4023c05d84e"
      },
      "execution_count": 10,
      "outputs": [
        {
          "output_type": "display_data",
          "data": {
            "text/html": [
              "5"
            ],
            "text/markdown": "5",
            "text/latex": "5",
            "text/plain": [
              "[1] 5"
            ]
          },
          "metadata": {}
        }
      ]
    },
    {
      "cell_type": "markdown",
      "source": [
        "**Comparison with Python:**\n",
        "\n",
        "In R, the modulo operator is `%%`, whereas in Python, the modulo operator is `%`."
      ],
      "metadata": {
        "id": "PiZPCfr931MV"
      }
    },
    {
      "cell_type": "code",
      "source": [
        "#Order of Operations followed in R\n",
        "4 + 20 * 20 + 8 / 2"
      ],
      "metadata": {
        "colab": {
          "base_uri": "https://localhost:8080/",
          "height": 34
        },
        "id": "ANfdMyp13wyL",
        "outputId": "0712ac68-0239-4180-fe64-50f1b0ff4329"
      },
      "execution_count": 11,
      "outputs": [
        {
          "output_type": "display_data",
          "data": {
            "text/html": [
              "408"
            ],
            "text/markdown": "408",
            "text/latex": "408",
            "text/plain": [
              "[1] 408"
            ]
          },
          "metadata": {}
        }
      ]
    },
    {
      "cell_type": "markdown",
      "source": [
        "R, like Python has a set of rules for the order in which operations are performed. Multiplication and division have higher precedence than addition and subtraction. So, in the expression 4 + 20 * 20 + 8 / 2, the multiplication is done first, resulting in 100. Then, the divisioin is done. Finally, the additions are performed from left to right."
      ],
      "metadata": {
        "id": "rjF8UQ-c5eJ1"
      }
    },
    {
      "cell_type": "code",
      "source": [
        "4 + (20*20) + (8/2)"
      ],
      "metadata": {
        "colab": {
          "base_uri": "https://localhost:8080/",
          "height": 34
        },
        "id": "8MTeQvVB5Z2C",
        "outputId": "0e035ed3-b267-40d4-e556-72cd5fcb6ba7"
      },
      "execution_count": 12,
      "outputs": [
        {
          "output_type": "display_data",
          "data": {
            "text/html": [
              "408"
            ],
            "text/markdown": "408",
            "text/latex": "408",
            "text/plain": [
              "[1] 408"
            ]
          },
          "metadata": {}
        }
      ]
    },
    {
      "cell_type": "markdown",
      "source": [
        "You can use parentheses to specify and change orders."
      ],
      "metadata": {
        "id": "5eGLTHJn5rA8"
      }
    },
    {
      "cell_type": "code",
      "source": [
        "#Using parentheses to specify orders\n",
        "(4 + 20) * ((20 + 8) / 2)"
      ],
      "metadata": {
        "colab": {
          "base_uri": "https://localhost:8080/",
          "height": 34
        },
        "id": "O5Pmf6yv5lbj",
        "outputId": "c0dd85b6-ec98-4c9e-f756-0a3a9b7bb294"
      },
      "execution_count": 13,
      "outputs": [
        {
          "output_type": "display_data",
          "data": {
            "text/html": [
              "336"
            ],
            "text/markdown": "336",
            "text/latex": "336",
            "text/plain": [
              "[1] 336"
            ]
          },
          "metadata": {}
        }
      ]
    },
    {
      "cell_type": "markdown",
      "source": [
        "<table>\n",
        "<tr>\n",
        "    <th>Operation</th>\n",
        "    <th>R Operator</th>\n",
        "    <th>Python Operator</th>\n",
        "    <th>Example in R</th>\n",
        "    <th>Example in Python</th>\n",
        "</tr>\n",
        "\n",
        "<tr>\n",
        "    <td>Addition</td>\n",
        "    <td>+</td>\n",
        "    <td>+</td>\n",
        "    <td>5 + 3  →  8</td>\n",
        "    <td>5 + 3  →  8</td>\n",
        "</tr>\n",
        "\n",
        "<tr>\n",
        "    <td>Subtraction</td>\n",
        "    <td>-</td>\n",
        "    <td>-</td>\n",
        "    <td>5 - 3  →  2</td>\n",
        "    <td>5 - 3  →  2</td>\n",
        "</tr>\n",
        "\n",
        "<tr>\n",
        "    <td>Multiplication</td>\n",
        "    <td>*</td>\n",
        "    <td>*</td>\n",
        "    <td>5 * 3  →  15</td>\n",
        "    <td>5 * 3  →  15</td>\n",
        "</tr>\n",
        "\n",
        "<tr>\n",
        "    <td>Division</td>\n",
        "    <td>/</td>\n",
        "    <td>/</td>\n",
        "    <td>5 / 3  →  1.6667</td>\n",
        "    <td>5 / 3  →  1.6667</td>\n",
        "</tr>\n",
        "\n",
        "<tr>\n",
        "    <td>Integer (Floor) Division</td>\n",
        "    <td>%/%</td>\n",
        "    <td>//</td>\n",
        "    <td>5 %/% 3  →  1</td>\n",
        "    <td>5 // 3  →  1</td>\n",
        "</tr>\n",
        "\n",
        "<tr>\n",
        "    <td>Modulo (Remainder)</td>\n",
        "    <td>%%</td>\n",
        "    <td>%</td>\n",
        "    <td>5 %% 3  →  2</td>\n",
        "    <td>5 % 3  →  2</td>\n",
        "</tr>\n",
        "\n",
        "<tr>\n",
        "    <td>Exponentiation</td>\n",
        "    <td>^</td>\n",
        "    <td>**</td>\n",
        "    <td>2 ^ 3  →  8</td>\n",
        "    <td>2 ** 3  →  8</td>\n",
        "</tr>\n"
      ],
      "metadata": {
        "id": "mS6SrzBwEwp5"
      }
    },
    {
      "cell_type": "markdown",
      "source": [
        "<a name='R_Builtin_Arithmetic_Functions'></a>\n",
        "\n",
        "## 1.3. R Built-in Arithmetic Functions:"
      ],
      "metadata": {
        "id": "Rs7syqse5_c0"
      }
    },
    {
      "cell_type": "markdown",
      "source": [
        "**`abs(x)`**: Returns the absolute value of x."
      ],
      "metadata": {
        "id": "cdOnJDLe7vXS"
      }
    },
    {
      "cell_type": "code",
      "source": [
        "abs(-5)"
      ],
      "metadata": {
        "colab": {
          "base_uri": "https://localhost:8080/",
          "height": 34
        },
        "id": "iIlLOHxh5tbC",
        "outputId": "662bdf49-6275-4fdd-a593-48dc0727a341"
      },
      "execution_count": 14,
      "outputs": [
        {
          "output_type": "display_data",
          "data": {
            "text/html": [
              "5"
            ],
            "text/markdown": "5",
            "text/latex": "5",
            "text/plain": [
              "[1] 5"
            ]
          },
          "metadata": {}
        }
      ]
    },
    {
      "cell_type": "code",
      "source": [
        "abs(3)"
      ],
      "metadata": {
        "colab": {
          "base_uri": "https://localhost:8080/",
          "height": 34
        },
        "id": "pC8rJpxQ78fi",
        "outputId": "a9d86386-9ed7-47a1-8e3e-3ebd42f30ffc"
      },
      "execution_count": 15,
      "outputs": [
        {
          "output_type": "display_data",
          "data": {
            "text/html": [
              "3"
            ],
            "text/markdown": "3",
            "text/latex": "3",
            "text/plain": [
              "[1] 3"
            ]
          },
          "metadata": {}
        }
      ]
    },
    {
      "cell_type": "markdown",
      "source": [
        "**`sign(x)`**: Returns the sign of x as -1, 0, or 1."
      ],
      "metadata": {
        "id": "Aq6Fkytk8Y_a"
      }
    },
    {
      "cell_type": "code",
      "source": [
        "sign(-5)"
      ],
      "metadata": {
        "colab": {
          "base_uri": "https://localhost:8080/",
          "height": 34
        },
        "id": "ZKj9KeMJ8EP4",
        "outputId": "bfbd3b05-2c0d-47ac-edff-aa5c01176576"
      },
      "execution_count": 16,
      "outputs": [
        {
          "output_type": "display_data",
          "data": {
            "text/html": [
              "-1"
            ],
            "text/markdown": "-1",
            "text/latex": "-1",
            "text/plain": [
              "[1] -1"
            ]
          },
          "metadata": {}
        }
      ]
    },
    {
      "cell_type": "markdown",
      "source": [
        "**`round(x, digits)`**: Rounds x to a specified number of decimal places."
      ],
      "metadata": {
        "id": "-iJE8Dvq8pZa"
      }
    },
    {
      "cell_type": "code",
      "source": [
        "round(3.2359, 3)"
      ],
      "metadata": {
        "colab": {
          "base_uri": "https://localhost:8080/",
          "height": 34
        },
        "id": "rdZCm8X-8ilK",
        "outputId": "ffb49f2e-43a6-4815-90fe-cefa0122a243"
      },
      "execution_count": 17,
      "outputs": [
        {
          "output_type": "display_data",
          "data": {
            "text/html": [
              "3.236"
            ],
            "text/markdown": "3.236",
            "text/latex": "3.236",
            "text/plain": [
              "[1] 3.236"
            ]
          },
          "metadata": {}
        }
      ]
    },
    {
      "cell_type": "markdown",
      "source": [
        "**`ceiling(x)`**: Rounds x up to the nearest integer."
      ],
      "metadata": {
        "id": "zLb5m49f873B"
      }
    },
    {
      "cell_type": "code",
      "source": [
        "ceiling(5.2)"
      ],
      "metadata": {
        "colab": {
          "base_uri": "https://localhost:8080/",
          "height": 34
        },
        "id": "kotODKkO81ZY",
        "outputId": "156f6890-4bfa-4309-b92e-dbd1a33c7325"
      },
      "execution_count": 18,
      "outputs": [
        {
          "output_type": "display_data",
          "data": {
            "text/html": [
              "6"
            ],
            "text/markdown": "6",
            "text/latex": "6",
            "text/plain": [
              "[1] 6"
            ]
          },
          "metadata": {}
        }
      ]
    },
    {
      "cell_type": "markdown",
      "source": [
        "**`floor(x)`**: Rounds x down to the nearest integer."
      ],
      "metadata": {
        "id": "zUAzNP8Q9Kw7"
      }
    },
    {
      "cell_type": "code",
      "source": [
        "floor(5.8)"
      ],
      "metadata": {
        "colab": {
          "base_uri": "https://localhost:8080/",
          "height": 34
        },
        "id": "j98VMfuP9Afn",
        "outputId": "475e8018-e8cd-4219-ae82-ed6363d02a60"
      },
      "execution_count": 19,
      "outputs": [
        {
          "output_type": "display_data",
          "data": {
            "text/html": [
              "5"
            ],
            "text/markdown": "5",
            "text/latex": "5",
            "text/plain": [
              "[1] 5"
            ]
          },
          "metadata": {}
        }
      ]
    },
    {
      "cell_type": "markdown",
      "source": [
        "**`trunc(x)`**: Truncates x by removing the fractional part."
      ],
      "metadata": {
        "id": "l1tYpd8O9rFq"
      }
    },
    {
      "cell_type": "code",
      "source": [
        "trunc(5.8)"
      ],
      "metadata": {
        "colab": {
          "base_uri": "https://localhost:8080/",
          "height": 34
        },
        "id": "Yg12tOg_9QkA",
        "outputId": "38b902be-3229-402a-d2b8-cc7782504b6d"
      },
      "execution_count": 20,
      "outputs": [
        {
          "output_type": "display_data",
          "data": {
            "text/html": [
              "5"
            ],
            "text/markdown": "5",
            "text/latex": "5",
            "text/plain": [
              "[1] 5"
            ]
          },
          "metadata": {}
        }
      ]
    },
    {
      "cell_type": "markdown",
      "source": [
        "**`signif(x, digits)`**: Rounds x to the specified number of significant digits."
      ],
      "metadata": {
        "id": "1-o0O-_691b4"
      }
    },
    {
      "cell_type": "code",
      "source": [
        "signif(123.456, 3)"
      ],
      "metadata": {
        "colab": {
          "base_uri": "https://localhost:8080/",
          "height": 34
        },
        "id": "k86yd4_k9vv_",
        "outputId": "6eec1462-6e4a-4dc2-bade-097af76d3965"
      },
      "execution_count": 21,
      "outputs": [
        {
          "output_type": "display_data",
          "data": {
            "text/html": [
              "123"
            ],
            "text/markdown": "123",
            "text/latex": "123",
            "text/plain": [
              "[1] 123"
            ]
          },
          "metadata": {}
        }
      ]
    },
    {
      "cell_type": "markdown",
      "source": [
        "**`exp(x)`**: Returns the exponential of x (e^x)."
      ],
      "metadata": {
        "id": "-1otKviT-Hao"
      }
    },
    {
      "cell_type": "code",
      "source": [
        "exp(1)"
      ],
      "metadata": {
        "colab": {
          "base_uri": "https://localhost:8080/",
          "height": 34
        },
        "id": "pplaFPh595mB",
        "outputId": "542cf272-2cf3-4e31-a4cf-efdcdf3a11a6"
      },
      "execution_count": 22,
      "outputs": [
        {
          "output_type": "display_data",
          "data": {
            "text/html": [
              "2.71828182845905"
            ],
            "text/markdown": "2.71828182845905",
            "text/latex": "2.71828182845905",
            "text/plain": [
              "[1] 2.718282"
            ]
          },
          "metadata": {}
        }
      ]
    },
    {
      "cell_type": "markdown",
      "source": [
        "**`log(x, base)`**: Computes the logarithm of x to a given base (default is e for natural log)."
      ],
      "metadata": {
        "id": "DHC6XOLj-SC4"
      }
    },
    {
      "cell_type": "code",
      "source": [
        "log(10)"
      ],
      "metadata": {
        "colab": {
          "base_uri": "https://localhost:8080/",
          "height": 34
        },
        "id": "yVY3AIhg-MNX",
        "outputId": "cd4ace6f-8025-49e3-f3bb-73f0ce8a5b42"
      },
      "execution_count": 23,
      "outputs": [
        {
          "output_type": "display_data",
          "data": {
            "text/html": [
              "2.30258509299405"
            ],
            "text/markdown": "2.30258509299405",
            "text/latex": "2.30258509299405",
            "text/plain": [
              "[1] 2.302585"
            ]
          },
          "metadata": {}
        }
      ]
    },
    {
      "cell_type": "code",
      "source": [
        "log(100, base=10)"
      ],
      "metadata": {
        "colab": {
          "base_uri": "https://localhost:8080/",
          "height": 34
        },
        "id": "kyrW9GR7-cAH",
        "outputId": "27ac71db-d0a0-4187-c14e-1fcf63205e07"
      },
      "execution_count": 24,
      "outputs": [
        {
          "output_type": "display_data",
          "data": {
            "text/html": [
              "2"
            ],
            "text/markdown": "2",
            "text/latex": "2",
            "text/plain": [
              "[1] 2"
            ]
          },
          "metadata": {}
        }
      ]
    },
    {
      "cell_type": "markdown",
      "source": [
        "**`sqrt(x)`**: Computes the square root of x."
      ],
      "metadata": {
        "id": "mozoBgo_-kzZ"
      }
    },
    {
      "cell_type": "code",
      "source": [
        "sqrt(16)"
      ],
      "metadata": {
        "colab": {
          "base_uri": "https://localhost:8080/",
          "height": 34
        },
        "id": "d964Hc-C-cg_",
        "outputId": "ea987be9-f20f-4ec6-dba3-4595116bcc49"
      },
      "execution_count": 25,
      "outputs": [
        {
          "output_type": "display_data",
          "data": {
            "text/html": [
              "4"
            ],
            "text/markdown": "4",
            "text/latex": "4",
            "text/plain": [
              "[1] 4"
            ]
          },
          "metadata": {}
        }
      ]
    },
    {
      "cell_type": "markdown",
      "source": [
        "**`sin(x)`**: Sine of x (in radians).\n",
        "\n"
      ],
      "metadata": {
        "id": "Qffbb2LD-u-R"
      }
    },
    {
      "cell_type": "code",
      "source": [
        "sin(pi/2)"
      ],
      "metadata": {
        "colab": {
          "base_uri": "https://localhost:8080/",
          "height": 34
        },
        "id": "Iejn8GTA-oxn",
        "outputId": "458705b9-5e71-4e07-8b6e-0699e895a65d"
      },
      "execution_count": 26,
      "outputs": [
        {
          "output_type": "display_data",
          "data": {
            "text/html": [
              "1"
            ],
            "text/markdown": "1",
            "text/latex": "1",
            "text/plain": [
              "[1] 1"
            ]
          },
          "metadata": {}
        }
      ]
    },
    {
      "cell_type": "markdown",
      "source": [
        "**`cos(x)`**: Cosine of x (in radians)."
      ],
      "metadata": {
        "id": "OBs76xLr-4lP"
      }
    },
    {
      "cell_type": "code",
      "source": [
        "cos(0)"
      ],
      "metadata": {
        "colab": {
          "base_uri": "https://localhost:8080/",
          "height": 34
        },
        "id": "XOlHhH3C-09H",
        "outputId": "878d80dc-bd35-443b-e9a7-8eaa17463964"
      },
      "execution_count": 27,
      "outputs": [
        {
          "output_type": "display_data",
          "data": {
            "text/html": [
              "1"
            ],
            "text/markdown": "1",
            "text/latex": "1",
            "text/plain": [
              "[1] 1"
            ]
          },
          "metadata": {}
        }
      ]
    },
    {
      "cell_type": "markdown",
      "source": [
        "**`tan(x)`**: Tangent of x (in radians)."
      ],
      "metadata": {
        "id": "hjUpRaJt_GhB"
      }
    },
    {
      "cell_type": "code",
      "source": [
        "tan(pi/4)"
      ],
      "metadata": {
        "colab": {
          "base_uri": "https://localhost:8080/",
          "height": 34
        },
        "id": "jAOpBcK1_OIY",
        "outputId": "a2c7e256-e97b-4e50-a4d0-be734c0baecf"
      },
      "execution_count": 28,
      "outputs": [
        {
          "output_type": "display_data",
          "data": {
            "text/html": [
              "1"
            ],
            "text/markdown": "1",
            "text/latex": "1",
            "text/plain": [
              "[1] 1"
            ]
          },
          "metadata": {}
        }
      ]
    },
    {
      "cell_type": "markdown",
      "source": [
        "**`asin(x)`**: Arc sine of x."
      ],
      "metadata": {
        "id": "PPJwHDE1_bvg"
      }
    },
    {
      "cell_type": "code",
      "source": [
        "asin(1)"
      ],
      "metadata": {
        "colab": {
          "base_uri": "https://localhost:8080/",
          "height": 34
        },
        "id": "S_R_9FuH_Pin",
        "outputId": "e4f0d495-be09-4215-833a-45c0e7039873"
      },
      "execution_count": 29,
      "outputs": [
        {
          "output_type": "display_data",
          "data": {
            "text/html": [
              "1.5707963267949"
            ],
            "text/markdown": "1.5707963267949",
            "text/latex": "1.5707963267949",
            "text/plain": [
              "[1] 1.570796"
            ]
          },
          "metadata": {}
        }
      ]
    },
    {
      "cell_type": "markdown",
      "source": [
        "**`acos(x)`**: Arc cosine of x."
      ],
      "metadata": {
        "id": "e_zIluoh_mz_"
      }
    },
    {
      "cell_type": "code",
      "source": [
        "acos(1)"
      ],
      "metadata": {
        "colab": {
          "base_uri": "https://localhost:8080/",
          "height": 34
        },
        "id": "q8ojK9rV_f7G",
        "outputId": "8c6a1e6f-92b9-4e56-c631-153e8fef2b39"
      },
      "execution_count": 30,
      "outputs": [
        {
          "output_type": "display_data",
          "data": {
            "text/html": [
              "0"
            ],
            "text/markdown": "0",
            "text/latex": "0",
            "text/plain": [
              "[1] 0"
            ]
          },
          "metadata": {}
        }
      ]
    },
    {
      "cell_type": "markdown",
      "source": [
        "**`atan(x)`**: Arc tangent of x."
      ],
      "metadata": {
        "id": "ge0Uk4wC_xSA"
      }
    },
    {
      "cell_type": "code",
      "source": [
        "atan(1)"
      ],
      "metadata": {
        "colab": {
          "base_uri": "https://localhost:8080/",
          "height": 34
        },
        "id": "-9oFHMaT_rH3",
        "outputId": "1ba8573c-e227-416c-eb40-3fdde2bebe74"
      },
      "execution_count": 31,
      "outputs": [
        {
          "output_type": "display_data",
          "data": {
            "text/html": [
              "0.785398163397448"
            ],
            "text/markdown": "0.785398163397448",
            "text/latex": "0.785398163397448",
            "text/plain": [
              "[1] 0.7853982"
            ]
          },
          "metadata": {}
        }
      ]
    },
    {
      "cell_type": "markdown",
      "source": [
        "**`sinh(x)`**: Hyperbolic sine of x."
      ],
      "metadata": {
        "id": "9XdNvtk_AEEQ"
      }
    },
    {
      "cell_type": "code",
      "source": [
        "sinh(1)"
      ],
      "metadata": {
        "colab": {
          "base_uri": "https://localhost:8080/",
          "height": 34
        },
        "id": "i5QML_zy_1nm",
        "outputId": "3a38bc55-9923-4092-ea38-f8757a9de359"
      },
      "execution_count": 32,
      "outputs": [
        {
          "output_type": "display_data",
          "data": {
            "text/html": [
              "1.1752011936438"
            ],
            "text/markdown": "1.1752011936438",
            "text/latex": "1.1752011936438",
            "text/plain": [
              "[1] 1.175201"
            ]
          },
          "metadata": {}
        }
      ]
    },
    {
      "cell_type": "markdown",
      "source": [
        "**`cosh(x)`**: Hyperbolic cosine of x."
      ],
      "metadata": {
        "id": "-qsf-eTKAJoY"
      }
    },
    {
      "cell_type": "code",
      "source": [
        "cosh(1)"
      ],
      "metadata": {
        "colab": {
          "base_uri": "https://localhost:8080/",
          "height": 34
        },
        "id": "Y10JCoNFAHzv",
        "outputId": "0ae94996-8f9c-4707-e963-284982e63096"
      },
      "execution_count": 33,
      "outputs": [
        {
          "output_type": "display_data",
          "data": {
            "text/html": [
              "1.54308063481524"
            ],
            "text/markdown": "1.54308063481524",
            "text/latex": "1.54308063481524",
            "text/plain": [
              "[1] 1.543081"
            ]
          },
          "metadata": {}
        }
      ]
    },
    {
      "cell_type": "markdown",
      "source": [
        "**`tanh(x)`**: Hyperbolic tangent of x."
      ],
      "metadata": {
        "id": "HiCsT8_BASIe"
      }
    },
    {
      "cell_type": "code",
      "source": [
        "tanh(1)"
      ],
      "metadata": {
        "colab": {
          "base_uri": "https://localhost:8080/",
          "height": 34
        },
        "id": "3Sz41g8TAQB2",
        "outputId": "fd29df36-44cb-46d1-9cb5-05a3cedcceab"
      },
      "execution_count": 34,
      "outputs": [
        {
          "output_type": "display_data",
          "data": {
            "text/html": [
              "0.761594155955765"
            ],
            "text/markdown": "0.761594155955765",
            "text/latex": "0.761594155955765",
            "text/plain": [
              "[1] 0.7615942"
            ]
          },
          "metadata": {}
        }
      ]
    },
    {
      "cell_type": "markdown",
      "source": [
        "**`max(x1, x2, ...)`**: Returns the maximum value."
      ],
      "metadata": {
        "id": "YGBNj_elAbGI"
      }
    },
    {
      "cell_type": "code",
      "source": [
        "max(1, 2, 3)"
      ],
      "metadata": {
        "colab": {
          "base_uri": "https://localhost:8080/",
          "height": 34
        },
        "id": "7E9SEbQdAZHf",
        "outputId": "923f02e7-96e8-4f5e-da28-b7be1a4f9b81"
      },
      "execution_count": 35,
      "outputs": [
        {
          "output_type": "display_data",
          "data": {
            "text/html": [
              "3"
            ],
            "text/markdown": "3",
            "text/latex": "3",
            "text/plain": [
              "[1] 3"
            ]
          },
          "metadata": {}
        }
      ]
    },
    {
      "cell_type": "markdown",
      "source": [
        "**`min(x1, x2, ...)`**: Returns the minimum value."
      ],
      "metadata": {
        "id": "6wu1RNymAjgu"
      }
    },
    {
      "cell_type": "code",
      "source": [
        "min(1, 2, 3)"
      ],
      "metadata": {
        "colab": {
          "base_uri": "https://localhost:8080/",
          "height": 34
        },
        "id": "66YE2H85AfKd",
        "outputId": "997d6f06-56c5-47a2-b0a8-18b8b6c0f4dc"
      },
      "execution_count": 36,
      "outputs": [
        {
          "output_type": "display_data",
          "data": {
            "text/html": [
              "1"
            ],
            "text/markdown": "1",
            "text/latex": "1",
            "text/plain": [
              "[1] 1"
            ]
          },
          "metadata": {}
        }
      ]
    },
    {
      "cell_type": "markdown",
      "source": [
        "**`sum(x)`**: Returns the sum of all elements."
      ],
      "metadata": {
        "id": "nFLv_AGBArSA"
      }
    },
    {
      "cell_type": "code",
      "source": [
        "sum(1, 2, 3)"
      ],
      "metadata": {
        "colab": {
          "base_uri": "https://localhost:8080/",
          "height": 34
        },
        "id": "B_Uf-x3JApFt",
        "outputId": "3568417c-9348-4fc7-e369-456bc2bd90ad"
      },
      "execution_count": 37,
      "outputs": [
        {
          "output_type": "display_data",
          "data": {
            "text/html": [
              "6"
            ],
            "text/markdown": "6",
            "text/latex": "6",
            "text/plain": [
              "[1] 6"
            ]
          },
          "metadata": {}
        }
      ]
    },
    {
      "cell_type": "markdown",
      "source": [
        "**`prod(x)`**: Returns the product of all elements."
      ],
      "metadata": {
        "id": "2OctCwRjA6-b"
      }
    },
    {
      "cell_type": "code",
      "source": [
        "prod(1, 2, 3)"
      ],
      "metadata": {
        "colab": {
          "base_uri": "https://localhost:8080/",
          "height": 34
        },
        "id": "_YOH3QppAwDl",
        "outputId": "969b588a-274d-4224-c337-526458c13de4"
      },
      "execution_count": 38,
      "outputs": [
        {
          "output_type": "display_data",
          "data": {
            "text/html": [
              "6"
            ],
            "text/markdown": "6",
            "text/latex": "6",
            "text/plain": [
              "[1] 6"
            ]
          },
          "metadata": {}
        }
      ]
    },
    {
      "cell_type": "markdown",
      "source": [
        "<a name='Variable_Assignment'></a>\n",
        "\n",
        "## 1.4. Variable Assignment:"
      ],
      "metadata": {
        "id": "X-PAFoj0CSMS"
      }
    },
    {
      "cell_type": "markdown",
      "source": [
        "Now that we understand how to perform calculations in R, let's learn about variables and how to assign values to them.\n",
        "\n",
        "A variable in R is also a container that stores a value, similar to how it works in Python. You can think of it as a labeled box, and you can store different values inside that box. The name of the variable allows you to access the value stored in it.\n",
        "\n",
        "In R, you typically use either the assignment operator `<-` or `=` to assign a value to a variable."
      ],
      "metadata": {
        "id": "Dn7kVDj7Gv00"
      }
    },
    {
      "cell_type": "markdown",
      "source": [
        "**Comparison with Python:**\n",
        "\n",
        "In Python, only `=` is used for assigning a value to a variable. However, in R, both `<-` or `=` can be used."
      ],
      "metadata": {
        "id": "hRKXWlrEUXHN"
      }
    },
    {
      "cell_type": "code",
      "source": [
        "x <- 10  #Assigns the value 10 to the variable x\n",
        "\n",
        "y = 5    #This also assigns the value 5 to the variable y\n",
        "\n",
        "x\n",
        "y"
      ],
      "metadata": {
        "colab": {
          "base_uri": "https://localhost:8080/",
          "height": 52
        },
        "id": "7FinieJNBA_o",
        "outputId": "da9c0f6d-6a65-4cac-81c3-92e2faed1fd9"
      },
      "execution_count": 39,
      "outputs": [
        {
          "output_type": "display_data",
          "data": {
            "text/html": [
              "10"
            ],
            "text/markdown": "10",
            "text/latex": "10",
            "text/plain": [
              "[1] 10"
            ]
          },
          "metadata": {}
        },
        {
          "output_type": "display_data",
          "data": {
            "text/html": [
              "5"
            ],
            "text/markdown": "5",
            "text/latex": "5",
            "text/plain": [
              "[1] 5"
            ]
          },
          "metadata": {}
        }
      ]
    },
    {
      "cell_type": "markdown",
      "source": [
        "In R, both x and y will be printed when their names are entered after assignment, whereas in Python, only y will be displayed unless `print(x)` is explicitly used to show the value of x."
      ],
      "metadata": {
        "id": "BzGaMwLcSJ9l"
      }
    },
    {
      "cell_type": "code",
      "source": [
        "#Create a variable and assign a value\n",
        "a = 25"
      ],
      "metadata": {
        "id": "hvGtlUjeHQay"
      },
      "execution_count": 40,
      "outputs": []
    },
    {
      "cell_type": "markdown",
      "source": [
        "Now if you call a in the R script, R will treat it as the number 25."
      ],
      "metadata": {
        "id": "-vZR3pf_SZzu"
      }
    },
    {
      "cell_type": "code",
      "source": [
        "a"
      ],
      "metadata": {
        "colab": {
          "base_uri": "https://localhost:8080/",
          "height": 34
        },
        "id": "KgjHt8UeSTvb",
        "outputId": "e32d556d-c510-4094-ac87-1c17bbd91b27"
      },
      "execution_count": 41,
      "outputs": [
        {
          "output_type": "display_data",
          "data": {
            "text/html": [
              "25"
            ],
            "text/markdown": "25",
            "text/latex": "25",
            "text/plain": [
              "[1] 25"
            ]
          },
          "metadata": {}
        }
      ]
    },
    {
      "cell_type": "markdown",
      "source": [
        "You can use all basic arithmetic operation using variables containing values."
      ],
      "metadata": {
        "id": "60nBpKq6SjRn"
      }
    },
    {
      "cell_type": "code",
      "source": [
        "a + a"
      ],
      "metadata": {
        "colab": {
          "base_uri": "https://localhost:8080/",
          "height": 34
        },
        "id": "8cn39NQJSfwc",
        "outputId": "2fdb21b4-535b-4cd5-edbb-6387dd65e3bd"
      },
      "execution_count": 42,
      "outputs": [
        {
          "output_type": "display_data",
          "data": {
            "text/html": [
              "50"
            ],
            "text/markdown": "50",
            "text/latex": "50",
            "text/plain": [
              "[1] 50"
            ]
          },
          "metadata": {}
        }
      ]
    },
    {
      "cell_type": "code",
      "source": [
        "a * 2"
      ],
      "metadata": {
        "colab": {
          "base_uri": "https://localhost:8080/",
          "height": 34
        },
        "id": "0YHgnnWJSk21",
        "outputId": "2cc40229-08cd-4054-a0be-ea01a15d2eaa"
      },
      "execution_count": 43,
      "outputs": [
        {
          "output_type": "display_data",
          "data": {
            "text/html": [
              "50"
            ],
            "text/markdown": "50",
            "text/latex": "50",
            "text/plain": [
              "[1] 50"
            ]
          },
          "metadata": {}
        }
      ]
    },
    {
      "cell_type": "markdown",
      "source": [
        "When creating variable names in R, there are specific rules you need to follow:\n",
        "\n",
        "1. Names cannot start with a number. For example, 2ndValue is invalid, but value2 is valid.\n",
        "\n",
        "2. There can be no spaces in the name. Instead of spaces, you can use underscores (_). For example, use my_variable instead of my variable.\n",
        "\n",
        "3. Avoid using certain symbols. You cannot use special characters such as: '\",<>/?|\\()!@#$%^&*~-+. Valid characters include letters, numbers, and the dot (.) or underscore (_).\n",
        "\n",
        "4. Best practice is to use lowercase letters. Although R allows uppercase letters, it's a common convention to use lowercase for readability and consistency.\n",
        "\n",
        "5. Avoid using single character names that can be confusing. For example, avoid using l (lowercase \"el\"), O (uppercase \"oh\"), or I (uppercase \"eye\") as single-character variable names.\n",
        "\n",
        "6. Avoid using reserved words or special meanings in R. Some common words like if, else, function, and data are reserved keywords and should not be used as variable names."
      ],
      "metadata": {
        "id": "bh3bluQpTtvs"
      }
    },
    {
      "cell_type": "code",
      "source": [
        "#Define variables\n",
        "product_price = 599.99\n",
        "quantity_sold = 100\n",
        "\n",
        "#Calculate total revenue\n",
        "total_revenue = product_price * quantity_sold\n",
        "\n",
        "#Result\n",
        "total_revenue"
      ],
      "metadata": {
        "colab": {
          "base_uri": "https://localhost:8080/",
          "height": 34
        },
        "id": "qG2Vl07HTMys",
        "outputId": "d8d671ee-697b-4992-c8e4-3f7010de1d61"
      },
      "execution_count": 44,
      "outputs": [
        {
          "output_type": "display_data",
          "data": {
            "text/html": [
              "59999"
            ],
            "text/markdown": "59999",
            "text/latex": "59999",
            "text/plain": [
              "[1] 59999"
            ]
          },
          "metadata": {}
        }
      ]
    },
    {
      "cell_type": "markdown",
      "source": [
        "<a name='Variable_Reassignment'></a>\n",
        "\n",
        "## 1.5. Variable Reassignment"
      ],
      "metadata": {
        "id": "y9JhPV5VUU0s"
      }
    },
    {
      "cell_type": "markdown",
      "source": [
        "In R, variables can be reassigned to hold different values throughout the execution of a program. This means you can change the value stored in a variable at any time. This feature is also known as dynamic typing, similar to Python, and it differs from other programming languages that are statically typed."
      ],
      "metadata": {
        "id": "C1Ix6Re5VbdF"
      }
    },
    {
      "cell_type": "code",
      "source": [
        "x <- 10        #Assigns the value 10 to x\n",
        "x <- 20        #Reassigns x to hold the value 20\n",
        "print(x)"
      ],
      "metadata": {
        "colab": {
          "base_uri": "https://localhost:8080/"
        },
        "id": "bIsBqvXWUE27",
        "outputId": "7517cad8-8bb2-4344-bca5-076a6178dc8b"
      },
      "execution_count": 45,
      "outputs": [
        {
          "output_type": "stream",
          "name": "stdout",
          "text": [
            "[1] 20\n"
          ]
        }
      ]
    },
    {
      "cell_type": "markdown",
      "source": [
        "We can also use the variables themselves when doing the reassignment. Here is an example:"
      ],
      "metadata": {
        "id": "wXL3Tv4lWANV"
      }
    },
    {
      "cell_type": "code",
      "source": [
        "a"
      ],
      "metadata": {
        "colab": {
          "base_uri": "https://localhost:8080/",
          "height": 34
        },
        "id": "pEptJjPVWF0T",
        "outputId": "b2e3c15c-095c-48b2-e37e-4d45c7c07ef1"
      },
      "execution_count": 46,
      "outputs": [
        {
          "output_type": "display_data",
          "data": {
            "text/html": [
              "25"
            ],
            "text/markdown": "25",
            "text/latex": "25",
            "text/plain": [
              "[1] 25"
            ]
          },
          "metadata": {}
        }
      ]
    },
    {
      "cell_type": "code",
      "source": [
        "a <- a - 10"
      ],
      "metadata": {
        "id": "R2V9FGrjVluC"
      },
      "execution_count": 47,
      "outputs": []
    },
    {
      "cell_type": "code",
      "source": [
        "a"
      ],
      "metadata": {
        "colab": {
          "base_uri": "https://localhost:8080/",
          "height": 34
        },
        "id": "6yYcpSc4WSKS",
        "outputId": "8c081967-6d8f-42df-8248-b9c088123292"
      },
      "execution_count": 48,
      "outputs": [
        {
          "output_type": "display_data",
          "data": {
            "text/html": [
              "15"
            ],
            "text/markdown": "15",
            "text/latex": "15",
            "text/plain": [
              "[1] 15"
            ]
          },
          "metadata": {}
        }
      ]
    },
    {
      "cell_type": "markdown",
      "source": [
        "In R, combined assignment operators like `+=`, `-=`, `*=`, and `/=` do not exist as they do in Python. Instead, R requires the use of the standard assignment operator (<- or =) along with the arithmetic operation to update variable values."
      ],
      "metadata": {
        "id": "8UFx2bd1Wfpi"
      }
    },
    {
      "cell_type": "code",
      "source": [
        "a *= 2\n",
        "\n",
        "a"
      ],
      "metadata": {
        "colab": {
          "base_uri": "https://localhost:8080/",
          "height": 106
        },
        "id": "qPQ7ZUwfWS26",
        "outputId": "076e6c5b-dca0-49d6-bf28-e4733700794c"
      },
      "execution_count": 49,
      "outputs": [
        {
          "output_type": "error",
          "ename": "ERROR",
          "evalue": "Error in parse(text = input): <text>:1:4: unexpected '='\n1: a *=\n       ^\n",
          "traceback": [
            "Error in parse(text = input): <text>:1:4: unexpected '='\n1: a *=\n       ^\nTraceback:\n"
          ]
        }
      ]
    },
    {
      "cell_type": "code",
      "source": [
        "a <- a *2\n",
        "\n",
        "a"
      ],
      "metadata": {
        "colab": {
          "base_uri": "https://localhost:8080/",
          "height": 34
        },
        "id": "3MDBI2rkXteh",
        "outputId": "cb447be5-99e4-440d-f9b3-af250a393809"
      },
      "execution_count": 50,
      "outputs": [
        {
          "output_type": "display_data",
          "data": {
            "text/html": [
              "30"
            ],
            "text/markdown": "30",
            "text/latex": "30",
            "text/plain": [
              "[1] 30"
            ]
          },
          "metadata": {}
        }
      ]
    },
    {
      "cell_type": "markdown",
      "source": [
        "<a name='Determining_Variable_Type'></a>\n",
        "\n",
        "## 1.6. Determining Variable Type:\n"
      ],
      "metadata": {
        "id": "0eCzE4DfYQcw"
      }
    },
    {
      "cell_type": "markdown",
      "source": [
        "In R, you can check the type of object assigned to a variable using the built-in `class()` function. Common data types in R include those we will discuss later:\n",
        "\n",
        "* **numeric** (for both integer and floating-point numbers)\n",
        "* **integer** (specifically for integers, indicated by the suffix L when assigned)\n",
        "* **character** (for strings)\n",
        "* **logical** (for Boolean TRUE/FALSE)\n",
        "* **list** (for lists)\n",
        "* **data.frame** (for data frames, which are tabular data)\n",
        "* **matrix** (for matrices, which are two-dimensional arrays)\n",
        "* **factor** (for categorical data)"
      ],
      "metadata": {
        "id": "l5ORj_YuYjY7"
      }
    },
    {
      "cell_type": "code",
      "source": [
        "class(1L)\n",
        "class(1.5)\n",
        "class('hello')\n",
        "class(list(1,2,3))"
      ],
      "metadata": {
        "colab": {
          "base_uri": "https://localhost:8080/",
          "height": 86
        },
        "id": "xTVQxgVlYRr2",
        "outputId": "027afa93-a11e-4a90-8678-642a9c454600"
      },
      "execution_count": 51,
      "outputs": [
        {
          "output_type": "display_data",
          "data": {
            "text/html": [
              "'integer'"
            ],
            "text/markdown": "'integer'",
            "text/latex": "'integer'",
            "text/plain": [
              "[1] \"integer\""
            ]
          },
          "metadata": {}
        },
        {
          "output_type": "display_data",
          "data": {
            "text/html": [
              "'numeric'"
            ],
            "text/markdown": "'numeric'",
            "text/latex": "'numeric'",
            "text/plain": [
              "[1] \"numeric\""
            ]
          },
          "metadata": {}
        },
        {
          "output_type": "display_data",
          "data": {
            "text/html": [
              "'character'"
            ],
            "text/markdown": "'character'",
            "text/latex": "'character'",
            "text/plain": [
              "[1] \"character\""
            ]
          },
          "metadata": {}
        },
        {
          "output_type": "display_data",
          "data": {
            "text/html": [
              "'list'"
            ],
            "text/markdown": "'list'",
            "text/latex": "'list'",
            "text/plain": [
              "[1] \"list\""
            ]
          },
          "metadata": {}
        }
      ]
    },
    {
      "cell_type": "code",
      "source": [
        "#Creating a data frame\n",
        "students <- data.frame(\n",
        "  Name = c(\"Alice\", \"Bob\", \"Charlie\"),\n",
        "  Age = c(23, 22, 24),\n",
        "  GPA = c(3.8, 3.6, 3.9)\n",
        ")\n",
        "\n",
        "class(students)"
      ],
      "metadata": {
        "colab": {
          "base_uri": "https://localhost:8080/",
          "height": 34
        },
        "id": "B_1HgoWIYJZo",
        "outputId": "99062b2d-de4d-4fe3-8dc6-036a3da21d3e"
      },
      "execution_count": 52,
      "outputs": [
        {
          "output_type": "display_data",
          "data": {
            "text/html": [
              "'data.frame'"
            ],
            "text/markdown": "'data.frame'",
            "text/latex": "'data.frame'",
            "text/plain": [
              "[1] \"data.frame\""
            ]
          },
          "metadata": {}
        }
      ]
    },
    {
      "cell_type": "code",
      "source": [
        "my_matrix <- matrix(\n",
        "  c(1, 2, 3, 4, 5, 6), #Data for the matrix\n",
        "  nrow = 2,            #Number of rows\n",
        "  ncol = 3             #Number of columns\n",
        ")\n",
        "\n",
        "class(my_matrix)"
      ],
      "metadata": {
        "colab": {
          "base_uri": "https://localhost:8080/",
          "height": 34
        },
        "id": "-t0zqy4XZkhQ",
        "outputId": "c02d001f-15dd-48e3-d116-1e58432112bc"
      },
      "execution_count": 53,
      "outputs": [
        {
          "output_type": "display_data",
          "data": {
            "text/html": [
              "<style>\n",
              ".list-inline {list-style: none; margin:0; padding: 0}\n",
              ".list-inline>li {display: inline-block}\n",
              ".list-inline>li:not(:last-child)::after {content: \"\\00b7\"; padding: 0 .5ex}\n",
              "</style>\n",
              "<ol class=list-inline><li>'matrix'</li><li>'array'</li></ol>\n"
            ],
            "text/markdown": "1. 'matrix'\n2. 'array'\n\n\n",
            "text/latex": "\\begin{enumerate*}\n\\item 'matrix'\n\\item 'array'\n\\end{enumerate*}\n",
            "text/plain": [
              "[1] \"matrix\" \"array\" "
            ]
          },
          "metadata": {}
        }
      ]
    },
    {
      "cell_type": "code",
      "source": [
        "colors <- factor(c(\"Red\", \"Blue\", \"Green\", \"Blue\", \"Red\"))\n",
        "\n",
        "class(colors)"
      ],
      "metadata": {
        "colab": {
          "base_uri": "https://localhost:8080/",
          "height": 34
        },
        "id": "HVrJEApUZvsg",
        "outputId": "42815ba6-0399-423a-e0a1-9876e826ce15"
      },
      "execution_count": 54,
      "outputs": [
        {
          "output_type": "display_data",
          "data": {
            "text/html": [
              "'factor'"
            ],
            "text/markdown": "'factor'",
            "text/latex": "'factor'",
            "text/plain": [
              "[1] \"factor\""
            ]
          },
          "metadata": {}
        }
      ]
    },
    {
      "cell_type": "markdown",
      "source": [
        "**Table of Common Data Types**\n",
        "\n",
        "\n",
        "| R Data Type        | Description                                       | Python Data Type   | Description                                       |\n",
        "|---------------------|---------------------------------------------------|---------------------|---------------------------------------------------|\n",
        "| **integer**         | Specifically for integer values (indicated by `L` suffix).    | **int**             | Represents integer values.                         |\n",
        "| **numeric**         | Represents numbers, both integers and floats. | **float**           | Represents floating-point numbers.                 |\n",
        "| **character**       | Represents strings.                               | **str**             | Represents strings.                               |\n",
        "| **logical**         | Represents Boolean values (TRUE/FALSE).          | **bool**            | Represents Boolean values (True/False).           |\n",
        "| **list**            | An ordered collection of items, can hold different types. | **list**            | An ordered collection of items, can hold different types. |\n",
        "| **data.frame**      | A table-like structure for storing datasets.     | **dict**            | A key-value pair collection (not directly comparable to data frames). |\n",
        "| **matrix**          | A two-dimensional array of homogeneous data.     | **tuple**           | An immutable ordered collection of items.         |\n",
        "| **factor**          | Represents categorical data.                      | **set**             | An unordered collection of unique items.          |\n"
      ],
      "metadata": {
        "id": "Jyt5wI8FaMaT"
      }
    }
  ]
}