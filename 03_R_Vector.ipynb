{
  "nbformat": 4,
  "nbformat_minor": 0,
  "metadata": {
    "colab": {
      "provenance": []
    },
    "kernelspec": {
      "name": "ir",
      "display_name": "R"
    },
    "language_info": {
      "name": "R"
    }
  },
  "cells": [
    {
      "cell_type": "markdown",
      "source": [
        "# 3. Vector"
      ],
      "metadata": {
        "id": "xNvV2MIZYTQn"
      }
    },
    {
      "cell_type": "markdown",
      "source": [
        "This section will teach you how to create, manipulate, and work with vectors effectively.\n",
        "\n",
        "**Vectors** are one of the most fundamental data structures in R, used to store a collection of elements, all of the same type. You can create numeric, character, logical, or even complex vectors. Vectors in R are 1-dimensional, and you can access or manipulate individual elements using indexing. Keep in mind that, unlike Python where indexing starts at 0, R indexes from 1.\n",
        "\n",
        "We'll learn about the following topics:\n",
        "\n",
        "   - [3.1. Creating Vectors](#Creating_Vectors)\n",
        "   - [3.2. Built-in Vector Functions](#Builtin_Vector_Functions)\n",
        "   - [3.3. Vector Indexing and Slicing](#Vector_Indexing_and_Slicing)\n",
        "   - [3.4. Vector Properties](#Vector_Properties)   "
      ],
      "metadata": {
        "id": "PWjPomutZv_T"
      }
    },
    {
      "cell_type": "markdown",
      "source": [
        "<a name='Creating_Vectors'></a>\n",
        "\n",
        "## 3.1. Creating Vectors:"
      ],
      "metadata": {
        "id": "YnkztamHaMWL"
      }
    },
    {
      "cell_type": "markdown",
      "source": [
        "\n",
        "In R, vectors are created using the `c()` function, which stands for \"combine\" or \"concatenate.\" This function combines elements into a single vector. You can create vectors of different types such as numeric, character, or logical."
      ],
      "metadata": {
        "id": "h22Trk9Wa87D"
      }
    },
    {
      "cell_type": "code",
      "source": [
        "char_vector <- c(\"apple\", \"banana\", \"cherry\")\n",
        "print(char_vector)"
      ],
      "metadata": {
        "id": "sDzm57HmXyvK",
        "colab": {
          "base_uri": "https://localhost:8080/"
        },
        "outputId": "06f4b075-c16b-41cc-addd-4b6e04880afb"
      },
      "execution_count": 1,
      "outputs": [
        {
          "output_type": "stream",
          "name": "stdout",
          "text": [
            "[1] \"apple\"  \"banana\" \"cherry\"\n"
          ]
        }
      ]
    },
    {
      "cell_type": "code",
      "source": [
        "numeric_vector <- c(1, 2, 3, 4, 5)\n",
        "print(numeric_vector)"
      ],
      "metadata": {
        "colab": {
          "base_uri": "https://localhost:8080/"
        },
        "id": "-p_rE95-bDzk",
        "outputId": "8f61ecd1-0cc5-49f6-c8a9-9927c9b19451"
      },
      "execution_count": 2,
      "outputs": [
        {
          "output_type": "stream",
          "name": "stdout",
          "text": [
            "[1] 1 2 3 4 5\n"
          ]
        }
      ]
    },
    {
      "cell_type": "markdown",
      "source": [
        "<a name='Builtin_Vector_Functions'></a>\n",
        "\n",
        "## 3.2. Built-in Vector Functions:"
      ],
      "metadata": {
        "id": "ZqAvMKPZcN1K"
      }
    },
    {
      "cell_type": "markdown",
      "source": [
        "**`seq()`**: Used to generate sequences of numbers.\n",
        "\n",
        "`seq(from, to, by = , length.out = )`\n",
        "\n",
        "- from: The starting value of the sequence.\n",
        "- to: The ending value of the sequence.\n",
        "- by: The increment (step size) between values in the sequence. If not specified, the default step size is 1.\n",
        "- length.out: The desired length of the sequence. If specified, seq() calculates the appropriate step size."
      ],
      "metadata": {
        "id": "UHsvRYcuck8a"
      }
    },
    {
      "cell_type": "code",
      "source": [
        "print(seq(1, 10))"
      ],
      "metadata": {
        "colab": {
          "base_uri": "https://localhost:8080/"
        },
        "id": "zChNGJhjbGR6",
        "outputId": "a9cdde3e-ba99-46b6-c78c-8fdfbae5bcf9"
      },
      "execution_count": 3,
      "outputs": [
        {
          "output_type": "stream",
          "name": "stdout",
          "text": [
            " [1]  1  2  3  4  5  6  7  8  9 10\n"
          ]
        }
      ]
    },
    {
      "cell_type": "code",
      "source": [
        "seq(1, 10, by = 2)"
      ],
      "metadata": {
        "colab": {
          "base_uri": "https://localhost:8080/",
          "height": 34
        },
        "id": "tepNiKU_dMOb",
        "outputId": "846b9673-78cf-4d18-e5c3-18096c4997f5"
      },
      "execution_count": 4,
      "outputs": [
        {
          "output_type": "display_data",
          "data": {
            "text/html": [
              "<style>\n",
              ".list-inline {list-style: none; margin:0; padding: 0}\n",
              ".list-inline>li {display: inline-block}\n",
              ".list-inline>li:not(:last-child)::after {content: \"\\00b7\"; padding: 0 .5ex}\n",
              "</style>\n",
              "<ol class=list-inline><li>1</li><li>3</li><li>5</li><li>7</li><li>9</li></ol>\n"
            ],
            "text/markdown": "1. 1\n2. 3\n3. 5\n4. 7\n5. 9\n\n\n",
            "text/latex": "\\begin{enumerate*}\n\\item 1\n\\item 3\n\\item 5\n\\item 7\n\\item 9\n\\end{enumerate*}\n",
            "text/plain": [
              "[1] 1 3 5 7 9"
            ]
          },
          "metadata": {}
        }
      ]
    },
    {
      "cell_type": "code",
      "source": [
        "seq(1, 10, length.out = 5)"
      ],
      "metadata": {
        "colab": {
          "base_uri": "https://localhost:8080/",
          "height": 34
        },
        "id": "hExdFYv-c_Mz",
        "outputId": "135f5689-8020-48db-aeed-6f883d0e52b1"
      },
      "execution_count": 5,
      "outputs": [
        {
          "output_type": "display_data",
          "data": {
            "text/html": [
              "<style>\n",
              ".list-inline {list-style: none; margin:0; padding: 0}\n",
              ".list-inline>li {display: inline-block}\n",
              ".list-inline>li:not(:last-child)::after {content: \"\\00b7\"; padding: 0 .5ex}\n",
              "</style>\n",
              "<ol class=list-inline><li>1</li><li>3.25</li><li>5.5</li><li>7.75</li><li>10</li></ol>\n"
            ],
            "text/markdown": "1. 1\n2. 3.25\n3. 5.5\n4. 7.75\n5. 10\n\n\n",
            "text/latex": "\\begin{enumerate*}\n\\item 1\n\\item 3.25\n\\item 5.5\n\\item 7.75\n\\item 10\n\\end{enumerate*}\n",
            "text/plain": [
              "[1]  1.00  3.25  5.50  7.75 10.00"
            ]
          },
          "metadata": {}
        }
      ]
    },
    {
      "cell_type": "markdown",
      "source": [
        "**`class()`**: In R, the `class()` function returns the type of an object. When you create a character vector (or any vector) using `c()`, the type of the elements in the vector determines the class of the entire vector."
      ],
      "metadata": {
        "id": "rc_Dr6TUduOL"
      }
    },
    {
      "cell_type": "code",
      "source": [
        "class(char_vector)"
      ],
      "metadata": {
        "colab": {
          "base_uri": "https://localhost:8080/",
          "height": 34
        },
        "id": "RlSvFJM4dKOS",
        "outputId": "cd1d861e-5456-4981-f3c1-9ad6b2fb437d"
      },
      "execution_count": 6,
      "outputs": [
        {
          "output_type": "display_data",
          "data": {
            "text/html": [
              "'character'"
            ],
            "text/markdown": "'character'",
            "text/latex": "'character'",
            "text/plain": [
              "[1] \"character\""
            ]
          },
          "metadata": {}
        }
      ]
    },
    {
      "cell_type": "code",
      "source": [
        "typeof(char_vector)"
      ],
      "metadata": {
        "colab": {
          "base_uri": "https://localhost:8080/",
          "height": 34
        },
        "id": "yRN4H7_MdZpp",
        "outputId": "86657c7f-6552-4ae6-cc77-27269fa44ed2"
      },
      "execution_count": 7,
      "outputs": [
        {
          "output_type": "display_data",
          "data": {
            "text/html": [
              "'character'"
            ],
            "text/markdown": "'character'",
            "text/latex": "'character'",
            "text/plain": [
              "[1] \"character\""
            ]
          },
          "metadata": {}
        }
      ]
    },
    {
      "cell_type": "markdown",
      "source": [
        "**`length()`**: Determine the number of elements in a vector."
      ],
      "metadata": {
        "id": "QNyP9QtBgsfy"
      }
    },
    {
      "cell_type": "code",
      "source": [
        "length(char_vector)"
      ],
      "metadata": {
        "colab": {
          "base_uri": "https://localhost:8080/",
          "height": 34
        },
        "id": "W3_jCmAzhAj_",
        "outputId": "6770bd30-acdd-4923-d9cd-f7cb8070ea8c"
      },
      "execution_count": 8,
      "outputs": [
        {
          "output_type": "display_data",
          "data": {
            "text/html": [
              "3"
            ],
            "text/markdown": "3",
            "text/latex": "3",
            "text/plain": [
              "[1] 3"
            ]
          },
          "metadata": {}
        }
      ]
    },
    {
      "cell_type": "markdown",
      "source": [
        "**`sort()`**: Used to sort the elements of a vector in either ascending or descending order."
      ],
      "metadata": {
        "id": "Nybw0_OAt-9j"
      }
    },
    {
      "cell_type": "code",
      "source": [
        "num_vector <- c(3, 1, 4, 1, 5, 9, 2)"
      ],
      "metadata": {
        "id": "cFiFVwXsulTN"
      },
      "execution_count": 9,
      "outputs": []
    },
    {
      "cell_type": "code",
      "source": [
        "sorted_vector_ascending <- sort(num_vector)\n",
        "print(sorted_vector_ascending)"
      ],
      "metadata": {
        "colab": {
          "base_uri": "https://localhost:8080/"
        },
        "id": "Nq9wYkKwumTh",
        "outputId": "845989da-ceaa-4a64-f8f8-e148efcc13bb"
      },
      "execution_count": 10,
      "outputs": [
        {
          "output_type": "stream",
          "name": "stdout",
          "text": [
            "[1] 1 1 2 3 4 5 9\n"
          ]
        }
      ]
    },
    {
      "cell_type": "code",
      "source": [
        "sorted_vector_descending <- sort(num_vector, decreasing = TRUE)\n",
        "print(sorted_vector_descending)"
      ],
      "metadata": {
        "colab": {
          "base_uri": "https://localhost:8080/"
        },
        "id": "0c0yHaWvup_g",
        "outputId": "320e4939-698f-42b3-c290-f8a4c700eb73"
      },
      "execution_count": 11,
      "outputs": [
        {
          "output_type": "stream",
          "name": "stdout",
          "text": [
            "[1] 9 5 4 3 2 1 1\n"
          ]
        }
      ]
    },
    {
      "cell_type": "markdown",
      "source": [
        "**`append()`**: Used for merging vectors or adding more elements to a vector."
      ],
      "metadata": {
        "id": "dWOv9Kyd03dm"
      }
    },
    {
      "cell_type": "code",
      "source": [
        "x <- 1:5\n",
        "\n",
        "#Append using append() function\n",
        "x <- append(x, 6:10)\n",
        "\n",
        "print(x)"
      ],
      "metadata": {
        "colab": {
          "base_uri": "https://localhost:8080/"
        },
        "id": "MZxWm3Ey0-Nt",
        "outputId": "4c5a3f09-afc1-4e43-aadb-756c95f44840"
      },
      "execution_count": 12,
      "outputs": [
        {
          "output_type": "stream",
          "name": "stdout",
          "text": [
            " [1]  1  2  3  4  5  6  7  8  9 10\n"
          ]
        }
      ]
    },
    {
      "cell_type": "markdown",
      "source": [
        "**`sum()`**: Used for calculating the sum of all elements in a vector."
      ],
      "metadata": {
        "id": "EiZtkleO1-Ne"
      }
    },
    {
      "cell_type": "code",
      "source": [
        "sum(numeric_vector)"
      ],
      "metadata": {
        "colab": {
          "base_uri": "https://localhost:8080/",
          "height": 34
        },
        "id": "A7jf0LiB2Bu4",
        "outputId": "71eb30f9-327a-4fa3-ac39-9ca0d8fd32bb"
      },
      "execution_count": 13,
      "outputs": [
        {
          "output_type": "display_data",
          "data": {
            "text/html": [
              "15"
            ],
            "text/markdown": "15",
            "text/latex": "15",
            "text/plain": [
              "[1] 15"
            ]
          },
          "metadata": {}
        }
      ]
    },
    {
      "cell_type": "markdown",
      "source": [
        "**`crosspod()`**: When used with two numeric vectors of equal length, crossprod() computes the dot product of those vectors."
      ],
      "metadata": {
        "id": "wuCm4Nye397l"
      }
    },
    {
      "cell_type": "code",
      "source": [
        "vector1 <- c(2, 3, 4)\n",
        "vector2 <- c(5, 6, 7)\n",
        "\n",
        "#Calculate the dot product using crossprod()\n",
        "dot_product <- crossprod(vector1, vector2)\n",
        "print(dot_product[1])"
      ],
      "metadata": {
        "colab": {
          "base_uri": "https://localhost:8080/"
        },
        "id": "acyARaYG4C38",
        "outputId": "a7e57249-3837-4378-875f-4d01aa3c3549"
      },
      "execution_count": 14,
      "outputs": [
        {
          "output_type": "stream",
          "name": "stdout",
          "text": [
            "[1] 56\n"
          ]
        }
      ]
    },
    {
      "cell_type": "markdown",
      "source": [
        "**`range()`**: Get the Minimum and Maximum element of a Vector."
      ],
      "metadata": {
        "id": "ic3JOdHc-S6N"
      }
    },
    {
      "cell_type": "code",
      "source": [
        "x <- c(8, 2, 5, 4, 9, 6, 54, 18)\n",
        "\n",
        "range(x)"
      ],
      "metadata": {
        "colab": {
          "base_uri": "https://localhost:8080/",
          "height": 34
        },
        "id": "U5GL2Gmk-X-X",
        "outputId": "403b82c1-5477-49d7-fe55-491806a1b3fe"
      },
      "execution_count": 15,
      "outputs": [
        {
          "output_type": "display_data",
          "data": {
            "text/html": [
              "<style>\n",
              ".list-inline {list-style: none; margin:0; padding: 0}\n",
              ".list-inline>li {display: inline-block}\n",
              ".list-inline>li:not(:last-child)::after {content: \"\\00b7\"; padding: 0 .5ex}\n",
              "</style>\n",
              "<ol class=list-inline><li>2</li><li>54</li></ol>\n"
            ],
            "text/markdown": "1. 2\n2. 54\n\n\n",
            "text/latex": "\\begin{enumerate*}\n\\item 2\n\\item 54\n\\end{enumerate*}\n",
            "text/plain": [
              "[1]  2 54"
            ]
          },
          "metadata": {}
        }
      ]
    },
    {
      "cell_type": "code",
      "source": [
        "min(x)"
      ],
      "metadata": {
        "colab": {
          "base_uri": "https://localhost:8080/",
          "height": 34
        },
        "id": "g0zmjeK1_Bni",
        "outputId": "265d70c7-a275-494c-bc53-c11430ed94bf"
      },
      "execution_count": 16,
      "outputs": [
        {
          "output_type": "display_data",
          "data": {
            "text/html": [
              "2"
            ],
            "text/markdown": "2",
            "text/latex": "2",
            "text/plain": [
              "[1] 2"
            ]
          },
          "metadata": {}
        }
      ]
    },
    {
      "cell_type": "code",
      "source": [
        "max(x)"
      ],
      "metadata": {
        "colab": {
          "base_uri": "https://localhost:8080/",
          "height": 34
        },
        "id": "CbD63Ql6_GMv",
        "outputId": "6a9ff05b-4552-4950-8b7c-99b45fcb2f8b"
      },
      "execution_count": 17,
      "outputs": [
        {
          "output_type": "display_data",
          "data": {
            "text/html": [
              "54"
            ],
            "text/markdown": "54",
            "text/latex": "54",
            "text/plain": [
              "[1] 54"
            ]
          },
          "metadata": {}
        }
      ]
    },
    {
      "cell_type": "markdown",
      "source": [
        "<a name='Vector_Indexing_and_Slicing'></a>\n",
        "\n",
        "## 3.3. Vector Indexing and Slicing:"
      ],
      "metadata": {
        "id": "bKU1jwZxehtG"
      }
    },
    {
      "cell_type": "markdown",
      "source": [
        "For vectors, you can access specific elements using square brackets `[]`, specifying the index of the element."
      ],
      "metadata": {
        "id": "bAa59JlvfF5q"
      }
    },
    {
      "cell_type": "code",
      "source": [
        "a <- 1:8\n",
        "print(a)"
      ],
      "metadata": {
        "colab": {
          "base_uri": "https://localhost:8080/"
        },
        "id": "nkoBkenId916",
        "outputId": "b62eddc5-4b66-4bc2-8a73-8bbe0fedbc21"
      },
      "execution_count": 18,
      "outputs": [
        {
          "output_type": "stream",
          "name": "stdout",
          "text": [
            "[1] 1 2 3 4 5 6 7 8\n"
          ]
        }
      ]
    },
    {
      "cell_type": "markdown",
      "source": [
        "Instead of using `seq()`, you can simply generate a sequence of consecutive numbers with `:`."
      ],
      "metadata": {
        "id": "Ab47pUgFgCrR"
      }
    },
    {
      "cell_type": "code",
      "source": [
        "class(a)"
      ],
      "metadata": {
        "colab": {
          "base_uri": "https://localhost:8080/",
          "height": 34
        },
        "id": "UOwngDvlfpzx",
        "outputId": "d18fdb45-4f5f-4038-997e-a26df0e9692f"
      },
      "execution_count": 19,
      "outputs": [
        {
          "output_type": "display_data",
          "data": {
            "text/html": [
              "'integer'"
            ],
            "text/markdown": "'integer'",
            "text/latex": "'integer'",
            "text/plain": [
              "[1] \"integer\""
            ]
          },
          "metadata": {}
        }
      ]
    },
    {
      "cell_type": "code",
      "source": [
        "#Grab element at index 1\n",
        "a[1]"
      ],
      "metadata": {
        "colab": {
          "base_uri": "https://localhost:8080/",
          "height": 34
        },
        "id": "xkNc-EnXfswv",
        "outputId": "c9871ec8-9136-4095-ba10-846bea32ccb8"
      },
      "execution_count": 20,
      "outputs": [
        {
          "output_type": "display_data",
          "data": {
            "text/html": [
              "1"
            ],
            "text/markdown": "1",
            "text/latex": "1",
            "text/plain": [
              "[1] 1"
            ]
          },
          "metadata": {}
        }
      ]
    },
    {
      "cell_type": "code",
      "source": [
        "a[2:4]"
      ],
      "metadata": {
        "colab": {
          "base_uri": "https://localhost:8080/",
          "height": 34
        },
        "id": "zwFYmYQzhW8H",
        "outputId": "f6db3e75-42aa-4d5e-a152-9c490328f49e"
      },
      "execution_count": 21,
      "outputs": [
        {
          "output_type": "display_data",
          "data": {
            "text/html": [
              "<style>\n",
              ".list-inline {list-style: none; margin:0; padding: 0}\n",
              ".list-inline>li {display: inline-block}\n",
              ".list-inline>li:not(:last-child)::after {content: \"\\00b7\"; padding: 0 .5ex}\n",
              "</style>\n",
              "<ol class=list-inline><li>2</li><li>3</li><li>4</li></ol>\n"
            ],
            "text/markdown": "1. 2\n2. 3\n3. 4\n\n\n",
            "text/latex": "\\begin{enumerate*}\n\\item 2\n\\item 3\n\\item 4\n\\end{enumerate*}\n",
            "text/plain": [
              "[1] 2 3 4"
            ]
          },
          "metadata": {}
        }
      ]
    },
    {
      "cell_type": "markdown",
      "source": [
        "To get multiple elements, use `c(index1, index2, ...)`."
      ],
      "metadata": {
        "id": "NalxhM8jqjFc"
      }
    },
    {
      "cell_type": "code",
      "source": [
        "a[c(1,5)]"
      ],
      "metadata": {
        "colab": {
          "base_uri": "https://localhost:8080/",
          "height": 34
        },
        "id": "JVt0F_Zxqa7d",
        "outputId": "5f48ac52-1fbc-46a4-afb1-5797bdd5905e"
      },
      "execution_count": 22,
      "outputs": [
        {
          "output_type": "display_data",
          "data": {
            "text/html": [
              "<style>\n",
              ".list-inline {list-style: none; margin:0; padding: 0}\n",
              ".list-inline>li {display: inline-block}\n",
              ".list-inline>li:not(:last-child)::after {content: \"\\00b7\"; padding: 0 .5ex}\n",
              "</style>\n",
              "<ol class=list-inline><li>1</li><li>5</li></ol>\n"
            ],
            "text/markdown": "1. 1\n2. 5\n\n\n",
            "text/latex": "\\begin{enumerate*}\n\\item 1\n\\item 5\n\\end{enumerate*}\n",
            "text/plain": [
              "[1] 1 5"
            ]
          },
          "metadata": {}
        }
      ]
    },
    {
      "cell_type": "code",
      "source": [
        "#Grab index 1 and everything past it\n",
        "a[3:length(a)]"
      ],
      "metadata": {
        "colab": {
          "base_uri": "https://localhost:8080/",
          "height": 34
        },
        "id": "fkY1nF6SgWOn",
        "outputId": "1e75fcb3-5c07-4290-b946-a5d7d8fd210b"
      },
      "execution_count": 23,
      "outputs": [
        {
          "output_type": "display_data",
          "data": {
            "text/html": [
              "<style>\n",
              ".list-inline {list-style: none; margin:0; padding: 0}\n",
              ".list-inline>li {display: inline-block}\n",
              ".list-inline>li:not(:last-child)::after {content: \"\\00b7\"; padding: 0 .5ex}\n",
              "</style>\n",
              "<ol class=list-inline><li>3</li><li>4</li><li>5</li><li>6</li><li>7</li><li>8</li></ol>\n"
            ],
            "text/markdown": "1. 3\n2. 4\n3. 5\n4. 6\n5. 7\n6. 8\n\n\n",
            "text/latex": "\\begin{enumerate*}\n\\item 3\n\\item 4\n\\item 5\n\\item 6\n\\item 7\n\\item 8\n\\end{enumerate*}\n",
            "text/plain": [
              "[1] 3 4 5 6 7 8"
            ]
          },
          "metadata": {}
        }
      ]
    },
    {
      "cell_type": "code",
      "source": [
        "a[a<10]"
      ],
      "metadata": {
        "colab": {
          "base_uri": "https://localhost:8080/",
          "height": 34
        },
        "id": "9-IS9Bn3sP1g",
        "outputId": "c9921c3a-b9f9-4f21-9670-8ffb94dc453d"
      },
      "execution_count": 24,
      "outputs": [
        {
          "output_type": "display_data",
          "data": {
            "text/html": [
              "<style>\n",
              ".list-inline {list-style: none; margin:0; padding: 0}\n",
              ".list-inline>li {display: inline-block}\n",
              ".list-inline>li:not(:last-child)::after {content: \"\\00b7\"; padding: 0 .5ex}\n",
              "</style>\n",
              "<ol class=list-inline><li>1</li><li>2</li><li>3</li><li>4</li><li>5</li><li>6</li><li>7</li><li>8</li></ol>\n"
            ],
            "text/markdown": "1. 1\n2. 2\n3. 3\n4. 4\n5. 5\n6. 6\n7. 7\n8. 8\n\n\n",
            "text/latex": "\\begin{enumerate*}\n\\item 1\n\\item 2\n\\item 3\n\\item 4\n\\item 5\n\\item 6\n\\item 7\n\\item 8\n\\end{enumerate*}\n",
            "text/plain": [
              "[1] 1 2 3 4 5 6 7 8"
            ]
          },
          "metadata": {}
        }
      ]
    },
    {
      "cell_type": "markdown",
      "source": [
        "**Negative Indexing**: In R, using negative indexing with `[]` is a way to remove specific elements from a vector or list. When you provide a negative index, R returns all the elements except for those at the specified positions. This is different from languages like Python, where negative indexing accesses elements from the end of the list."
      ],
      "metadata": {
        "id": "tBGATCtep9bl"
      }
    },
    {
      "cell_type": "code",
      "source": [
        "#Remove the first element\n",
        "a[-1]"
      ],
      "metadata": {
        "colab": {
          "base_uri": "https://localhost:8080/",
          "height": 34
        },
        "id": "C4TAJIJrgeVZ",
        "outputId": "41b3cd40-3cfd-4e2d-bc1a-db76f15d3d8e"
      },
      "execution_count": 25,
      "outputs": [
        {
          "output_type": "display_data",
          "data": {
            "text/html": [
              "<style>\n",
              ".list-inline {list-style: none; margin:0; padding: 0}\n",
              ".list-inline>li {display: inline-block}\n",
              ".list-inline>li:not(:last-child)::after {content: \"\\00b7\"; padding: 0 .5ex}\n",
              "</style>\n",
              "<ol class=list-inline><li>2</li><li>3</li><li>4</li><li>5</li><li>6</li><li>7</li><li>8</li></ol>\n"
            ],
            "text/markdown": "1. 2\n2. 3\n3. 4\n4. 5\n5. 6\n6. 7\n7. 8\n\n\n",
            "text/latex": "\\begin{enumerate*}\n\\item 2\n\\item 3\n\\item 4\n\\item 5\n\\item 6\n\\item 7\n\\item 8\n\\end{enumerate*}\n",
            "text/plain": [
              "[1] 2 3 4 5 6 7 8"
            ]
          },
          "metadata": {}
        }
      ]
    },
    {
      "cell_type": "code",
      "source": [
        "#Remove the first and third elements\n",
        "a[-c(1, 3)]"
      ],
      "metadata": {
        "colab": {
          "base_uri": "https://localhost:8080/",
          "height": 34
        },
        "id": "XyJ23wVpqCSy",
        "outputId": "db1ffa8b-dd94-4b70-e129-3bbfe381e04e"
      },
      "execution_count": 26,
      "outputs": [
        {
          "output_type": "display_data",
          "data": {
            "text/html": [
              "<style>\n",
              ".list-inline {list-style: none; margin:0; padding: 0}\n",
              ".list-inline>li {display: inline-block}\n",
              ".list-inline>li:not(:last-child)::after {content: \"\\00b7\"; padding: 0 .5ex}\n",
              "</style>\n",
              "<ol class=list-inline><li>2</li><li>4</li><li>5</li><li>6</li><li>7</li><li>8</li></ol>\n"
            ],
            "text/markdown": "1. 2\n2. 4\n3. 5\n4. 6\n5. 7\n6. 8\n\n\n",
            "text/latex": "\\begin{enumerate*}\n\\item 2\n\\item 4\n\\item 5\n\\item 6\n\\item 7\n\\item 8\n\\end{enumerate*}\n",
            "text/plain": [
              "[1] 2 4 5 6 7 8"
            ]
          },
          "metadata": {}
        }
      ]
    },
    {
      "cell_type": "markdown",
      "source": [
        "**Logical Indexing**: A logical vector is created by applying a condition to a vector. For example, if you have a numeric vector, you can create a logical vector that indicates whether each element meets a specific condition (e.g., greater than a certain value). You can then use this logical vector to extract only those elements from the original vector that correspond to TRUE values.\n",
        "\n"
      ],
      "metadata": {
        "id": "WgOf8szWwZGw"
      }
    },
    {
      "cell_type": "code",
      "source": [
        "a[a>6]"
      ],
      "metadata": {
        "colab": {
          "base_uri": "https://localhost:8080/",
          "height": 34
        },
        "id": "ZQXnUn7owrXF",
        "outputId": "2443b189-d3ef-46ce-c346-11b762276518"
      },
      "execution_count": 27,
      "outputs": [
        {
          "output_type": "display_data",
          "data": {
            "text/html": [
              "<style>\n",
              ".list-inline {list-style: none; margin:0; padding: 0}\n",
              ".list-inline>li {display: inline-block}\n",
              ".list-inline>li:not(:last-child)::after {content: \"\\00b7\"; padding: 0 .5ex}\n",
              "</style>\n",
              "<ol class=list-inline><li>7</li><li>8</li></ol>\n"
            ],
            "text/markdown": "1. 7\n2. 8\n\n\n",
            "text/latex": "\\begin{enumerate*}\n\\item 7\n\\item 8\n\\end{enumerate*}\n",
            "text/plain": [
              "[1] 7 8"
            ]
          },
          "metadata": {}
        }
      ]
    },
    {
      "cell_type": "markdown",
      "source": [
        "<a name='Vector_Properties'></a>\n",
        "\n",
        "## 3.4. Vector Properties:"
      ],
      "metadata": {
        "id": "2ksdqc67rzV6"
      }
    },
    {
      "cell_type": "markdown",
      "source": [
        "- **ordered**: Vectors are ordered collections of elements, meaning that the position of each element matters. Each element can be accessed by its index."
      ],
      "metadata": {
        "id": "5vBseamrr7ZC"
      }
    },
    {
      "cell_type": "code",
      "source": [
        "c <- c(10, 20, 30)\n",
        "\n",
        "d <- c(20, 10, 30)\n",
        "\n",
        "identical(c, d)"
      ],
      "metadata": {
        "colab": {
          "base_uri": "https://localhost:8080/",
          "height": 34
        },
        "id": "8RDlBN37vURY",
        "outputId": "63279490-9783-449d-b709-c464e988d4db"
      },
      "execution_count": 28,
      "outputs": [
        {
          "output_type": "display_data",
          "data": {
            "text/html": [
              "FALSE"
            ],
            "text/markdown": "FALSE",
            "text/latex": "FALSE",
            "text/plain": [
              "[1] FALSE"
            ]
          },
          "metadata": {}
        }
      ]
    },
    {
      "cell_type": "markdown",
      "source": [
        "- **Mutuable**: In R, vectors are mutable in the sense that you can change the elements of a vector after it has been created."
      ],
      "metadata": {
        "id": "x_3Rhd7Fr_9a"
      }
    },
    {
      "cell_type": "code",
      "source": [
        "#Modify a specific element\n",
        "a[3] <- 10\n",
        "a[2] <- 9\n",
        "\n",
        "print(a)"
      ],
      "metadata": {
        "colab": {
          "base_uri": "https://localhost:8080/"
        },
        "id": "tnNw9m6xqV8B",
        "outputId": "d3616cf7-a3fb-454d-b9cd-b2c4467a5b0b"
      },
      "execution_count": 29,
      "outputs": [
        {
          "output_type": "stream",
          "name": "stdout",
          "text": [
            "[1]  1  9 10  4  5  6  7  8\n"
          ]
        }
      ]
    },
    {
      "cell_type": "code",
      "source": [
        "b <- 1:15\n",
        "b[b>9] <- 0\n",
        "b"
      ],
      "metadata": {
        "colab": {
          "base_uri": "https://localhost:8080/",
          "height": 34
        },
        "id": "f_FKvg6-xAIw",
        "outputId": "c8d109f3-dd64-4d1c-c8cd-58f1301e887e"
      },
      "execution_count": 30,
      "outputs": [
        {
          "output_type": "display_data",
          "data": {
            "text/html": [
              "<style>\n",
              ".list-inline {list-style: none; margin:0; padding: 0}\n",
              ".list-inline>li {display: inline-block}\n",
              ".list-inline>li:not(:last-child)::after {content: \"\\00b7\"; padding: 0 .5ex}\n",
              "</style>\n",
              "<ol class=list-inline><li>1</li><li>2</li><li>3</li><li>4</li><li>5</li><li>6</li><li>7</li><li>8</li><li>9</li><li>0</li><li>0</li><li>0</li><li>0</li><li>0</li><li>0</li></ol>\n"
            ],
            "text/markdown": "1. 1\n2. 2\n3. 3\n4. 4\n5. 5\n6. 6\n7. 7\n8. 8\n9. 9\n10. 0\n11. 0\n12. 0\n13. 0\n14. 0\n15. 0\n\n\n",
            "text/latex": "\\begin{enumerate*}\n\\item 1\n\\item 2\n\\item 3\n\\item 4\n\\item 5\n\\item 6\n\\item 7\n\\item 8\n\\item 9\n\\item 0\n\\item 0\n\\item 0\n\\item 0\n\\item 0\n\\item 0\n\\end{enumerate*}\n",
            "text/plain": [
              " [1] 1 2 3 4 5 6 7 8 9 0 0 0 0 0 0"
            ]
          },
          "metadata": {}
        }
      ]
    },
    {
      "cell_type": "markdown",
      "source": [
        "- **concatenate**: This refers to the process of combining multiple elements or vectors into a single vector."
      ],
      "metadata": {
        "id": "W7DyzvMMxkto"
      }
    },
    {
      "cell_type": "code",
      "source": [
        "#Create two numeric vectors\n",
        "vector1 <- c(1, 2, 3)\n",
        "vector2 <- c(4, 5, 6)\n",
        "\n",
        "#Concatenate the two vectors\n",
        "combined_vector <- c(vector1, vector2, 7)\n",
        "print(combined_vector)"
      ],
      "metadata": {
        "colab": {
          "base_uri": "https://localhost:8080/"
        },
        "id": "EuBQIUfIsf24",
        "outputId": "86a8449c-f826-4f92-c638-bf8995293512"
      },
      "execution_count": 31,
      "outputs": [
        {
          "output_type": "stream",
          "name": "stdout",
          "text": [
            "[1] 1 2 3 4 5 6 7\n"
          ]
        }
      ]
    },
    {
      "cell_type": "markdown",
      "source": [
        "- **Reassignment**: In R, you can reassign a vector by updating its contents."
      ],
      "metadata": {
        "id": "Yn43YJxfyNBX"
      }
    },
    {
      "cell_type": "code",
      "source": [
        "x <- seq(1, 10, length.out = 5)\n",
        "x[1] <- 0\n",
        "x"
      ],
      "metadata": {
        "colab": {
          "base_uri": "https://localhost:8080/",
          "height": 34
        },
        "id": "asNRxo1dx1sd",
        "outputId": "3f70b598-fbbd-42b6-a37f-2bca6bc80f7a"
      },
      "execution_count": 32,
      "outputs": [
        {
          "output_type": "display_data",
          "data": {
            "text/html": [
              "<style>\n",
              ".list-inline {list-style: none; margin:0; padding: 0}\n",
              ".list-inline>li {display: inline-block}\n",
              ".list-inline>li:not(:last-child)::after {content: \"\\00b7\"; padding: 0 .5ex}\n",
              "</style>\n",
              "<ol class=list-inline><li>0</li><li>3.25</li><li>5.5</li><li>7.75</li><li>10</li></ol>\n"
            ],
            "text/markdown": "1. 0\n2. 3.25\n3. 5.5\n4. 7.75\n5. 10\n\n\n",
            "text/latex": "\\begin{enumerate*}\n\\item 0\n\\item 3.25\n\\item 5.5\n\\item 7.75\n\\item 10\n\\end{enumerate*}\n",
            "text/plain": [
              "[1]  0.00  3.25  5.50  7.75 10.00"
            ]
          },
          "metadata": {}
        }
      ]
    },
    {
      "cell_type": "markdown",
      "source": [
        "- **Arithmetic Operations**: Arithmetic operations in R are typically applied element-wise. This means that when you perform an operation on two vectors of the same length, R will apply the operation to corresponding elements in each vector."
      ],
      "metadata": {
        "id": "yxM6IU8yz6y2"
      }
    },
    {
      "cell_type": "code",
      "source": [
        "X <- c(5, 2, 5, 1, 51, 2)\n",
        "Y <- c(7, 9, 1, 5, 2, 1)"
      ],
      "metadata": {
        "id": "y6pF_nxGyymV"
      },
      "execution_count": 33,
      "outputs": []
    },
    {
      "cell_type": "code",
      "source": [
        "#Addition\n",
        "X + Y"
      ],
      "metadata": {
        "colab": {
          "base_uri": "https://localhost:8080/",
          "height": 34
        },
        "id": "azvcEshK0DVU",
        "outputId": "ee1f4008-ee46-46de-db2e-86d1c23e64a9"
      },
      "execution_count": 34,
      "outputs": [
        {
          "output_type": "display_data",
          "data": {
            "text/html": [
              "<style>\n",
              ".list-inline {list-style: none; margin:0; padding: 0}\n",
              ".list-inline>li {display: inline-block}\n",
              ".list-inline>li:not(:last-child)::after {content: \"\\00b7\"; padding: 0 .5ex}\n",
              "</style>\n",
              "<ol class=list-inline><li>12</li><li>11</li><li>6</li><li>6</li><li>53</li><li>3</li></ol>\n"
            ],
            "text/markdown": "1. 12\n2. 11\n3. 6\n4. 6\n5. 53\n6. 3\n\n\n",
            "text/latex": "\\begin{enumerate*}\n\\item 12\n\\item 11\n\\item 6\n\\item 6\n\\item 53\n\\item 3\n\\end{enumerate*}\n",
            "text/plain": [
              "[1] 12 11  6  6 53  3"
            ]
          },
          "metadata": {}
        }
      ]
    },
    {
      "cell_type": "code",
      "source": [
        "#Subtraction\n",
        "X - Y"
      ],
      "metadata": {
        "colab": {
          "base_uri": "https://localhost:8080/",
          "height": 34
        },
        "id": "2hUJA2AC0GQM",
        "outputId": "10cbb8ac-5226-432a-825f-fccd8f015695"
      },
      "execution_count": 35,
      "outputs": [
        {
          "output_type": "display_data",
          "data": {
            "text/html": [
              "<style>\n",
              ".list-inline {list-style: none; margin:0; padding: 0}\n",
              ".list-inline>li {display: inline-block}\n",
              ".list-inline>li:not(:last-child)::after {content: \"\\00b7\"; padding: 0 .5ex}\n",
              "</style>\n",
              "<ol class=list-inline><li>-2</li><li>-7</li><li>4</li><li>-4</li><li>49</li><li>1</li></ol>\n"
            ],
            "text/markdown": "1. -2\n2. -7\n3. 4\n4. -4\n5. 49\n6. 1\n\n\n",
            "text/latex": "\\begin{enumerate*}\n\\item -2\n\\item -7\n\\item 4\n\\item -4\n\\item 49\n\\item 1\n\\end{enumerate*}\n",
            "text/plain": [
              "[1] -2 -7  4 -4 49  1"
            ]
          },
          "metadata": {}
        }
      ]
    },
    {
      "cell_type": "code",
      "source": [
        "#Multiplication\n",
        "X * Y"
      ],
      "metadata": {
        "colab": {
          "base_uri": "https://localhost:8080/",
          "height": 34
        },
        "id": "R_E4p5BH0LJk",
        "outputId": "56af58cf-85df-4973-e835-a99268071bf4"
      },
      "execution_count": 36,
      "outputs": [
        {
          "output_type": "display_data",
          "data": {
            "text/html": [
              "<style>\n",
              ".list-inline {list-style: none; margin:0; padding: 0}\n",
              ".list-inline>li {display: inline-block}\n",
              ".list-inline>li:not(:last-child)::after {content: \"\\00b7\"; padding: 0 .5ex}\n",
              "</style>\n",
              "<ol class=list-inline><li>35</li><li>18</li><li>5</li><li>5</li><li>102</li><li>2</li></ol>\n"
            ],
            "text/markdown": "1. 35\n2. 18\n3. 5\n4. 5\n5. 102\n6. 2\n\n\n",
            "text/latex": "\\begin{enumerate*}\n\\item 35\n\\item 18\n\\item 5\n\\item 5\n\\item 102\n\\item 2\n\\end{enumerate*}\n",
            "text/plain": [
              "[1]  35  18   5   5 102   2"
            ]
          },
          "metadata": {}
        }
      ]
    },
    {
      "cell_type": "code",
      "source": [
        "#Division\n",
        "X / Y"
      ],
      "metadata": {
        "colab": {
          "base_uri": "https://localhost:8080/",
          "height": 34
        },
        "id": "Jdj61yq30OeL",
        "outputId": "327f06a4-db60-48f3-987c-77f42c7a263f"
      },
      "execution_count": 37,
      "outputs": [
        {
          "output_type": "display_data",
          "data": {
            "text/html": [
              "<style>\n",
              ".list-inline {list-style: none; margin:0; padding: 0}\n",
              ".list-inline>li {display: inline-block}\n",
              ".list-inline>li:not(:last-child)::after {content: \"\\00b7\"; padding: 0 .5ex}\n",
              "</style>\n",
              "<ol class=list-inline><li>0.714285714285714</li><li>0.222222222222222</li><li>5</li><li>0.2</li><li>25.5</li><li>2</li></ol>\n"
            ],
            "text/markdown": "1. 0.714285714285714\n2. 0.222222222222222\n3. 5\n4. 0.2\n5. 25.5\n6. 2\n\n\n",
            "text/latex": "\\begin{enumerate*}\n\\item 0.714285714285714\n\\item 0.222222222222222\n\\item 5\n\\item 0.2\n\\item 25.5\n\\item 2\n\\end{enumerate*}\n",
            "text/plain": [
              "[1]  0.7142857  0.2222222  5.0000000  0.2000000 25.5000000  2.0000000"
            ]
          },
          "metadata": {}
        }
      ]
    },
    {
      "cell_type": "code",
      "source": [
        "#Floor Division\n",
        "X %/% Y"
      ],
      "metadata": {
        "colab": {
          "base_uri": "https://localhost:8080/",
          "height": 34
        },
        "id": "Fe7I0B_d0Q2E",
        "outputId": "7040f81f-2a7b-4204-9ea2-37371a58b3b7"
      },
      "execution_count": 38,
      "outputs": [
        {
          "output_type": "display_data",
          "data": {
            "text/html": [
              "<style>\n",
              ".list-inline {list-style: none; margin:0; padding: 0}\n",
              ".list-inline>li {display: inline-block}\n",
              ".list-inline>li:not(:last-child)::after {content: \"\\00b7\"; padding: 0 .5ex}\n",
              "</style>\n",
              "<ol class=list-inline><li>0</li><li>0</li><li>5</li><li>0</li><li>25</li><li>2</li></ol>\n"
            ],
            "text/markdown": "1. 0\n2. 0\n3. 5\n4. 0\n5. 25\n6. 2\n\n\n",
            "text/latex": "\\begin{enumerate*}\n\\item 0\n\\item 0\n\\item 5\n\\item 0\n\\item 25\n\\item 2\n\\end{enumerate*}\n",
            "text/plain": [
              "[1]  0  0  5  0 25  2"
            ]
          },
          "metadata": {}
        }
      ]
    }
  ]
}