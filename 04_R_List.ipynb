{
  "nbformat": 4,
  "nbformat_minor": 0,
  "metadata": {
    "colab": {
      "provenance": []
    },
    "kernelspec": {
      "name": "ir",
      "display_name": "R"
    },
    "language_info": {
      "name": "R"
    }
  },
  "cells": [
    {
      "cell_type": "markdown",
      "source": [
        "# 4. List"
      ],
      "metadata": {
        "id": "J7Rj-kW1AE3H"
      }
    },
    {
      "cell_type": "markdown",
      "source": [
        "This section will teach you how to create, manipulate, and work with lists effectively.\n",
        "\n",
        "A **list** in R is a data structure that can store multiple elements of different types, including numbers, strings, vectors, matrices, and even other lists. Unlike vectors, which require all elements to be of the same type, lists allow for mixed types, making them very flexible for various tasks in R programming.\n",
        "\n",
        "We'll learn about the following topics:\n",
        "\n",
        "   - [4.1. Creating Lists](#Creating_Lists)\n",
        "   - [4.2. List Indexing and Slicing](#List_Indexing_and_Slicing)\n",
        "   - [4.3. Built-in List Functions](#Builtin_List_Functions)\n",
        "   - [4.4. List Properties](#List_Properties)"
      ],
      "metadata": {
        "id": "hEgrtDOuMM_r"
      }
    },
    {
      "cell_type": "markdown",
      "source": [
        "<a name='Creating_Lists'></a>\n",
        "\n",
        "## 4.1. Creating Lists:"
      ],
      "metadata": {
        "id": "VDfewVMDMgRQ"
      }
    },
    {
      "cell_type": "markdown",
      "source": [
        "You can create a list in R using the `list()` function."
      ],
      "metadata": {
        "id": "6anWKzdOMuEQ"
      }
    },
    {
      "cell_type": "code",
      "source": [
        "a <- list(1, \"R programming\", TRUE, 3.14)"
      ],
      "metadata": {
        "id": "hyPNW5C4MyOI"
      },
      "execution_count": 1,
      "outputs": []
    },
    {
      "cell_type": "code",
      "source": [
        "class(a)"
      ],
      "metadata": {
        "colab": {
          "base_uri": "https://localhost:8080/",
          "height": 34
        },
        "id": "PuhgvnZDNBbI",
        "outputId": "bcbc0358-5dd1-4517-8cad-6c51f3a5196b"
      },
      "execution_count": 2,
      "outputs": [
        {
          "output_type": "display_data",
          "data": {
            "text/html": [
              "'list'"
            ],
            "text/markdown": "'list'",
            "text/latex": "'list'",
            "text/plain": [
              "[1] \"list\""
            ]
          },
          "metadata": {}
        }
      ]
    },
    {
      "cell_type": "markdown",
      "source": [
        "Naming list components make it easier to access them."
      ],
      "metadata": {
        "id": "M36iSFAINdsJ"
      }
    },
    {
      "cell_type": "code",
      "source": [
        "#Creating a named list\n",
        "named_list <- list(name = \"Jack\", age = 22, city = \"Chicago\")\n",
        "\n",
        "print(named_list)"
      ],
      "metadata": {
        "colab": {
          "base_uri": "https://localhost:8080/"
        },
        "id": "VjEZa8lgNfyg",
        "outputId": "f71b365a-9733-400c-f456-def198f1c073"
      },
      "execution_count": 3,
      "outputs": [
        {
          "output_type": "stream",
          "name": "stdout",
          "text": [
            "$name\n",
            "[1] \"Jack\"\n",
            "\n",
            "$age\n",
            "[1] 22\n",
            "\n",
            "$city\n",
            "[1] \"Chicago\"\n",
            "\n"
          ]
        }
      ]
    },
    {
      "cell_type": "markdown",
      "source": [
        "**Differences Between R Lists and Python Lists**\n",
        "\n",
        "<table>\n",
        "  <thead>\n",
        "    <tr>\n",
        "      <th>Feature</th>\n",
        "      <th>R Lists</th>\n",
        "      <th>Python Lists</th>\n",
        "    </tr>\n",
        "  </thead>\n",
        "  <tbody>\n",
        "    <tr>\n",
        "      <td>Data Types</td>\n",
        "      <td>Can store elements of different data types</td>\n",
        "      <td>Can also store elements of different data types</td>\n",
        "    </tr>\n",
        "    <tr>\n",
        "      <td>Indexing</td>\n",
        "      <td>1-based indexing (starts at 1)</td>\n",
        "      <td>0-based indexing (starts at 0)</td>\n",
        "    </tr>\n",
        "    <tr>\n",
        "      <td>Accessing Elements</td>\n",
        "      <td>Use [[ ]] to access elements, [ ] returns sub-lists</td>\n",
        "      <td>Use [ ] to access elements directly</td>\n",
        "    </tr>\n",
        "    <tr>\n",
        "      <td>Naming Elements</td>\n",
        "      <td>Can have named elements</td>\n",
        "      <td>Elements are indexed, but no built-in naming system</td>\n",
        "    </tr>\n",
        "    <tr>\n",
        "      <td>Mutability</td>\n",
        "      <td>Lists are mutable, meaning you can modify their elements</td>\n",
        "      <td>Python lists are mutable as well</td>\n",
        "    </tr>\n",
        "  </tbody>\n",
        "</table>\n"
      ],
      "metadata": {
        "id": "ekJVErz3O1_g"
      }
    },
    {
      "cell_type": "markdown",
      "source": [
        "**Difference Between Lists and Vectors in R**\n",
        "\n",
        "<table>\n",
        "  <thead>\n",
        "    <tr>\n",
        "      <th>Property</th>\n",
        "      <th>Lists</th>\n",
        "      <th>Vectors</th>\n",
        "    </tr>\n",
        "  </thead>\n",
        "  <tbody>\n",
        "    <tr>\n",
        "      <td>Element Type</td>\n",
        "      <td>Can store elements of different types (e.g., numbers, strings, logical values)</td>\n",
        "      <td>All elements must be of the same type (e.g., all numbers, all strings)</td>\n",
        "    </tr>\n",
        "    <tr>\n",
        "      <td>Structure</td>\n",
        "      <td>Lists are recursive, meaning they can contain other lists</td>\n",
        "      <td>Vectors are atomic and cannot contain other vectors</td>\n",
        "    </tr>\n",
        "    <tr>\n",
        "      <td>Accessing Elements</td>\n",
        "      <td>Use single bracket [ ] to return sub-lists and double brackets [[ ]] to access actual elements</td>\n",
        "      <td>Use single bracket [ ] for indexing</td>\n",
        "    </tr>\n",
        "    <tr>\n",
        "      <td>Common Usage</td>\n",
        "      <td>Lists are used to store more complex data structures (e.g., data frames)</td>\n",
        "      <td>Vectors are typically used for simple collections of data like numbers or strings</td>\n",
        "    </tr>\n",
        "  </tbody>\n",
        "</table>\n"
      ],
      "metadata": {
        "id": "qlnp0Se8PL_Y"
      }
    },
    {
      "cell_type": "markdown",
      "source": [
        "<a name='List_Indexing_and_Slicing'></a>\n",
        "\n",
        "## 4.2. List Indexing and Slicing:"
      ],
      "metadata": {
        "id": "MLd4FqDSN27Q"
      }
    },
    {
      "cell_type": "markdown",
      "source": [
        "When accessing elements within a list, there are two primary methods:\n",
        "\n",
        "1. **Using Double Brackets `[[ ]]`**: This is used to extract the actual value from the list. Unlike single brackets `[]`, which return a sub-list, the `[[ ]]` operator extracts the individual element.\n",
        "\n",
        "`list_name[[index/element_name]]`\n",
        "\n",
        "2. **Using Names with `$`**: This method allows you to access list elements by their names if the list elements are named.\n",
        "\n",
        "`list_name$element_name`"
      ],
      "metadata": {
        "id": "BE8jbvZZQIaY"
      }
    },
    {
      "cell_type": "code",
      "source": [
        "a <- list(1, \"R programming\", TRUE, 3.14)\n",
        "b <- list(name = \"Jack\", age = 22, city = \"Chicago\")"
      ],
      "metadata": {
        "id": "LSLD_ZPzNsYf"
      },
      "execution_count": 4,
      "outputs": []
    },
    {
      "cell_type": "code",
      "source": [
        "a[[2]]"
      ],
      "metadata": {
        "colab": {
          "base_uri": "https://localhost:8080/",
          "height": 34
        },
        "id": "dPr-Gw8QQdFt",
        "outputId": "f8f6e303-543e-4276-88d7-6b35a378ff3e"
      },
      "execution_count": 5,
      "outputs": [
        {
          "output_type": "display_data",
          "data": {
            "text/html": [
              "'R programming'"
            ],
            "text/markdown": "'R programming'",
            "text/latex": "'R programming'",
            "text/plain": [
              "[1] \"R programming\""
            ]
          },
          "metadata": {}
        }
      ]
    },
    {
      "cell_type": "code",
      "source": [
        "a[[length(a)]]"
      ],
      "metadata": {
        "colab": {
          "base_uri": "https://localhost:8080/",
          "height": 34
        },
        "id": "R8S_V2MpZsBj",
        "outputId": "d240bb10-06bb-41a9-efb9-7d8660b8f687"
      },
      "execution_count": 6,
      "outputs": [
        {
          "output_type": "display_data",
          "data": {
            "text/html": [
              "3.14"
            ],
            "text/markdown": "3.14",
            "text/latex": "3.14",
            "text/plain": [
              "[1] 3.14"
            ]
          },
          "metadata": {}
        }
      ]
    },
    {
      "cell_type": "markdown",
      "source": [
        "Double brackets `[[ ]]` in R are designed to extract a single element from a list, not multiple elements. If you try to use double brackets with more than one element, you'll get an error, because `[[ ]]` can only return one element at a time."
      ],
      "metadata": {
        "id": "-ouu3DgDTvil"
      }
    },
    {
      "cell_type": "code",
      "source": [
        "a[c(2,4)]"
      ],
      "metadata": {
        "colab": {
          "base_uri": "https://localhost:8080/",
          "height": 80
        },
        "id": "aNapgVSXQp31",
        "outputId": "205d6d20-fb22-4dd4-8779-e4dcc7b8130b"
      },
      "execution_count": 7,
      "outputs": [
        {
          "output_type": "display_data",
          "data": {
            "text/html": [
              "<ol>\n",
              "\t<li>'R programming'</li>\n",
              "\t<li>3.14</li>\n",
              "</ol>\n"
            ],
            "text/markdown": "1. 'R programming'\n2. 3.14\n\n\n",
            "text/latex": "\\begin{enumerate}\n\\item 'R programming'\n\\item 3.14\n\\end{enumerate}\n",
            "text/plain": [
              "[[1]]\n",
              "[1] \"R programming\"\n",
              "\n",
              "[[2]]\n",
              "[1] 3.14\n"
            ]
          },
          "metadata": {}
        }
      ]
    },
    {
      "cell_type": "code",
      "source": [
        "b$name"
      ],
      "metadata": {
        "colab": {
          "base_uri": "https://localhost:8080/",
          "height": 34
        },
        "id": "OP7qBuWhQsK9",
        "outputId": "78296846-83e1-418c-b7cb-326ab660aca4"
      },
      "execution_count": 8,
      "outputs": [
        {
          "output_type": "display_data",
          "data": {
            "text/html": [
              "'Jack'"
            ],
            "text/markdown": "'Jack'",
            "text/latex": "'Jack'",
            "text/plain": [
              "[1] \"Jack\""
            ]
          },
          "metadata": {}
        }
      ]
    },
    {
      "cell_type": "code",
      "source": [
        "b[['name']]"
      ],
      "metadata": {
        "colab": {
          "base_uri": "https://localhost:8080/",
          "height": 34
        },
        "id": "0REPNgwUROEV",
        "outputId": "0a2aa2bf-cd7e-44e6-8310-20ce4842abab"
      },
      "execution_count": 9,
      "outputs": [
        {
          "output_type": "display_data",
          "data": {
            "text/html": [
              "'Jack'"
            ],
            "text/markdown": "'Jack'",
            "text/latex": "'Jack'",
            "text/plain": [
              "[1] \"Jack\""
            ]
          },
          "metadata": {}
        }
      ]
    },
    {
      "cell_type": "code",
      "source": [
        "b[c('name', 'age')]"
      ],
      "metadata": {
        "colab": {
          "base_uri": "https://localhost:8080/",
          "height": 114
        },
        "id": "5WuXZ6pNTT5W",
        "outputId": "ad0145e6-5fea-409f-8b01-57c8b490c614"
      },
      "execution_count": 10,
      "outputs": [
        {
          "output_type": "display_data",
          "data": {
            "text/html": [
              "<dl>\n",
              "\t<dt>$name</dt>\n",
              "\t\t<dd>'Jack'</dd>\n",
              "\t<dt>$age</dt>\n",
              "\t\t<dd>22</dd>\n",
              "</dl>\n"
            ],
            "text/markdown": "$name\n:   'Jack'\n$age\n:   22\n\n\n",
            "text/latex": "\\begin{description}\n\\item[\\$name] 'Jack'\n\\item[\\$age] 22\n\\end{description}\n",
            "text/plain": [
              "$name\n",
              "[1] \"Jack\"\n",
              "\n",
              "$age\n",
              "[1] 22\n"
            ]
          },
          "metadata": {}
        }
      ]
    },
    {
      "cell_type": "code",
      "source": [
        "c <- list(c(1, 2, 3, 4), 5, 'hello')"
      ],
      "metadata": {
        "id": "Fwo5uxUYRXU1"
      },
      "execution_count": 11,
      "outputs": []
    },
    {
      "cell_type": "code",
      "source": [
        "c[[1]][2]"
      ],
      "metadata": {
        "colab": {
          "base_uri": "https://localhost:8080/",
          "height": 34
        },
        "id": "zglGoK4MSSTd",
        "outputId": "ca56f67c-22e6-40af-b000-f6c5f31acd74"
      },
      "execution_count": 12,
      "outputs": [
        {
          "output_type": "display_data",
          "data": {
            "text/html": [
              "2"
            ],
            "text/markdown": "2",
            "text/latex": "2",
            "text/plain": [
              "[1] 2"
            ]
          },
          "metadata": {}
        }
      ]
    },
    {
      "cell_type": "markdown",
      "source": [
        "What happens if you use single brackets for list indexing?\n",
        "\n",
        "When you use single brackets `[]` for list indexing in R, it returns a sublist. This means that even if you access one element, it is returned as a list containing that element, rather than the element itself."
      ],
      "metadata": {
        "id": "swJnw7J_UmqE"
      }
    },
    {
      "cell_type": "code",
      "source": [
        "a[2]"
      ],
      "metadata": {
        "colab": {
          "base_uri": "https://localhost:8080/",
          "height": 62
        },
        "id": "zWVp8dXpU3rL",
        "outputId": "2ce57d87-3d76-4de2-98ee-70e183f95fac"
      },
      "execution_count": 13,
      "outputs": [
        {
          "output_type": "display_data",
          "data": {
            "text/html": [
              "<ol>\n",
              "\t<li>'R programming'</li>\n",
              "</ol>\n"
            ],
            "text/markdown": "1. 'R programming'\n\n\n",
            "text/latex": "\\begin{enumerate}\n\\item 'R programming'\n\\end{enumerate}\n",
            "text/plain": [
              "[[1]]\n",
              "[1] \"R programming\"\n"
            ]
          },
          "metadata": {}
        }
      ]
    },
    {
      "cell_type": "code",
      "source": [
        "class(a[2])"
      ],
      "metadata": {
        "colab": {
          "base_uri": "https://localhost:8080/",
          "height": 34
        },
        "id": "p9U9r_cjVE0o",
        "outputId": "1ef3c9e7-362f-4a36-ada8-e2f71ce14551"
      },
      "execution_count": 14,
      "outputs": [
        {
          "output_type": "display_data",
          "data": {
            "text/html": [
              "'list'"
            ],
            "text/markdown": "'list'",
            "text/latex": "'list'",
            "text/plain": [
              "[1] \"list\""
            ]
          },
          "metadata": {}
        }
      ]
    },
    {
      "cell_type": "markdown",
      "source": [
        "**Negative Indexes**: When you use negative indexing on a list, you exclude the elements at the specified indices from the result. In the case of a list, using negative indexing will return a new list that contains all elements except the ones at the negative indices specified.\n",
        "\n",
        "If you use double brackets `([[ ]])` with negative indexing, you will receive an error. This is because double brackets are used to extract a single element from a list, and negative indexing does not apply in this context."
      ],
      "metadata": {
        "id": "3H585yiQZcq7"
      }
    },
    {
      "cell_type": "code",
      "source": [
        "d <- list(\"apple\", \"banana\", \"cherry\", \"date\")"
      ],
      "metadata": {
        "id": "4RunPGkUagUL"
      },
      "execution_count": 15,
      "outputs": []
    },
    {
      "cell_type": "code",
      "source": [
        "d_excluded <- d[-1]  #Exclude the first element\n",
        "print(d_excluded)"
      ],
      "metadata": {
        "colab": {
          "base_uri": "https://localhost:8080/"
        },
        "id": "nRZCMQyhaiee",
        "outputId": "0541fa2f-d922-4f31-8505-22cb7d9ae2d4"
      },
      "execution_count": 16,
      "outputs": [
        {
          "output_type": "stream",
          "name": "stdout",
          "text": [
            "[[1]]\n",
            "[1] \"banana\"\n",
            "\n",
            "[[2]]\n",
            "[1] \"cherry\"\n",
            "\n",
            "[[3]]\n",
            "[1] \"date\"\n",
            "\n"
          ]
        }
      ]
    },
    {
      "cell_type": "markdown",
      "source": [
        "Yet another way is to equal an element to `NULL`."
      ],
      "metadata": {
        "id": "bmNXF_Oae19Z"
      }
    },
    {
      "cell_type": "code",
      "source": [
        "d[[1]] = NULL"
      ],
      "metadata": {
        "id": "SO2PU3Xze3AI"
      },
      "execution_count": 17,
      "outputs": []
    },
    {
      "cell_type": "code",
      "source": [
        "d"
      ],
      "metadata": {
        "colab": {
          "base_uri": "https://localhost:8080/",
          "height": 97
        },
        "id": "s1aNMCKUfwMA",
        "outputId": "e31f818c-2c6c-4b9d-e07b-148fb757b6b0"
      },
      "execution_count": 18,
      "outputs": [
        {
          "output_type": "display_data",
          "data": {
            "text/html": [
              "<ol>\n",
              "\t<li>'banana'</li>\n",
              "\t<li>'cherry'</li>\n",
              "\t<li>'date'</li>\n",
              "</ol>\n"
            ],
            "text/markdown": "1. 'banana'\n2. 'cherry'\n3. 'date'\n\n\n",
            "text/latex": "\\begin{enumerate}\n\\item 'banana'\n\\item 'cherry'\n\\item 'date'\n\\end{enumerate}\n",
            "text/plain": [
              "[[1]]\n",
              "[1] \"banana\"\n",
              "\n",
              "[[2]]\n",
              "[1] \"cherry\"\n",
              "\n",
              "[[3]]\n",
              "[1] \"date\"\n"
            ]
          },
          "metadata": {}
        }
      ]
    },
    {
      "cell_type": "markdown",
      "source": [
        "<a name='Builtin_List_Functions'></a>\n",
        "\n",
        "## 4.3. Built-in List Functions:"
      ],
      "metadata": {
        "id": "uTia7VTLV_lr"
      }
    },
    {
      "cell_type": "markdown",
      "source": [
        "<table>\n",
        "  <thead>\n",
        "    <tr>\n",
        "      <th>Function</th>\n",
        "      <th>Description</th>\n",
        "    </tr>\n",
        "  </thead>\n",
        "  <tbody>\n",
        "    <tr>\n",
        "      <td>length()</td>\n",
        "      <td>Returns the number of elements in a list.</td>\n",
        "    </tr>\n",
        "    <tr>\n",
        "      <td>names()</td>\n",
        "      <td>Returns or sets the names of the list elements.</td>\n",
        "    </tr>\n",
        "    <tr>\n",
        "      <td>unlist()</td>\n",
        "      <td>Converts a list to a vector by flattening it.</td>\n",
        "    </tr>\n",
        "    <tr>\n",
        "      <td>lapply()</td>\n",
        "      <td>Applies a function to each element of a list and returns a list.</td>\n",
        "    </tr>\n",
        "    <tr>\n",
        "      <td>sapply()</td>\n",
        "      <td>Simplifies the result to a vector instead of a list.</td>\n",
        "    </tr>\n",
        "    <tr>\n",
        "      <td>append()</td>\n",
        "      <td>Adds elements to a list.</td>\n",
        "    </tr>\n",
        "    <tr>\n",
        "      <td>str()</td>\n",
        "      <td>Gives an overview of the internal structure of the list, including nested lists.</td>\n",
        "    </tr>\n",
        "    <tr>\n",
        "      <td>rep()</td>\n",
        "      <td>Repeats a list multiple times.</td>\n",
        "    </tr>\n",
        "    <tr>\n",
        "      <td>is.list()</td>\n",
        "      <td>Returns TRUE if the object is a list, otherwise FALSE.</td>\n",
        "    </tr>\n",
        "    <tr>\n",
        "      <td>as.list()</td>\n",
        "      <td>Converts an object into a list.</td>\n",
        "    </tr>\n",
        "  </tbody>\n",
        "</table>"
      ],
      "metadata": {
        "id": "SuXOICd3Qr8Y"
      }
    },
    {
      "cell_type": "markdown",
      "source": [
        "- **`length()`**: Returns the number of elements in a list."
      ],
      "metadata": {
        "id": "X4tAVyoxWN27"
      }
    },
    {
      "cell_type": "code",
      "source": [
        "length(a)"
      ],
      "metadata": {
        "colab": {
          "base_uri": "https://localhost:8080/",
          "height": 34
        },
        "id": "JLOWRrEjWMCN",
        "outputId": "f438f096-9e57-4831-f89f-92979b08b54b"
      },
      "execution_count": 19,
      "outputs": [
        {
          "output_type": "display_data",
          "data": {
            "text/html": [
              "4"
            ],
            "text/markdown": "4",
            "text/latex": "4",
            "text/plain": [
              "[1] 4"
            ]
          },
          "metadata": {}
        }
      ]
    },
    {
      "cell_type": "markdown",
      "source": [
        "- **`names()`**: Returns or sets the names of the list elements."
      ],
      "metadata": {
        "id": "c01YSi6QWcND"
      }
    },
    {
      "cell_type": "code",
      "source": [
        "names(b)"
      ],
      "metadata": {
        "colab": {
          "base_uri": "https://localhost:8080/",
          "height": 34
        },
        "id": "sJaevgfSWL_N",
        "outputId": "1bab0c70-8f1b-413f-b2ec-841ecee1bdfa"
      },
      "execution_count": 20,
      "outputs": [
        {
          "output_type": "display_data",
          "data": {
            "text/html": [
              "<style>\n",
              ".list-inline {list-style: none; margin:0; padding: 0}\n",
              ".list-inline>li {display: inline-block}\n",
              ".list-inline>li:not(:last-child)::after {content: \"\\00b7\"; padding: 0 .5ex}\n",
              "</style>\n",
              "<ol class=list-inline><li>'name'</li><li>'age'</li><li>'city'</li></ol>\n"
            ],
            "text/markdown": "1. 'name'\n2. 'age'\n3. 'city'\n\n\n",
            "text/latex": "\\begin{enumerate*}\n\\item 'name'\n\\item 'age'\n\\item 'city'\n\\end{enumerate*}\n",
            "text/plain": [
              "[1] \"name\" \"age\"  \"city\""
            ]
          },
          "metadata": {}
        }
      ]
    },
    {
      "cell_type": "code",
      "source": [
        "my_list <- list(1, 2, 3)\n",
        "names(my_list) <- c(\"x\", \"y\", \"z\")\n",
        "print(my_list)"
      ],
      "metadata": {
        "colab": {
          "base_uri": "https://localhost:8080/"
        },
        "id": "GyeDAg0HWL7A",
        "outputId": "c5ca1c4e-0f32-4708-c4b8-cb1223ed1150"
      },
      "execution_count": 21,
      "outputs": [
        {
          "output_type": "stream",
          "name": "stdout",
          "text": [
            "$x\n",
            "[1] 1\n",
            "\n",
            "$y\n",
            "[1] 2\n",
            "\n",
            "$z\n",
            "[1] 3\n",
            "\n"
          ]
        }
      ]
    },
    {
      "cell_type": "markdown",
      "source": [
        "- **`unlist()`**: Converts a list to a vector by flattening it."
      ],
      "metadata": {
        "id": "pwiCYsnNWxqX"
      }
    },
    {
      "cell_type": "code",
      "source": [
        "unlist(a)"
      ],
      "metadata": {
        "colab": {
          "base_uri": "https://localhost:8080/",
          "height": 34
        },
        "id": "9wKoqIGRWtsx",
        "outputId": "3ac208c7-f20d-4129-af50-6bbd01d72071"
      },
      "execution_count": 22,
      "outputs": [
        {
          "output_type": "display_data",
          "data": {
            "text/html": [
              "<style>\n",
              ".list-inline {list-style: none; margin:0; padding: 0}\n",
              ".list-inline>li {display: inline-block}\n",
              ".list-inline>li:not(:last-child)::after {content: \"\\00b7\"; padding: 0 .5ex}\n",
              "</style>\n",
              "<ol class=list-inline><li>'1'</li><li>'R programming'</li><li>'TRUE'</li><li>'3.14'</li></ol>\n"
            ],
            "text/markdown": "1. '1'\n2. 'R programming'\n3. 'TRUE'\n4. '3.14'\n\n\n",
            "text/latex": "\\begin{enumerate*}\n\\item '1'\n\\item 'R programming'\n\\item 'TRUE'\n\\item '3.14'\n\\end{enumerate*}\n",
            "text/plain": [
              "[1] \"1\"             \"R programming\" \"TRUE\"          \"3.14\"         "
            ]
          },
          "metadata": {}
        }
      ]
    },
    {
      "cell_type": "code",
      "source": [
        "class(unlist(a))"
      ],
      "metadata": {
        "colab": {
          "base_uri": "https://localhost:8080/",
          "height": 34
        },
        "id": "z0XVvnglWtqL",
        "outputId": "4f78593e-3b5a-46f7-9f9f-3348dfded6fd"
      },
      "execution_count": 23,
      "outputs": [
        {
          "output_type": "display_data",
          "data": {
            "text/html": [
              "'character'"
            ],
            "text/markdown": "'character'",
            "text/latex": "'character'",
            "text/plain": [
              "[1] \"character\""
            ]
          },
          "metadata": {}
        }
      ]
    },
    {
      "cell_type": "markdown",
      "source": [
        "- **`lapply()`**: Applies a function to each element of a list and returns a list. `sapply()` simplifies the result to a vector instead of a list."
      ],
      "metadata": {
        "id": "nnYhLPtpXU24"
      }
    },
    {
      "cell_type": "code",
      "source": [
        "lapply(my_list, function(x) x^2)"
      ],
      "metadata": {
        "colab": {
          "base_uri": "https://localhost:8080/",
          "height": 149
        },
        "id": "x_2YqzXjWtnY",
        "outputId": "4d248b06-e927-4e58-c02b-8601ac6a2a5d"
      },
      "execution_count": 24,
      "outputs": [
        {
          "output_type": "display_data",
          "data": {
            "text/html": [
              "<dl>\n",
              "\t<dt>$x</dt>\n",
              "\t\t<dd>1</dd>\n",
              "\t<dt>$y</dt>\n",
              "\t\t<dd>4</dd>\n",
              "\t<dt>$z</dt>\n",
              "\t\t<dd>9</dd>\n",
              "</dl>\n"
            ],
            "text/markdown": "$x\n:   1\n$y\n:   4\n$z\n:   9\n\n\n",
            "text/latex": "\\begin{description}\n\\item[\\$x] 1\n\\item[\\$y] 4\n\\item[\\$z] 9\n\\end{description}\n",
            "text/plain": [
              "$x\n",
              "[1] 1\n",
              "\n",
              "$y\n",
              "[1] 4\n",
              "\n",
              "$z\n",
              "[1] 9\n"
            ]
          },
          "metadata": {}
        }
      ]
    },
    {
      "cell_type": "code",
      "source": [
        "sapply(my_list, function(x) x^2)"
      ],
      "metadata": {
        "colab": {
          "base_uri": "https://localhost:8080/",
          "height": 34
        },
        "id": "q9Wai-c_XxPL",
        "outputId": "c04bfc06-923b-4b74-d20d-adb6e1131dd2"
      },
      "execution_count": 25,
      "outputs": [
        {
          "output_type": "display_data",
          "data": {
            "text/html": [
              "<style>\n",
              ".dl-inline {width: auto; margin:0; padding: 0}\n",
              ".dl-inline>dt, .dl-inline>dd {float: none; width: auto; display: inline-block}\n",
              ".dl-inline>dt::after {content: \":\\0020\"; padding-right: .5ex}\n",
              ".dl-inline>dt:not(:first-of-type) {padding-left: .5ex}\n",
              "</style><dl class=dl-inline><dt>x</dt><dd>1</dd><dt>y</dt><dd>4</dd><dt>z</dt><dd>9</dd></dl>\n"
            ],
            "text/markdown": "x\n:   1y\n:   4z\n:   9\n\n",
            "text/latex": "\\begin{description*}\n\\item[x] 1\n\\item[y] 4\n\\item[z] 9\n\\end{description*}\n",
            "text/plain": [
              "x y z \n",
              "1 4 9 "
            ]
          },
          "metadata": {}
        }
      ]
    },
    {
      "cell_type": "markdown",
      "source": [
        "- **`append()`**: Adds elements to a list."
      ],
      "metadata": {
        "id": "Kuh_TQvcX6As"
      }
    },
    {
      "cell_type": "code",
      "source": [
        "a <- append(a, list('world', 4))\n",
        "print(a)"
      ],
      "metadata": {
        "colab": {
          "base_uri": "https://localhost:8080/"
        },
        "id": "PCY-PGTcWtkk",
        "outputId": "d81d52ea-432d-42e2-fb44-599a9c7abe56"
      },
      "execution_count": 26,
      "outputs": [
        {
          "output_type": "stream",
          "name": "stdout",
          "text": [
            "[[1]]\n",
            "[1] 1\n",
            "\n",
            "[[2]]\n",
            "[1] \"R programming\"\n",
            "\n",
            "[[3]]\n",
            "[1] TRUE\n",
            "\n",
            "[[4]]\n",
            "[1] 3.14\n",
            "\n",
            "[[5]]\n",
            "[1] \"world\"\n",
            "\n",
            "[[6]]\n",
            "[1] 4\n",
            "\n"
          ]
        }
      ]
    },
    {
      "cell_type": "markdown",
      "source": [
        "You can also use indexing to add new elements."
      ],
      "metadata": {
        "id": "rS2UFnBZboQD"
      }
    },
    {
      "cell_type": "code",
      "source": [
        "x <- list(1,2,3)\n",
        "\n",
        "x[[4]] <- 4\n",
        "\n",
        "print(x)"
      ],
      "metadata": {
        "colab": {
          "base_uri": "https://localhost:8080/"
        },
        "id": "ac-d2-_-bpF7",
        "outputId": "cf629dd0-c145-4c85-aa38-a4fb14c8c065"
      },
      "execution_count": 27,
      "outputs": [
        {
          "output_type": "stream",
          "name": "stdout",
          "text": [
            "[[1]]\n",
            "[1] 1\n",
            "\n",
            "[[2]]\n",
            "[1] 2\n",
            "\n",
            "[[3]]\n",
            "[1] 3\n",
            "\n",
            "[[4]]\n",
            "[1] 4\n",
            "\n"
          ]
        }
      ]
    },
    {
      "cell_type": "markdown",
      "source": [
        "This is also another way to merge two lists:"
      ],
      "metadata": {
        "id": "d3qQBJlSdq2Y"
      }
    },
    {
      "cell_type": "code",
      "source": [
        "lst1 <- list(1,2,3)\n",
        "lst2 <- list(\"Sun\",\"Mon\",\"Tue\")\n",
        "\n",
        "#Merge the two lists.\n",
        "new_list <- c(lst1,lst2)\n",
        "\n",
        "class(new_list)"
      ],
      "metadata": {
        "colab": {
          "base_uri": "https://localhost:8080/",
          "height": 34
        },
        "id": "w--aEGhCdscr",
        "outputId": "c749d375-88a9-42b0-8d7f-73011151156e"
      },
      "execution_count": 28,
      "outputs": [
        {
          "output_type": "display_data",
          "data": {
            "text/html": [
              "'list'"
            ],
            "text/markdown": "'list'",
            "text/latex": "'list'",
            "text/plain": [
              "[1] \"list\""
            ]
          },
          "metadata": {}
        }
      ]
    },
    {
      "cell_type": "markdown",
      "source": [
        "- **`str()`**: gives an overview of the internal structure of the list, including nested lists."
      ],
      "metadata": {
        "id": "sXCV7GYWYanK"
      }
    },
    {
      "cell_type": "code",
      "source": [
        "str(a)"
      ],
      "metadata": {
        "colab": {
          "base_uri": "https://localhost:8080/"
        },
        "id": "hF2uci8wYU_Y",
        "outputId": "79a44436-be24-4838-dbde-387a3e031a1c"
      },
      "execution_count": 29,
      "outputs": [
        {
          "output_type": "stream",
          "name": "stdout",
          "text": [
            "List of 6\n",
            " $ : num 1\n",
            " $ : chr \"R programming\"\n",
            " $ : logi TRUE\n",
            " $ : num 3.14\n",
            " $ : chr \"world\"\n",
            " $ : num 4\n"
          ]
        }
      ]
    },
    {
      "cell_type": "markdown",
      "source": [
        "- **`rep()`**: Repeats a list multiple times."
      ],
      "metadata": {
        "id": "H8Bc0g62Yh0r"
      }
    },
    {
      "cell_type": "code",
      "source": [
        "rep(a, times = 2)"
      ],
      "metadata": {
        "colab": {
          "base_uri": "https://localhost:8080/",
          "height": 253
        },
        "id": "TfTDRwDlYU8x",
        "outputId": "2c42aa5e-811d-45bb-b4ae-341cd9d17c4d"
      },
      "execution_count": 30,
      "outputs": [
        {
          "output_type": "display_data",
          "data": {
            "text/html": [
              "<ol>\n",
              "\t<li>1</li>\n",
              "\t<li>'R programming'</li>\n",
              "\t<li>TRUE</li>\n",
              "\t<li>3.14</li>\n",
              "\t<li>'world'</li>\n",
              "\t<li>4</li>\n",
              "\t<li>1</li>\n",
              "\t<li>'R programming'</li>\n",
              "\t<li>TRUE</li>\n",
              "\t<li>3.14</li>\n",
              "\t<li>'world'</li>\n",
              "\t<li>4</li>\n",
              "</ol>\n"
            ],
            "text/markdown": "1. 1\n2. 'R programming'\n3. TRUE\n4. 3.14\n5. 'world'\n6. 4\n7. 1\n8. 'R programming'\n9. TRUE\n10. 3.14\n11. 'world'\n12. 4\n\n\n",
            "text/latex": "\\begin{enumerate}\n\\item 1\n\\item 'R programming'\n\\item TRUE\n\\item 3.14\n\\item 'world'\n\\item 4\n\\item 1\n\\item 'R programming'\n\\item TRUE\n\\item 3.14\n\\item 'world'\n\\item 4\n\\end{enumerate}\n",
            "text/plain": [
              "[[1]]\n",
              "[1] 1\n",
              "\n",
              "[[2]]\n",
              "[1] \"R programming\"\n",
              "\n",
              "[[3]]\n",
              "[1] TRUE\n",
              "\n",
              "[[4]]\n",
              "[1] 3.14\n",
              "\n",
              "[[5]]\n",
              "[1] \"world\"\n",
              "\n",
              "[[6]]\n",
              "[1] 4\n",
              "\n",
              "[[7]]\n",
              "[1] 1\n",
              "\n",
              "[[8]]\n",
              "[1] \"R programming\"\n",
              "\n",
              "[[9]]\n",
              "[1] TRUE\n",
              "\n",
              "[[10]]\n",
              "[1] 3.14\n",
              "\n",
              "[[11]]\n",
              "[1] \"world\"\n",
              "\n",
              "[[12]]\n",
              "[1] 4\n"
            ]
          },
          "metadata": {}
        }
      ]
    },
    {
      "cell_type": "markdown",
      "source": [
        "- **`is.list()`**: Returns TRUE if the object is a list, otherwise FALSE."
      ],
      "metadata": {
        "id": "G73Wkp_vYx9a"
      }
    },
    {
      "cell_type": "code",
      "source": [
        "is.list(a)"
      ],
      "metadata": {
        "colab": {
          "base_uri": "https://localhost:8080/",
          "height": 34
        },
        "id": "1bwC1wc9YU5s",
        "outputId": "bf08a8ab-c108-40ed-ee93-cf4add42ee9b"
      },
      "execution_count": 31,
      "outputs": [
        {
          "output_type": "display_data",
          "data": {
            "text/html": [
              "TRUE"
            ],
            "text/markdown": "TRUE",
            "text/latex": "TRUE",
            "text/plain": [
              "[1] TRUE"
            ]
          },
          "metadata": {}
        }
      ]
    },
    {
      "cell_type": "markdown",
      "source": [
        "- **`as.list()`**: Converts an object into a list."
      ],
      "metadata": {
        "id": "6wq6lRLsY_Os"
      }
    },
    {
      "cell_type": "code",
      "source": [
        "vec <- c(1, 2, 3)\n",
        "as_list <- as.list(vec)\n",
        "print(as_list)"
      ],
      "metadata": {
        "colab": {
          "base_uri": "https://localhost:8080/"
        },
        "id": "AK8H0RelYU2U",
        "outputId": "11cacad6-bd80-4b89-ea90-2fe6d30c39ae"
      },
      "execution_count": 32,
      "outputs": [
        {
          "output_type": "stream",
          "name": "stdout",
          "text": [
            "[[1]]\n",
            "[1] 1\n",
            "\n",
            "[[2]]\n",
            "[1] 2\n",
            "\n",
            "[[3]]\n",
            "[1] 3\n",
            "\n"
          ]
        }
      ]
    },
    {
      "cell_type": "markdown",
      "source": [
        "<a name='List_Properties'></a>\n",
        "\n",
        "## 4.4. List Properties:"
      ],
      "metadata": {
        "id": "NnbW5rWxSgAZ"
      }
    },
    {
      "cell_type": "markdown",
      "source": [
        "- **ordered**: Lists in R are ordered, meaning the elements within a list retain their sequence, and the order of elements is preserved. This allows for accessing elements based on their position (index)."
      ],
      "metadata": {
        "id": "NH5zRmMASmWP"
      }
    },
    {
      "cell_type": "markdown",
      "source": [
        "- **Reassignment**: A R list can also be modified by accessing the components and replacing them with the ones which you want."
      ],
      "metadata": {
        "id": "Yu8KIj8dSoUl"
      }
    },
    {
      "cell_type": "code",
      "source": [
        "a <- list(1, 2, 3)"
      ],
      "metadata": {
        "id": "JfgOMibHbJAz"
      },
      "execution_count": 33,
      "outputs": []
    },
    {
      "cell_type": "code",
      "source": [
        "a <- list(3, 4)"
      ],
      "metadata": {
        "id": "lt8CfIAWbN-i"
      },
      "execution_count": 34,
      "outputs": []
    },
    {
      "cell_type": "code",
      "source": [
        "a"
      ],
      "metadata": {
        "colab": {
          "base_uri": "https://localhost:8080/",
          "height": 80
        },
        "id": "0HEzF7nkbRqL",
        "outputId": "4c9728ed-34d6-48b9-a80c-12ada772e596"
      },
      "execution_count": 35,
      "outputs": [
        {
          "output_type": "display_data",
          "data": {
            "text/html": [
              "<ol>\n",
              "\t<li>3</li>\n",
              "\t<li>4</li>\n",
              "</ol>\n"
            ],
            "text/markdown": "1. 3\n2. 4\n\n\n",
            "text/latex": "\\begin{enumerate}\n\\item 3\n\\item 4\n\\end{enumerate}\n",
            "text/plain": [
              "[[1]]\n",
              "[1] 3\n",
              "\n",
              "[[2]]\n",
              "[1] 4\n"
            ]
          },
          "metadata": {}
        }
      ]
    },
    {
      "cell_type": "markdown",
      "source": [
        "- **Mutability**:"
      ],
      "metadata": {
        "id": "o3GMDwmhUdj0"
      }
    },
    {
      "cell_type": "code",
      "source": [
        "print(c)"
      ],
      "metadata": {
        "colab": {
          "base_uri": "https://localhost:8080/"
        },
        "id": "T8mFaqSsST6l",
        "outputId": "09a7fd0b-8f8c-4ec7-e0ca-b854c335b7cb"
      },
      "execution_count": 36,
      "outputs": [
        {
          "output_type": "stream",
          "name": "stdout",
          "text": [
            "[[1]]\n",
            "[1] 1 2 3 4\n",
            "\n",
            "[[2]]\n",
            "[1] 5\n",
            "\n",
            "[[3]]\n",
            "[1] \"hello\"\n",
            "\n"
          ]
        }
      ]
    },
    {
      "cell_type": "code",
      "source": [
        "c[[2]][1] = 7"
      ],
      "metadata": {
        "id": "Kf-I3Y9YS0nE"
      },
      "execution_count": 37,
      "outputs": []
    },
    {
      "cell_type": "code",
      "source": [
        "print(c)"
      ],
      "metadata": {
        "colab": {
          "base_uri": "https://localhost:8080/"
        },
        "id": "rvgoFjD2S9GO",
        "outputId": "b4543ddf-7b7a-43b2-c70e-3dc9bf6a7f1f"
      },
      "execution_count": 38,
      "outputs": [
        {
          "output_type": "stream",
          "name": "stdout",
          "text": [
            "[[1]]\n",
            "[1] 1 2 3 4\n",
            "\n",
            "[[2]]\n",
            "[1] 7\n",
            "\n",
            "[[3]]\n",
            "[1] \"hello\"\n",
            "\n"
          ]
        }
      ]
    },
    {
      "cell_type": "markdown",
      "source": [
        "You cannot perform mathematical operations directly on lists in R due to their heterogeneous nature."
      ],
      "metadata": {
        "id": "G2kHOkBLdJr5"
      }
    }
  ]
}