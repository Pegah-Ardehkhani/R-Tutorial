{
  "nbformat": 4,
  "nbformat_minor": 0,
  "metadata": {
    "colab": {
      "provenance": []
    },
    "kernelspec": {
      "name": "ir",
      "display_name": "R"
    },
    "language_info": {
      "name": "R"
    }
  },
  "cells": [
    {
      "cell_type": "markdown",
      "source": [
        "# 5. Matrix"
      ],
      "metadata": {
        "id": "rwQheQfiiUVd"
      }
    },
    {
      "cell_type": "markdown",
      "source": [
        "This section will teach you how to create, manipulate, and work with Matrices effectively.\n",
        "\n",
        "A **matrix** is a two-dimensional data structure that can hold elements of the same type, organized in rows and columns. Matrices are useful for mathematical computations, particularly linear algebra operations, and are a fundamental data structure in R for handling multi-dimensional data.\n",
        "\n",
        "We'll learn about the following topics:\n",
        "\n",
        "   - [5.1. Creating Matrices](#Creating_Matrices)\n",
        "   - [5.2. Built-in Matrix Functions](#Builtin_Matrix_Functions)\n",
        "   - [5.3. Matrix Indexing and Slicing](#Matrix_Indexing_and_Slicing)\n",
        "   - [5.4. Matix Properties](#Matrix_Properties)"
      ],
      "metadata": {
        "id": "q_VECZhEjDIE"
      }
    },
    {
      "cell_type": "markdown",
      "source": [
        "<a name='Creating_Matrices'></a>\n",
        "\n",
        "## 5.1. Creating Matrices:"
      ],
      "metadata": {
        "id": "eHAALOPQjX9t"
      }
    },
    {
      "cell_type": "markdown",
      "source": [
        "- **General Matrix Creation**: You can create a matrix in R using the `matrix()` function. The basic syntax is:\n",
        "\n",
        "`matrix(data, nrow = number_of_rows, ncol = number_of_columns, byrow = FALSE, , dimnames = list(row_names, column_names))`\n",
        "\n",
        "- data: The elements to fill the matrix.\n",
        "- nrow: The number of rows.\n",
        "- ncol: The number of columns.\n",
        "- byrow: If TRUE, fills the matrix by rows; if FALSE (default), fills it by columns.\n",
        "- dimnames: names of rows and columns"
      ],
      "metadata": {
        "id": "9MhVMxAOjoWE"
      }
    },
    {
      "cell_type": "code",
      "source": [
        "#Create a matrix with 3 rows and 3 columns\n",
        "a <- matrix(1:9, nrow = 3, ncol = 3)\n",
        "\n",
        "print(a)"
      ],
      "metadata": {
        "colab": {
          "base_uri": "https://localhost:8080/"
        },
        "id": "rTa2JBH_elq-",
        "outputId": "5aae4e84-a463-45ca-8982-6b59ffa63575"
      },
      "execution_count": 1,
      "outputs": [
        {
          "output_type": "stream",
          "name": "stdout",
          "text": [
            "     [,1] [,2] [,3]\n",
            "[1,]    1    4    7\n",
            "[2,]    2    5    8\n",
            "[3,]    3    6    9\n"
          ]
        }
      ]
    },
    {
      "cell_type": "code",
      "source": [
        "b <- matrix(1:9, nrow = 3, ncol = 3, byrow = TRUE,\n",
        "                    dimnames = list(c(\"Row1\", \"Row2\", \"Row3\"), c(\"Col1\", \"Col2\", \"Col3\")))\n",
        "\n",
        "print(b)"
      ],
      "metadata": {
        "colab": {
          "base_uri": "https://localhost:8080/"
        },
        "id": "q5Q9AVMLkpKT",
        "outputId": "a54f5c77-23d0-4a57-841c-6c39cc535663"
      },
      "execution_count": 2,
      "outputs": [
        {
          "output_type": "stream",
          "name": "stdout",
          "text": [
            "     Col1 Col2 Col3\n",
            "Row1    1    2    3\n",
            "Row2    4    5    6\n",
            "Row3    7    8    9\n"
          ]
        }
      ]
    },
    {
      "cell_type": "markdown",
      "source": [
        "To create a matrix where all rows and columns are filled by a single constant, write that constant instead of data."
      ],
      "metadata": {
        "id": "FCtqkmh0lDNT"
      }
    },
    {
      "cell_type": "code",
      "source": [
        "#Create a special matrix with 3 rows and 3 columns\n",
        "c <- matrix(1, nrow = 3, ncol = 3)\n",
        "\n",
        "print(c)"
      ],
      "metadata": {
        "colab": {
          "base_uri": "https://localhost:8080/"
        },
        "id": "gY3hX8cokuiy",
        "outputId": "5d72184a-eb0c-4f9a-ec26-fa7362cc3313"
      },
      "execution_count": 3,
      "outputs": [
        {
          "output_type": "stream",
          "name": "stdout",
          "text": [
            "     [,1] [,2] [,3]\n",
            "[1,]    1    1    1\n",
            "[2,]    1    1    1\n",
            "[3,]    1    1    1\n"
          ]
        }
      ]
    },
    {
      "cell_type": "markdown",
      "source": [
        "- **Diagonal matrix**: you can create a diagonal matrix using the `diag()` function. A diagonal matrix is a square matrix where all the elements outside the main diagonal are zero, and the diagonal elements can be any values.\n",
        "\n",
        "`diag(numeric vector, nrow = number_of_rows, ncol = number_of_columns)`"
      ],
      "metadata": {
        "id": "zP-c8I8HltrX"
      }
    },
    {
      "cell_type": "code",
      "source": [
        "d <- diag(c(1,7,6), nrow = 3, ncol = 3)\n",
        "\n",
        "print(d)"
      ],
      "metadata": {
        "colab": {
          "base_uri": "https://localhost:8080/"
        },
        "id": "aKFBiMQXmQXL",
        "outputId": "531b2d30-daa3-45d0-cbfd-9cc3b093d05f"
      },
      "execution_count": 4,
      "outputs": [
        {
          "output_type": "stream",
          "name": "stdout",
          "text": [
            "     [,1] [,2] [,3]\n",
            "[1,]    1    0    0\n",
            "[2,]    0    7    0\n",
            "[3,]    0    0    6\n"
          ]
        }
      ]
    },
    {
      "cell_type": "markdown",
      "source": [
        "- **Identity matrix**:  An identity matrix is a special type of square/diagonal matrix in which all the elements of the principal diagonal (from the top left to the bottom right) are ones, and all other elements are zeros.\n",
        "\n",
        "`diag(n)`\n",
        "\n",
        "- n: n*n matrix"
      ],
      "metadata": {
        "id": "vS4_sMhjnP1t"
      }
    },
    {
      "cell_type": "code",
      "source": [
        "e <- diag(3)\n",
        "\n",
        "print(e)"
      ],
      "metadata": {
        "colab": {
          "base_uri": "https://localhost:8080/"
        },
        "id": "7PVWwf3ImQRD",
        "outputId": "39bfbca6-18a1-42dd-db38-2c5caa942e43"
      },
      "execution_count": 5,
      "outputs": [
        {
          "output_type": "stream",
          "name": "stdout",
          "text": [
            "     [,1] [,2] [,3]\n",
            "[1,]    1    0    0\n",
            "[2,]    0    1    0\n",
            "[3,]    0    0    1\n"
          ]
        }
      ]
    },
    {
      "cell_type": "markdown",
      "source": [
        "<a name='Builtin_Matrix_Functions'></a>\n",
        "\n",
        "## 5.2. Built-in Matrix Functions:"
      ],
      "metadata": {
        "id": "OKIo4CEmoRxM"
      }
    },
    {
      "cell_type": "markdown",
      "source": [
        "<table>\n",
        "  <thead>\n",
        "    <tr>\n",
        "      <th>Function</th>\n",
        "      <th>Description</th>\n",
        "    </tr>\n",
        "  </thead>\n",
        "  <tbody>\n",
        "    <tr>\n",
        "      <td>dim()</td>\n",
        "      <td>Gets or sets the dimensions of an object.</td>\n",
        "    </tr>\n",
        "    <tr>\n",
        "      <td>nrow() and ncol()</td>\n",
        "      <td>Get the number of rows and columns of a matrix, respectively.</td>\n",
        "    </tr>\n",
        "    <tr>\n",
        "      <td>t()</td>\n",
        "      <td>Transposes a matrix, swapping rows and columns.</td>\n",
        "    </tr>\n",
        "    <tr>\n",
        "      <td>solve()</td>\n",
        "      <td>Solves a system of linear equations or calculates the inverse of a matrix.</td>\n",
        "    </tr>\n",
        "    <tr>\n",
        "      <td>cbind() and rbind()</td>\n",
        "      <td>Combine matrices by columns or rows, respectively.</td>\n",
        "    </tr>\n",
        "    <tr>\n",
        "      <td>diag()</td>\n",
        "      <td>Create a diagonal matrix or extracts the diagonal of a matrix.</td>\n",
        "    </tr>\n",
        "    <tr>\n",
        "      <td>apply()</td>\n",
        "      <td>Applies a function over the margins of an array or matrix.</td>\n",
        "    </tr>\n",
        "    <tr>\n",
        "      <td>length()</td>\n",
        "      <td>Number of elements in the matrix.</td>\n",
        "    </tr>\n",
        "    <tr>\n",
        "      <td>min() and max()</td>\n",
        "      <td>Min and Max of all elements in the matrix.</td>\n",
        "    </tr>\n",
        "    <tr>\n",
        "      <td>range()</td>\n",
        "      <td>Get min and max of all elements at the same time.</td>\n",
        "    </tr>\n",
        "    <tr>\n",
        "      <td>sum()</td>\n",
        "      <td>Sum of all elements in the matrix.</td>\n",
        "    </tr>\n",
        "    <tr>\n",
        "      <td>eigen()</td>\n",
        "      <td>Calculate eigenvalues and eigenvectors of matrices.</td>\n",
        "    </tr>\n",
        "    <tr>\n",
        "      <td>det()</td>\n",
        "      <td>Used to find the determinant of a matrix.</td>\n",
        "    </tr>\n",
        "    <tr>\n",
        "      <td>is.matrix()</td>\n",
        "      <td>Check if the object is a matrix.</td>\n",
        "    </tr>\n",
        "    <tr>\n",
        "      <td>as.matrix()</td>\n",
        "      <td>Convert a numeric vector into a matrix.</td>\n",
        "    </tr>\n",
        "  </tbody>\n",
        "</table>"
      ],
      "metadata": {
        "id": "etH7WKZqQOgD"
      }
    },
    {
      "cell_type": "markdown",
      "source": [
        "**`dim()`**: Gets or sets the dimensions of an object."
      ],
      "metadata": {
        "id": "aUFml6EiBBGY"
      }
    },
    {
      "cell_type": "code",
      "source": [
        "dim(a)"
      ],
      "metadata": {
        "colab": {
          "base_uri": "https://localhost:8080/",
          "height": 34
        },
        "id": "Ca_c7cyhmQLW",
        "outputId": "af9ce222-4e15-4740-da44-6cc3535210c4"
      },
      "execution_count": 6,
      "outputs": [
        {
          "output_type": "display_data",
          "data": {
            "text/html": [
              "<style>\n",
              ".list-inline {list-style: none; margin:0; padding: 0}\n",
              ".list-inline>li {display: inline-block}\n",
              ".list-inline>li:not(:last-child)::after {content: \"\\00b7\"; padding: 0 .5ex}\n",
              "</style>\n",
              "<ol class=list-inline><li>3</li><li>3</li></ol>\n"
            ],
            "text/markdown": "1. 3\n2. 3\n\n\n",
            "text/latex": "\\begin{enumerate*}\n\\item 3\n\\item 3\n\\end{enumerate*}\n",
            "text/plain": [
              "[1] 3 3"
            ]
          },
          "metadata": {}
        }
      ]
    },
    {
      "cell_type": "markdown",
      "source": [
        "**`nrow()`** and **`ncol()`**: Get the number of rows and columns of a matrix, respectively."
      ],
      "metadata": {
        "id": "I1fEjdsvBObl"
      }
    },
    {
      "cell_type": "code",
      "source": [
        "nrow(a)\n",
        "ncol(a)"
      ],
      "metadata": {
        "colab": {
          "base_uri": "https://localhost:8080/",
          "height": 52
        },
        "id": "9Vo-TW9ymQH3",
        "outputId": "b9378734-9376-456e-aa25-abb95a8804f5"
      },
      "execution_count": 7,
      "outputs": [
        {
          "output_type": "display_data",
          "data": {
            "text/html": [
              "3"
            ],
            "text/markdown": "3",
            "text/latex": "3",
            "text/plain": [
              "[1] 3"
            ]
          },
          "metadata": {}
        },
        {
          "output_type": "display_data",
          "data": {
            "text/html": [
              "3"
            ],
            "text/markdown": "3",
            "text/latex": "3",
            "text/plain": [
              "[1] 3"
            ]
          },
          "metadata": {}
        }
      ]
    },
    {
      "cell_type": "markdown",
      "source": [
        "**`t()`**: Transposes a matrix, swapping rows and columns."
      ],
      "metadata": {
        "id": "umhnvgufBjGF"
      }
    },
    {
      "cell_type": "code",
      "source": [
        "t(a)"
      ],
      "metadata": {
        "colab": {
          "base_uri": "https://localhost:8080/",
          "height": 163
        },
        "id": "6htC_7FlmQDz",
        "outputId": "43d75503-e32e-44be-b15a-48d6cb8f9534"
      },
      "execution_count": 8,
      "outputs": [
        {
          "output_type": "display_data",
          "data": {
            "text/html": [
              "<table class=\"dataframe\">\n",
              "<caption>A matrix: 3 × 3 of type int</caption>\n",
              "<tbody>\n",
              "\t<tr><td>1</td><td>2</td><td>3</td></tr>\n",
              "\t<tr><td>4</td><td>5</td><td>6</td></tr>\n",
              "\t<tr><td>7</td><td>8</td><td>9</td></tr>\n",
              "</tbody>\n",
              "</table>\n"
            ],
            "text/markdown": "\nA matrix: 3 × 3 of type int\n\n| 1 | 2 | 3 |\n| 4 | 5 | 6 |\n| 7 | 8 | 9 |\n\n",
            "text/latex": "A matrix: 3 × 3 of type int\n\\begin{tabular}{lll}\n\t 1 & 2 & 3\\\\\n\t 4 & 5 & 6\\\\\n\t 7 & 8 & 9\\\\\n\\end{tabular}\n",
            "text/plain": [
              "     [,1] [,2] [,3]\n",
              "[1,] 1    2    3   \n",
              "[2,] 4    5    6   \n",
              "[3,] 7    8    9   "
            ]
          },
          "metadata": {}
        }
      ]
    },
    {
      "cell_type": "markdown",
      "source": [
        "**`solve()`**: Solves a system of linear equations or calculates the inverse of a matrix."
      ],
      "metadata": {
        "id": "2xcBwm9KBvh9"
      }
    },
    {
      "cell_type": "code",
      "source": [
        "solve(a)"
      ],
      "metadata": {
        "colab": {
          "base_uri": "https://localhost:8080/",
          "height": 280
        },
        "id": "feA6oas9Bpjb",
        "outputId": "6cfe8eb5-1174-4d07-f9f2-55190331c8a3"
      },
      "execution_count": 9,
      "outputs": [
        {
          "output_type": "error",
          "ename": "ERROR",
          "evalue": "Error in solve.default(a): Lapack routine dgesv: system is exactly singular: U[3,3] = 0\n",
          "traceback": [
            "Error in solve.default(a): Lapack routine dgesv: system is exactly singular: U[3,3] = 0\nTraceback:\n",
            "1. solve.default(a)",
            "2. .handleSimpleError(function (cnd) \n . {\n .     watcher$capture_plot_and_output()\n .     cnd <- sanitize_call(cnd)\n .     watcher$push(cnd)\n .     switch(on_error, continue = invokeRestart(\"eval_continue\"), \n .         stop = invokeRestart(\"eval_stop\"), error = invokeRestart(\"eval_error\", \n .             cnd))\n . }, \"Lapack routine dgesv: system is exactly singular: U[3,3] = 0\", \n .     base::quote(solve.default(a)))"
          ]
        }
      ]
    },
    {
      "cell_type": "markdown",
      "source": [
        "The error message you encountered when attempting to use the `solve()` function in R indicates that the matrix a is singular, which means that it does not have an inverse. A singular matrix has at least one of the following properties:\n",
        "\n",
        "- It has linearly dependent rows or columns (i.e., one row can be expressed as a linear combination of others).\n",
        "- Its determinant is zero, which means it cannot be inverted."
      ],
      "metadata": {
        "id": "rRbFp4mFCyoy"
      }
    },
    {
      "cell_type": "code",
      "source": [
        "f <- matrix(c(4,6,1,8), nrow = 2, ncol = 2)\n",
        "\n",
        "solve(f)"
      ],
      "metadata": {
        "colab": {
          "base_uri": "https://localhost:8080/",
          "height": 97
        },
        "id": "1GE6mDa3B357",
        "outputId": "b91b5a65-9ee5-404b-915a-b93c16c971f3"
      },
      "execution_count": 10,
      "outputs": [
        {
          "output_type": "display_data",
          "data": {
            "text/html": [
              "<table class=\"dataframe\">\n",
              "<caption>A matrix: 2 × 2 of type dbl</caption>\n",
              "<tbody>\n",
              "\t<tr><td> 0.3076923</td><td>-0.03846154</td></tr>\n",
              "\t<tr><td>-0.2307692</td><td> 0.15384615</td></tr>\n",
              "</tbody>\n",
              "</table>\n"
            ],
            "text/markdown": "\nA matrix: 2 × 2 of type dbl\n\n|  0.3076923 | -0.03846154 |\n| -0.2307692 |  0.15384615 |\n\n",
            "text/latex": "A matrix: 2 × 2 of type dbl\n\\begin{tabular}{ll}\n\t  0.3076923 & -0.03846154\\\\\n\t -0.2307692 &  0.15384615\\\\\n\\end{tabular}\n",
            "text/plain": [
              "     [,1]       [,2]       \n",
              "[1,]  0.3076923 -0.03846154\n",
              "[2,] -0.2307692  0.15384615"
            ]
          },
          "metadata": {}
        }
      ]
    },
    {
      "cell_type": "markdown",
      "source": [
        "**`cbind()`** and **`rbind()`**: Combine matrices by columns or rows, respectively."
      ],
      "metadata": {
        "id": "qqrhsn1gDe0f"
      }
    },
    {
      "cell_type": "code",
      "source": [
        "new_matrix1 <- cbind(a, a)\n",
        "print(new_matrix1)"
      ],
      "metadata": {
        "colab": {
          "base_uri": "https://localhost:8080/"
        },
        "id": "5AAsOJtWDSHS",
        "outputId": "d775553a-18af-4c06-fb8f-925a894530c1"
      },
      "execution_count": 11,
      "outputs": [
        {
          "output_type": "stream",
          "name": "stdout",
          "text": [
            "     [,1] [,2] [,3] [,4] [,5] [,6]\n",
            "[1,]    1    4    7    1    4    7\n",
            "[2,]    2    5    8    2    5    8\n",
            "[3,]    3    6    9    3    6    9\n"
          ]
        }
      ]
    },
    {
      "cell_type": "code",
      "source": [
        "new_matrix2 <- rbind(a, a)\n",
        "print(new_matrix2)"
      ],
      "metadata": {
        "colab": {
          "base_uri": "https://localhost:8080/"
        },
        "id": "aAsSn7NrDuPS",
        "outputId": "2d3f01d3-8f26-4d82-d276-be13623a0207"
      },
      "execution_count": 12,
      "outputs": [
        {
          "output_type": "stream",
          "name": "stdout",
          "text": [
            "     [,1] [,2] [,3]\n",
            "[1,]    1    4    7\n",
            "[2,]    2    5    8\n",
            "[3,]    3    6    9\n",
            "[4,]    1    4    7\n",
            "[5,]    2    5    8\n",
            "[6,]    3    6    9\n"
          ]
        }
      ]
    },
    {
      "cell_type": "markdown",
      "source": [
        "**`diag()`**: Create a diagonal matrix or extracts the diagonal of a matrix."
      ],
      "metadata": {
        "id": "Nj9UMK21EI8H"
      }
    },
    {
      "cell_type": "code",
      "source": [
        "diag(a)"
      ],
      "metadata": {
        "colab": {
          "base_uri": "https://localhost:8080/",
          "height": 34
        },
        "id": "lis5BMkHEAoZ",
        "outputId": "111c6566-5246-4326-f1f3-30d85ef2c487"
      },
      "execution_count": 13,
      "outputs": [
        {
          "output_type": "display_data",
          "data": {
            "text/html": [
              "<style>\n",
              ".list-inline {list-style: none; margin:0; padding: 0}\n",
              ".list-inline>li {display: inline-block}\n",
              ".list-inline>li:not(:last-child)::after {content: \"\\00b7\"; padding: 0 .5ex}\n",
              "</style>\n",
              "<ol class=list-inline><li>1</li><li>5</li><li>9</li></ol>\n"
            ],
            "text/markdown": "1. 1\n2. 5\n3. 9\n\n\n",
            "text/latex": "\\begin{enumerate*}\n\\item 1\n\\item 5\n\\item 9\n\\end{enumerate*}\n",
            "text/plain": [
              "[1] 1 5 9"
            ]
          },
          "metadata": {}
        }
      ]
    },
    {
      "cell_type": "markdown",
      "source": [
        "**`apply()`**: Applies a function over the margins of an array or matrix.\n",
        "\n",
        "`apply(X, MARGIN, FUN, ...)`\n",
        "\n",
        "- X: The matrix to which the function will be applied.\n",
        "- MARGIN: The dimension along which the function will be applied:\n",
        "\n",
        "  1: Apply the function to each row.\n",
        "\n",
        "  2: Apply the function to each column.\n",
        "- FUN: The function to be applied to each row or column."
      ],
      "metadata": {
        "id": "rORZ_ImwETn1"
      }
    },
    {
      "cell_type": "code",
      "source": [
        "# Calculating the row sums of a matrix\n",
        "row_sums <- apply(a, 1, sum)\n",
        "print(row_sums)"
      ],
      "metadata": {
        "colab": {
          "base_uri": "https://localhost:8080/"
        },
        "id": "2oxbrlqqEHaJ",
        "outputId": "99b95284-39bc-4e9b-c1d7-4df1199174b0"
      },
      "execution_count": 14,
      "outputs": [
        {
          "output_type": "stream",
          "name": "stdout",
          "text": [
            "[1] 12 15 18\n"
          ]
        }
      ]
    },
    {
      "cell_type": "code",
      "source": [
        "#Calculating the column sums of a matrix\n",
        "col_sums <- apply(a, 2, sum)\n",
        "print(col_sums)"
      ],
      "metadata": {
        "colab": {
          "base_uri": "https://localhost:8080/"
        },
        "id": "iEl0BgM6FQ1M",
        "outputId": "60eba9d8-e4a4-4995-f571-2cfb01a4f262"
      },
      "execution_count": 15,
      "outputs": [
        {
          "output_type": "stream",
          "name": "stdout",
          "text": [
            "[1]  6 15 24\n"
          ]
        }
      ]
    },
    {
      "cell_type": "markdown",
      "source": [
        "**`length()`**: Number of elements in the matrix."
      ],
      "metadata": {
        "id": "tpIMeulSFn5c"
      }
    },
    {
      "cell_type": "code",
      "source": [
        "length(a)"
      ],
      "metadata": {
        "colab": {
          "base_uri": "https://localhost:8080/",
          "height": 34
        },
        "id": "1v4yMZCnFTRC",
        "outputId": "5ef7e8c6-0017-4287-d6e4-ededdda77f75"
      },
      "execution_count": 16,
      "outputs": [
        {
          "output_type": "display_data",
          "data": {
            "text/html": [
              "9"
            ],
            "text/markdown": "9",
            "text/latex": "9",
            "text/plain": [
              "[1] 9"
            ]
          },
          "metadata": {}
        }
      ]
    },
    {
      "cell_type": "markdown",
      "source": [
        "**`min()`** and **`max()`**: Min and Max of all elements in the matrix."
      ],
      "metadata": {
        "id": "g-47JFuHgNcF"
      }
    },
    {
      "cell_type": "code",
      "source": [
        "min(a)\n",
        "max(a)"
      ],
      "metadata": {
        "colab": {
          "base_uri": "https://localhost:8080/",
          "height": 52
        },
        "id": "1fnrL2IggtAG",
        "outputId": "c73e9f4e-6830-42ee-f06b-dc83c4d29d3c"
      },
      "execution_count": 17,
      "outputs": [
        {
          "output_type": "display_data",
          "data": {
            "text/html": [
              "1"
            ],
            "text/markdown": "1",
            "text/latex": "1",
            "text/plain": [
              "[1] 1"
            ]
          },
          "metadata": {}
        },
        {
          "output_type": "display_data",
          "data": {
            "text/html": [
              "9"
            ],
            "text/markdown": "9",
            "text/latex": "9",
            "text/plain": [
              "[1] 9"
            ]
          },
          "metadata": {}
        }
      ]
    },
    {
      "cell_type": "markdown",
      "source": [
        "**`range()`**: Get min and max of all elements at the same time."
      ],
      "metadata": {
        "id": "G56wB2dmgzoO"
      }
    },
    {
      "cell_type": "code",
      "source": [
        "range(a)"
      ],
      "metadata": {
        "colab": {
          "base_uri": "https://localhost:8080/",
          "height": 34
        },
        "id": "zX4eL0qKgw58",
        "outputId": "0aea16ab-5953-483c-a06c-d0192f968fb6"
      },
      "execution_count": 18,
      "outputs": [
        {
          "output_type": "display_data",
          "data": {
            "text/html": [
              "<style>\n",
              ".list-inline {list-style: none; margin:0; padding: 0}\n",
              ".list-inline>li {display: inline-block}\n",
              ".list-inline>li:not(:last-child)::after {content: \"\\00b7\"; padding: 0 .5ex}\n",
              "</style>\n",
              "<ol class=list-inline><li>1</li><li>9</li></ol>\n"
            ],
            "text/markdown": "1. 1\n2. 9\n\n\n",
            "text/latex": "\\begin{enumerate*}\n\\item 1\n\\item 9\n\\end{enumerate*}\n",
            "text/plain": [
              "[1] 1 9"
            ]
          },
          "metadata": {}
        }
      ]
    },
    {
      "cell_type": "markdown",
      "source": [
        "**`sum()`**: Sum of all elements in the matrix."
      ],
      "metadata": {
        "id": "Y2oU9D6sg_ke"
      }
    },
    {
      "cell_type": "code",
      "source": [
        "sum(a)"
      ],
      "metadata": {
        "colab": {
          "base_uri": "https://localhost:8080/",
          "height": 34
        },
        "id": "eQJNsFZ8hKxv",
        "outputId": "b2c8b34b-f25e-410e-9c18-3215549a8211"
      },
      "execution_count": 19,
      "outputs": [
        {
          "output_type": "display_data",
          "data": {
            "text/html": [
              "45"
            ],
            "text/markdown": "45",
            "text/latex": "45",
            "text/plain": [
              "[1] 45"
            ]
          },
          "metadata": {}
        }
      ]
    },
    {
      "cell_type": "markdown",
      "source": [
        "**`eigen()`**: Calculate eigenvalues and eigenvectors of matrices."
      ],
      "metadata": {
        "id": "6NMhydJuhhoV"
      }
    },
    {
      "cell_type": "code",
      "source": [
        "eigen(a)"
      ],
      "metadata": {
        "colab": {
          "base_uri": "https://localhost:8080/",
          "height": 173
        },
        "id": "qBRQ-hwshdYm",
        "outputId": "3d9542f6-229c-49cd-d3cc-653c0bbcb679"
      },
      "execution_count": 20,
      "outputs": [
        {
          "output_type": "display_data",
          "data": {
            "text/plain": [
              "eigen() decomposition\n",
              "$values\n",
              "[1]  1.611684e+01 -1.116844e+00 -5.700691e-16\n",
              "\n",
              "$vectors\n",
              "           [,1]       [,2]       [,3]\n",
              "[1,] -0.4645473 -0.8829060  0.4082483\n",
              "[2,] -0.5707955 -0.2395204 -0.8164966\n",
              "[3,] -0.6770438  0.4038651  0.4082483\n"
            ]
          },
          "metadata": {}
        }
      ]
    },
    {
      "cell_type": "markdown",
      "source": [
        "**`det()`**: Used to find the determinant of matrix."
      ],
      "metadata": {
        "id": "imBJnk5njR-X"
      }
    },
    {
      "cell_type": "code",
      "source": [
        "det(a)"
      ],
      "metadata": {
        "colab": {
          "base_uri": "https://localhost:8080/",
          "height": 34
        },
        "id": "JkSk0C23hdRP",
        "outputId": "223b3df7-bf8f-4d53-aa6b-8145a029b611"
      },
      "execution_count": 21,
      "outputs": [
        {
          "output_type": "display_data",
          "data": {
            "text/html": [
              "0"
            ],
            "text/markdown": "0",
            "text/latex": "0",
            "text/plain": [
              "[1] 0"
            ]
          },
          "metadata": {}
        }
      ]
    },
    {
      "cell_type": "markdown",
      "source": [
        "**`is.matrix( )`**: Check if the Object is a Matrix."
      ],
      "metadata": {
        "id": "yWOv_RNtj1_k"
      }
    },
    {
      "cell_type": "code",
      "source": [
        "is.matrix(a)"
      ],
      "metadata": {
        "colab": {
          "base_uri": "https://localhost:8080/",
          "height": 34
        },
        "id": "3e_vnqOtj3MV",
        "outputId": "97253fbe-9a47-4354-a0cc-3e27404ccaff"
      },
      "execution_count": 22,
      "outputs": [
        {
          "output_type": "display_data",
          "data": {
            "text/html": [
              "TRUE"
            ],
            "text/markdown": "TRUE",
            "text/latex": "TRUE",
            "text/plain": [
              "[1] TRUE"
            ]
          },
          "metadata": {}
        }
      ]
    },
    {
      "cell_type": "markdown",
      "source": [
        "**`as.matrix()`**: Convert a numeric vector into a matrix."
      ],
      "metadata": {
        "id": "D2hvDtuus81h"
      }
    },
    {
      "cell_type": "code",
      "source": [
        "#Create a numeric vector\n",
        "vec <- c(1, 2, 3, 4, 5, 6)\n",
        "\n",
        "#Convert the vector to a matrix with 2 rows and 3 columns\n",
        "matrix_vec <- as.matrix(vec, nrow = 2, ncol = 3)\n",
        "\n",
        "print(matrix_vec)"
      ],
      "metadata": {
        "colab": {
          "base_uri": "https://localhost:8080/"
        },
        "id": "wkYF_E4xj3Ic",
        "outputId": "68ba6086-aa7a-4558-b894-24dcb1dba2a8"
      },
      "execution_count": 23,
      "outputs": [
        {
          "output_type": "stream",
          "name": "stdout",
          "text": [
            "     [,1]\n",
            "[1,]    1\n",
            "[2,]    2\n",
            "[3,]    3\n",
            "[4,]    4\n",
            "[5,]    5\n",
            "[6,]    6\n"
          ]
        }
      ]
    },
    {
      "cell_type": "markdown",
      "source": [
        "<a name='Matrix_Indexing_and_Slicing'></a>\n",
        "\n",
        "## 5.3. Matrix Indexing and Slicing:"
      ],
      "metadata": {
        "id": "QQFNPeLWFzQl"
      }
    },
    {
      "cell_type": "markdown",
      "source": [
        "1. Numeric Indexing: You can access elements of a matrix by specifying their row and column indices.\n",
        "\n",
        "- The syntax for indexing is `matrix[row, column]`.\n",
        "- Indices start from 1, unlike Python, where they start from 0.\n",
        "2. Logical Indexing: You can use logical vectors to index matrices, allowing you to select elements that meet certain conditions."
      ],
      "metadata": {
        "id": "T1pIuXuBGi_c"
      }
    },
    {
      "cell_type": "code",
      "source": [
        "print(a)"
      ],
      "metadata": {
        "colab": {
          "base_uri": "https://localhost:8080/"
        },
        "id": "M1coz_PHFnCw",
        "outputId": "81e00ad3-b397-42c8-f8ad-777dc3d11128"
      },
      "execution_count": 24,
      "outputs": [
        {
          "output_type": "stream",
          "name": "stdout",
          "text": [
            "     [,1] [,2] [,3]\n",
            "[1,]    1    4    7\n",
            "[2,]    2    5    8\n",
            "[3,]    3    6    9\n"
          ]
        }
      ]
    },
    {
      "cell_type": "code",
      "source": [
        "#Element in the second row and third column\n",
        "a[2,3]"
      ],
      "metadata": {
        "colab": {
          "base_uri": "https://localhost:8080/",
          "height": 34
        },
        "id": "iI9o571GG1TY",
        "outputId": "aa4a6fca-cefe-449b-8e09-18ad4e6f4e07"
      },
      "execution_count": 25,
      "outputs": [
        {
          "output_type": "display_data",
          "data": {
            "text/html": [
              "8"
            ],
            "text/markdown": "8",
            "text/latex": "8",
            "text/plain": [
              "[1] 8"
            ]
          },
          "metadata": {}
        }
      ]
    },
    {
      "cell_type": "code",
      "source": [
        "#Entire second row\n",
        "a[2,]"
      ],
      "metadata": {
        "colab": {
          "base_uri": "https://localhost:8080/",
          "height": 34
        },
        "id": "HBqusxN7G8lf",
        "outputId": "66851ec9-57f4-45d9-9bf8-1a1ee37f3999"
      },
      "execution_count": 26,
      "outputs": [
        {
          "output_type": "display_data",
          "data": {
            "text/html": [
              "<style>\n",
              ".list-inline {list-style: none; margin:0; padding: 0}\n",
              ".list-inline>li {display: inline-block}\n",
              ".list-inline>li:not(:last-child)::after {content: \"\\00b7\"; padding: 0 .5ex}\n",
              "</style>\n",
              "<ol class=list-inline><li>2</li><li>5</li><li>8</li></ol>\n"
            ],
            "text/markdown": "1. 2\n2. 5\n3. 8\n\n\n",
            "text/latex": "\\begin{enumerate*}\n\\item 2\n\\item 5\n\\item 8\n\\end{enumerate*}\n",
            "text/plain": [
              "[1] 2 5 8"
            ]
          },
          "metadata": {}
        }
      ]
    },
    {
      "cell_type": "code",
      "source": [
        "#Entire second column\n",
        "a[,2]"
      ],
      "metadata": {
        "colab": {
          "base_uri": "https://localhost:8080/",
          "height": 34
        },
        "id": "VewDqvR1HJnP",
        "outputId": "0bea0f9a-b4ce-49fd-dc6b-914b02e90fdd"
      },
      "execution_count": 27,
      "outputs": [
        {
          "output_type": "display_data",
          "data": {
            "text/html": [
              "<style>\n",
              ".list-inline {list-style: none; margin:0; padding: 0}\n",
              ".list-inline>li {display: inline-block}\n",
              ".list-inline>li:not(:last-child)::after {content: \"\\00b7\"; padding: 0 .5ex}\n",
              "</style>\n",
              "<ol class=list-inline><li>4</li><li>5</li><li>6</li></ol>\n"
            ],
            "text/markdown": "1. 4\n2. 5\n3. 6\n\n\n",
            "text/latex": "\\begin{enumerate*}\n\\item 4\n\\item 5\n\\item 6\n\\end{enumerate*}\n",
            "text/plain": [
              "[1] 4 5 6"
            ]
          },
          "metadata": {}
        }
      ]
    },
    {
      "cell_type": "code",
      "source": [
        "a[1,2:3]"
      ],
      "metadata": {
        "colab": {
          "base_uri": "https://localhost:8080/",
          "height": 34
        },
        "id": "RxZwRNMaIF3J",
        "outputId": "06578c2e-6e9b-4638-c2da-c3946263f1b9"
      },
      "execution_count": 28,
      "outputs": [
        {
          "output_type": "display_data",
          "data": {
            "text/html": [
              "<style>\n",
              ".list-inline {list-style: none; margin:0; padding: 0}\n",
              ".list-inline>li {display: inline-block}\n",
              ".list-inline>li:not(:last-child)::after {content: \"\\00b7\"; padding: 0 .5ex}\n",
              "</style>\n",
              "<ol class=list-inline><li>4</li><li>7</li></ol>\n"
            ],
            "text/markdown": "1. 4\n2. 7\n\n\n",
            "text/latex": "\\begin{enumerate*}\n\\item 4\n\\item 7\n\\end{enumerate*}\n",
            "text/plain": [
              "[1] 4 7"
            ]
          },
          "metadata": {}
        }
      ]
    },
    {
      "cell_type": "code",
      "source": [
        "a[1:3, 1:2]"
      ],
      "metadata": {
        "colab": {
          "base_uri": "https://localhost:8080/",
          "height": 198
        },
        "id": "aenG1ppAIW4Z",
        "outputId": "f66ee259-a976-4bb3-b238-a85748050ba8"
      },
      "execution_count": 29,
      "outputs": [
        {
          "output_type": "display_data",
          "data": {
            "text/html": [
              "<table class=\"dataframe\">\n",
              "<caption>A matrix: 3 × 2 of type int</caption>\n",
              "<tbody>\n",
              "\t<tr><td>1</td><td>4</td></tr>\n",
              "\t<tr><td>2</td><td>5</td></tr>\n",
              "\t<tr><td>3</td><td>6</td></tr>\n",
              "</tbody>\n",
              "</table>\n"
            ],
            "text/markdown": "\nA matrix: 3 × 2 of type int\n\n| 1 | 4 |\n| 2 | 5 |\n| 3 | 6 |\n\n",
            "text/latex": "A matrix: 3 × 2 of type int\n\\begin{tabular}{ll}\n\t 1 & 4\\\\\n\t 2 & 5\\\\\n\t 3 & 6\\\\\n\\end{tabular}\n",
            "text/plain": [
              "     [,1] [,2]\n",
              "[1,] 1    4   \n",
              "[2,] 2    5   \n",
              "[3,] 3    6   "
            ]
          },
          "metadata": {}
        }
      ]
    },
    {
      "cell_type": "markdown",
      "source": [
        "You can also access multiple rows and columns by using a vector of indices."
      ],
      "metadata": {
        "id": "Jgh2Mou4HSsD"
      }
    },
    {
      "cell_type": "code",
      "source": [
        "a[c(1, 3), c(2, 3)]"
      ],
      "metadata": {
        "colab": {
          "base_uri": "https://localhost:8080/",
          "height": 166
        },
        "id": "mrjR5xQ-HNfo",
        "outputId": "0142e7e1-40ca-48f2-a5e3-4babc27a7fad"
      },
      "execution_count": 30,
      "outputs": [
        {
          "output_type": "display_data",
          "data": {
            "text/html": [
              "<table class=\"dataframe\">\n",
              "<caption>A matrix: 2 × 2 of type int</caption>\n",
              "<tbody>\n",
              "\t<tr><td>4</td><td>7</td></tr>\n",
              "\t<tr><td>6</td><td>9</td></tr>\n",
              "</tbody>\n",
              "</table>\n"
            ],
            "text/markdown": "\nA matrix: 2 × 2 of type int\n\n| 4 | 7 |\n| 6 | 9 |\n\n",
            "text/latex": "A matrix: 2 × 2 of type int\n\\begin{tabular}{ll}\n\t 4 & 7\\\\\n\t 6 & 9\\\\\n\\end{tabular}\n",
            "text/plain": [
              "     [,1] [,2]\n",
              "[1,] 4    7   \n",
              "[2,] 6    9   "
            ]
          },
          "metadata": {}
        }
      ]
    },
    {
      "cell_type": "markdown",
      "source": [
        "Logical indexing allows you to select elements based on conditions."
      ],
      "metadata": {
        "id": "lZqiGBObIC7a"
      }
    },
    {
      "cell_type": "code",
      "source": [
        "a[a>5]"
      ],
      "metadata": {
        "colab": {
          "base_uri": "https://localhost:8080/",
          "height": 34
        },
        "id": "fTBaKDl0HYg5",
        "outputId": "61ce6fc8-c5c4-4683-9136-5ae631709200"
      },
      "execution_count": 31,
      "outputs": [
        {
          "output_type": "display_data",
          "data": {
            "text/html": [
              "<style>\n",
              ".list-inline {list-style: none; margin:0; padding: 0}\n",
              ".list-inline>li {display: inline-block}\n",
              ".list-inline>li:not(:last-child)::after {content: \"\\00b7\"; padding: 0 .5ex}\n",
              "</style>\n",
              "<ol class=list-inline><li>6</li><li>7</li><li>8</li><li>9</li></ol>\n"
            ],
            "text/markdown": "1. 6\n2. 7\n3. 8\n4. 9\n\n\n",
            "text/latex": "\\begin{enumerate*}\n\\item 6\n\\item 7\n\\item 8\n\\item 9\n\\end{enumerate*}\n",
            "text/plain": [
              "[1] 6 7 8 9"
            ]
          },
          "metadata": {}
        }
      ]
    },
    {
      "cell_type": "markdown",
      "source": [
        "In R, using a negative index within a matrix indexing operation indicates that you want to exclude the specified row or column from the selection."
      ],
      "metadata": {
        "id": "z1mLEQqBJoIy"
      }
    },
    {
      "cell_type": "code",
      "source": [
        "a[-1,]"
      ],
      "metadata": {
        "colab": {
          "base_uri": "https://localhost:8080/",
          "height": 132
        },
        "id": "myy6hH2aJTgA",
        "outputId": "2d2a093a-2055-4f2b-8acd-76fbc3ee43c0"
      },
      "execution_count": 32,
      "outputs": [
        {
          "output_type": "display_data",
          "data": {
            "text/html": [
              "<table class=\"dataframe\">\n",
              "<caption>A matrix: 2 × 3 of type int</caption>\n",
              "<tbody>\n",
              "\t<tr><td>2</td><td>5</td><td>8</td></tr>\n",
              "\t<tr><td>3</td><td>6</td><td>9</td></tr>\n",
              "</tbody>\n",
              "</table>\n"
            ],
            "text/markdown": "\nA matrix: 2 × 3 of type int\n\n| 2 | 5 | 8 |\n| 3 | 6 | 9 |\n\n",
            "text/latex": "A matrix: 2 × 3 of type int\n\\begin{tabular}{lll}\n\t 2 & 5 & 8\\\\\n\t 3 & 6 & 9\\\\\n\\end{tabular}\n",
            "text/plain": [
              "     [,1] [,2] [,3]\n",
              "[1,] 2    5    8   \n",
              "[2,] 3    6    9   "
            ]
          },
          "metadata": {}
        }
      ]
    },
    {
      "cell_type": "markdown",
      "source": [
        "<a name='Matrix_Properties'></a>\n",
        "\n",
        "## 5.4. Matix Properties:"
      ],
      "metadata": {
        "id": "jf-kgXZPIp9p"
      }
    },
    {
      "cell_type": "markdown",
      "source": [
        "- **Reassignment**:"
      ],
      "metadata": {
        "id": "vNt4oVsxIwsB"
      }
    },
    {
      "cell_type": "code",
      "source": [
        "b"
      ],
      "metadata": {
        "colab": {
          "base_uri": "https://localhost:8080/",
          "height": 161
        },
        "id": "4pr31cPlH8jf",
        "outputId": "88d2de07-290c-48b1-de4a-26076dfdf231"
      },
      "execution_count": 33,
      "outputs": [
        {
          "output_type": "display_data",
          "data": {
            "text/html": [
              "<table class=\"dataframe\">\n",
              "<caption>A matrix: 3 × 3 of type int</caption>\n",
              "<thead>\n",
              "\t<tr><th></th><th scope=col>Col1</th><th scope=col>Col2</th><th scope=col>Col3</th></tr>\n",
              "</thead>\n",
              "<tbody>\n",
              "\t<tr><th scope=row>Row1</th><td>1</td><td>2</td><td>3</td></tr>\n",
              "\t<tr><th scope=row>Row2</th><td>4</td><td>5</td><td>6</td></tr>\n",
              "\t<tr><th scope=row>Row3</th><td>7</td><td>8</td><td>9</td></tr>\n",
              "</tbody>\n",
              "</table>\n"
            ],
            "text/markdown": "\nA matrix: 3 × 3 of type int\n\n| <!--/--> | Col1 | Col2 | Col3 |\n|---|---|---|---|\n| Row1 | 1 | 2 | 3 |\n| Row2 | 4 | 5 | 6 |\n| Row3 | 7 | 8 | 9 |\n\n",
            "text/latex": "A matrix: 3 × 3 of type int\n\\begin{tabular}{r|lll}\n  & Col1 & Col2 & Col3\\\\\n\\hline\n\tRow1 & 1 & 2 & 3\\\\\n\tRow2 & 4 & 5 & 6\\\\\n\tRow3 & 7 & 8 & 9\\\\\n\\end{tabular}\n",
            "text/plain": [
              "     Col1 Col2 Col3\n",
              "Row1 1    2    3   \n",
              "Row2 4    5    6   \n",
              "Row3 7    8    9   "
            ]
          },
          "metadata": {}
        }
      ]
    },
    {
      "cell_type": "code",
      "source": [
        "b[1,2] <- 22\n",
        "\n",
        "b"
      ],
      "metadata": {
        "colab": {
          "base_uri": "https://localhost:8080/",
          "height": 161
        },
        "id": "sY4smeosI1JH",
        "outputId": "c83c4e7a-41ce-4df6-fc14-276cbdc774f1"
      },
      "execution_count": 34,
      "outputs": [
        {
          "output_type": "display_data",
          "data": {
            "text/html": [
              "<table class=\"dataframe\">\n",
              "<caption>A matrix: 3 × 3 of type dbl</caption>\n",
              "<thead>\n",
              "\t<tr><th></th><th scope=col>Col1</th><th scope=col>Col2</th><th scope=col>Col3</th></tr>\n",
              "</thead>\n",
              "<tbody>\n",
              "\t<tr><th scope=row>Row1</th><td>1</td><td>22</td><td>3</td></tr>\n",
              "\t<tr><th scope=row>Row2</th><td>4</td><td> 5</td><td>6</td></tr>\n",
              "\t<tr><th scope=row>Row3</th><td>7</td><td> 8</td><td>9</td></tr>\n",
              "</tbody>\n",
              "</table>\n"
            ],
            "text/markdown": "\nA matrix: 3 × 3 of type dbl\n\n| <!--/--> | Col1 | Col2 | Col3 |\n|---|---|---|---|\n| Row1 | 1 | 22 | 3 |\n| Row2 | 4 |  5 | 6 |\n| Row3 | 7 |  8 | 9 |\n\n",
            "text/latex": "A matrix: 3 × 3 of type dbl\n\\begin{tabular}{r|lll}\n  & Col1 & Col2 & Col3\\\\\n\\hline\n\tRow1 & 1 & 22 & 3\\\\\n\tRow2 & 4 &  5 & 6\\\\\n\tRow3 & 7 &  8 & 9\\\\\n\\end{tabular}\n",
            "text/plain": [
              "     Col1 Col2 Col3\n",
              "Row1 1    22   3   \n",
              "Row2 4     5   6   \n",
              "Row3 7     8   9   "
            ]
          },
          "metadata": {}
        }
      ]
    },
    {
      "cell_type": "markdown",
      "source": [
        "- **Arithmetic Operations**: Arithmetic operations in R are typically applied element-wise. This means that when you perform an operation on two vectors of the same length, R will apply the operation to corresponding elements in each vector."
      ],
      "metadata": {
        "id": "cSQjXjYmKjuK"
      }
    },
    {
      "cell_type": "code",
      "source": [
        "a\n",
        "b"
      ],
      "metadata": {
        "colab": {
          "base_uri": "https://localhost:8080/",
          "height": 307
        },
        "id": "4eax8-hoJBF-",
        "outputId": "9e8a33f2-317e-47b8-a773-cda23ced92f9"
      },
      "execution_count": 35,
      "outputs": [
        {
          "output_type": "display_data",
          "data": {
            "text/html": [
              "<table class=\"dataframe\">\n",
              "<caption>A matrix: 3 × 3 of type int</caption>\n",
              "<tbody>\n",
              "\t<tr><td>1</td><td>4</td><td>7</td></tr>\n",
              "\t<tr><td>2</td><td>5</td><td>8</td></tr>\n",
              "\t<tr><td>3</td><td>6</td><td>9</td></tr>\n",
              "</tbody>\n",
              "</table>\n"
            ],
            "text/markdown": "\nA matrix: 3 × 3 of type int\n\n| 1 | 4 | 7 |\n| 2 | 5 | 8 |\n| 3 | 6 | 9 |\n\n",
            "text/latex": "A matrix: 3 × 3 of type int\n\\begin{tabular}{lll}\n\t 1 & 4 & 7\\\\\n\t 2 & 5 & 8\\\\\n\t 3 & 6 & 9\\\\\n\\end{tabular}\n",
            "text/plain": [
              "     [,1] [,2] [,3]\n",
              "[1,] 1    4    7   \n",
              "[2,] 2    5    8   \n",
              "[3,] 3    6    9   "
            ]
          },
          "metadata": {}
        },
        {
          "output_type": "display_data",
          "data": {
            "text/html": [
              "<table class=\"dataframe\">\n",
              "<caption>A matrix: 3 × 3 of type dbl</caption>\n",
              "<thead>\n",
              "\t<tr><th></th><th scope=col>Col1</th><th scope=col>Col2</th><th scope=col>Col3</th></tr>\n",
              "</thead>\n",
              "<tbody>\n",
              "\t<tr><th scope=row>Row1</th><td>1</td><td>22</td><td>3</td></tr>\n",
              "\t<tr><th scope=row>Row2</th><td>4</td><td> 5</td><td>6</td></tr>\n",
              "\t<tr><th scope=row>Row3</th><td>7</td><td> 8</td><td>9</td></tr>\n",
              "</tbody>\n",
              "</table>\n"
            ],
            "text/markdown": "\nA matrix: 3 × 3 of type dbl\n\n| <!--/--> | Col1 | Col2 | Col3 |\n|---|---|---|---|\n| Row1 | 1 | 22 | 3 |\n| Row2 | 4 |  5 | 6 |\n| Row3 | 7 |  8 | 9 |\n\n",
            "text/latex": "A matrix: 3 × 3 of type dbl\n\\begin{tabular}{r|lll}\n  & Col1 & Col2 & Col3\\\\\n\\hline\n\tRow1 & 1 & 22 & 3\\\\\n\tRow2 & 4 &  5 & 6\\\\\n\tRow3 & 7 &  8 & 9\\\\\n\\end{tabular}\n",
            "text/plain": [
              "     Col1 Col2 Col3\n",
              "Row1 1    22   3   \n",
              "Row2 4     5   6   \n",
              "Row3 7     8   9   "
            ]
          },
          "metadata": {}
        }
      ]
    },
    {
      "cell_type": "code",
      "source": [
        "#Addition\n",
        "a + b"
      ],
      "metadata": {
        "colab": {
          "base_uri": "https://localhost:8080/",
          "height": 161
        },
        "outputId": "eaf853a3-528e-4881-eaec-eb2b24087a1d",
        "id": "zJPubzZXK26b"
      },
      "execution_count": 36,
      "outputs": [
        {
          "output_type": "display_data",
          "data": {
            "text/html": [
              "<table class=\"dataframe\">\n",
              "<caption>A matrix: 3 × 3 of type dbl</caption>\n",
              "<thead>\n",
              "\t<tr><th></th><th scope=col>Col1</th><th scope=col>Col2</th><th scope=col>Col3</th></tr>\n",
              "</thead>\n",
              "<tbody>\n",
              "\t<tr><th scope=row>Row1</th><td> 2</td><td>26</td><td>10</td></tr>\n",
              "\t<tr><th scope=row>Row2</th><td> 6</td><td>10</td><td>14</td></tr>\n",
              "\t<tr><th scope=row>Row3</th><td>10</td><td>14</td><td>18</td></tr>\n",
              "</tbody>\n",
              "</table>\n"
            ],
            "text/markdown": "\nA matrix: 3 × 3 of type dbl\n\n| <!--/--> | Col1 | Col2 | Col3 |\n|---|---|---|---|\n| Row1 |  2 | 26 | 10 |\n| Row2 |  6 | 10 | 14 |\n| Row3 | 10 | 14 | 18 |\n\n",
            "text/latex": "A matrix: 3 × 3 of type dbl\n\\begin{tabular}{r|lll}\n  & Col1 & Col2 & Col3\\\\\n\\hline\n\tRow1 &  2 & 26 & 10\\\\\n\tRow2 &  6 & 10 & 14\\\\\n\tRow3 & 10 & 14 & 18\\\\\n\\end{tabular}\n",
            "text/plain": [
              "     Col1 Col2 Col3\n",
              "Row1  2   26   10  \n",
              "Row2  6   10   14  \n",
              "Row3 10   14   18  "
            ]
          },
          "metadata": {}
        }
      ]
    },
    {
      "cell_type": "code",
      "source": [
        "#Subtraction\n",
        "a - b"
      ],
      "metadata": {
        "colab": {
          "base_uri": "https://localhost:8080/",
          "height": 161
        },
        "outputId": "9930e3f5-6f80-4b26-f930-82fbcdb4caf0",
        "id": "XQNFBwigK26d"
      },
      "execution_count": 37,
      "outputs": [
        {
          "output_type": "display_data",
          "data": {
            "text/html": [
              "<table class=\"dataframe\">\n",
              "<caption>A matrix: 3 × 3 of type dbl</caption>\n",
              "<thead>\n",
              "\t<tr><th></th><th scope=col>Col1</th><th scope=col>Col2</th><th scope=col>Col3</th></tr>\n",
              "</thead>\n",
              "<tbody>\n",
              "\t<tr><th scope=row>Row1</th><td> 0</td><td>-18</td><td>4</td></tr>\n",
              "\t<tr><th scope=row>Row2</th><td>-2</td><td>  0</td><td>2</td></tr>\n",
              "\t<tr><th scope=row>Row3</th><td>-4</td><td> -2</td><td>0</td></tr>\n",
              "</tbody>\n",
              "</table>\n"
            ],
            "text/markdown": "\nA matrix: 3 × 3 of type dbl\n\n| <!--/--> | Col1 | Col2 | Col3 |\n|---|---|---|---|\n| Row1 |  0 | -18 | 4 |\n| Row2 | -2 |   0 | 2 |\n| Row3 | -4 |  -2 | 0 |\n\n",
            "text/latex": "A matrix: 3 × 3 of type dbl\n\\begin{tabular}{r|lll}\n  & Col1 & Col2 & Col3\\\\\n\\hline\n\tRow1 &  0 & -18 & 4\\\\\n\tRow2 & -2 &   0 & 2\\\\\n\tRow3 & -4 &  -2 & 0\\\\\n\\end{tabular}\n",
            "text/plain": [
              "     Col1 Col2 Col3\n",
              "Row1  0   -18  4   \n",
              "Row2 -2     0  2   \n",
              "Row3 -4    -2  0   "
            ]
          },
          "metadata": {}
        }
      ]
    },
    {
      "cell_type": "code",
      "source": [
        "#Multiplication\n",
        "a * b"
      ],
      "metadata": {
        "colab": {
          "base_uri": "https://localhost:8080/",
          "height": 161
        },
        "outputId": "71860594-497c-4298-b2f1-1d3e8e9b607f",
        "id": "m-XRucgjK26d"
      },
      "execution_count": 38,
      "outputs": [
        {
          "output_type": "display_data",
          "data": {
            "text/html": [
              "<table class=\"dataframe\">\n",
              "<caption>A matrix: 3 × 3 of type dbl</caption>\n",
              "<thead>\n",
              "\t<tr><th></th><th scope=col>Col1</th><th scope=col>Col2</th><th scope=col>Col3</th></tr>\n",
              "</thead>\n",
              "<tbody>\n",
              "\t<tr><th scope=row>Row1</th><td> 1</td><td>88</td><td>21</td></tr>\n",
              "\t<tr><th scope=row>Row2</th><td> 8</td><td>25</td><td>48</td></tr>\n",
              "\t<tr><th scope=row>Row3</th><td>21</td><td>48</td><td>81</td></tr>\n",
              "</tbody>\n",
              "</table>\n"
            ],
            "text/markdown": "\nA matrix: 3 × 3 of type dbl\n\n| <!--/--> | Col1 | Col2 | Col3 |\n|---|---|---|---|\n| Row1 |  1 | 88 | 21 |\n| Row2 |  8 | 25 | 48 |\n| Row3 | 21 | 48 | 81 |\n\n",
            "text/latex": "A matrix: 3 × 3 of type dbl\n\\begin{tabular}{r|lll}\n  & Col1 & Col2 & Col3\\\\\n\\hline\n\tRow1 &  1 & 88 & 21\\\\\n\tRow2 &  8 & 25 & 48\\\\\n\tRow3 & 21 & 48 & 81\\\\\n\\end{tabular}\n",
            "text/plain": [
              "     Col1 Col2 Col3\n",
              "Row1  1   88   21  \n",
              "Row2  8   25   48  \n",
              "Row3 21   48   81  "
            ]
          },
          "metadata": {}
        }
      ]
    },
    {
      "cell_type": "code",
      "source": [
        "#Division\n",
        "a / b"
      ],
      "metadata": {
        "colab": {
          "base_uri": "https://localhost:8080/",
          "height": 161
        },
        "outputId": "3a1eb7c1-ea17-453e-c533-c347c6b212bc",
        "id": "V_Wwx_8JK26d"
      },
      "execution_count": 39,
      "outputs": [
        {
          "output_type": "display_data",
          "data": {
            "text/html": [
              "<table class=\"dataframe\">\n",
              "<caption>A matrix: 3 × 3 of type dbl</caption>\n",
              "<thead>\n",
              "\t<tr><th></th><th scope=col>Col1</th><th scope=col>Col2</th><th scope=col>Col3</th></tr>\n",
              "</thead>\n",
              "<tbody>\n",
              "\t<tr><th scope=row>Row1</th><td>1.0000000</td><td>0.1818182</td><td>2.333333</td></tr>\n",
              "\t<tr><th scope=row>Row2</th><td>0.5000000</td><td>1.0000000</td><td>1.333333</td></tr>\n",
              "\t<tr><th scope=row>Row3</th><td>0.4285714</td><td>0.7500000</td><td>1.000000</td></tr>\n",
              "</tbody>\n",
              "</table>\n"
            ],
            "text/markdown": "\nA matrix: 3 × 3 of type dbl\n\n| <!--/--> | Col1 | Col2 | Col3 |\n|---|---|---|---|\n| Row1 | 1.0000000 | 0.1818182 | 2.333333 |\n| Row2 | 0.5000000 | 1.0000000 | 1.333333 |\n| Row3 | 0.4285714 | 0.7500000 | 1.000000 |\n\n",
            "text/latex": "A matrix: 3 × 3 of type dbl\n\\begin{tabular}{r|lll}\n  & Col1 & Col2 & Col3\\\\\n\\hline\n\tRow1 & 1.0000000 & 0.1818182 & 2.333333\\\\\n\tRow2 & 0.5000000 & 1.0000000 & 1.333333\\\\\n\tRow3 & 0.4285714 & 0.7500000 & 1.000000\\\\\n\\end{tabular}\n",
            "text/plain": [
              "     Col1      Col2      Col3    \n",
              "Row1 1.0000000 0.1818182 2.333333\n",
              "Row2 0.5000000 1.0000000 1.333333\n",
              "Row3 0.4285714 0.7500000 1.000000"
            ]
          },
          "metadata": {}
        }
      ]
    },
    {
      "cell_type": "code",
      "source": [
        "#Floor Division\n",
        "a %/% b"
      ],
      "metadata": {
        "colab": {
          "base_uri": "https://localhost:8080/",
          "height": 161
        },
        "outputId": "ba0e646e-6547-4907-a20c-c50d298523ad",
        "id": "bQJ2B6SPK26d"
      },
      "execution_count": 40,
      "outputs": [
        {
          "output_type": "display_data",
          "data": {
            "text/html": [
              "<table class=\"dataframe\">\n",
              "<caption>A matrix: 3 × 3 of type dbl</caption>\n",
              "<thead>\n",
              "\t<tr><th></th><th scope=col>Col1</th><th scope=col>Col2</th><th scope=col>Col3</th></tr>\n",
              "</thead>\n",
              "<tbody>\n",
              "\t<tr><th scope=row>Row1</th><td>1</td><td>0</td><td>2</td></tr>\n",
              "\t<tr><th scope=row>Row2</th><td>0</td><td>1</td><td>1</td></tr>\n",
              "\t<tr><th scope=row>Row3</th><td>0</td><td>0</td><td>1</td></tr>\n",
              "</tbody>\n",
              "</table>\n"
            ],
            "text/markdown": "\nA matrix: 3 × 3 of type dbl\n\n| <!--/--> | Col1 | Col2 | Col3 |\n|---|---|---|---|\n| Row1 | 1 | 0 | 2 |\n| Row2 | 0 | 1 | 1 |\n| Row3 | 0 | 0 | 1 |\n\n",
            "text/latex": "A matrix: 3 × 3 of type dbl\n\\begin{tabular}{r|lll}\n  & Col1 & Col2 & Col3\\\\\n\\hline\n\tRow1 & 1 & 0 & 2\\\\\n\tRow2 & 0 & 1 & 1\\\\\n\tRow3 & 0 & 0 & 1\\\\\n\\end{tabular}\n",
            "text/plain": [
              "     Col1 Col2 Col3\n",
              "Row1 1    0    2   \n",
              "Row2 0    1    1   \n",
              "Row3 0    0    1   "
            ]
          },
          "metadata": {}
        }
      ]
    },
    {
      "cell_type": "code",
      "source": [
        "a ^ 2"
      ],
      "metadata": {
        "colab": {
          "base_uri": "https://localhost:8080/",
          "height": 146
        },
        "id": "ZpecbXMgf40e",
        "outputId": "1a532a77-ab0c-49d8-cf96-bf03f70a1c85"
      },
      "execution_count": 41,
      "outputs": [
        {
          "output_type": "display_data",
          "data": {
            "text/html": [
              "<table class=\"dataframe\">\n",
              "<caption>A matrix: 3 × 3 of type dbl</caption>\n",
              "<tbody>\n",
              "\t<tr><td>1</td><td>16</td><td>49</td></tr>\n",
              "\t<tr><td>4</td><td>25</td><td>64</td></tr>\n",
              "\t<tr><td>9</td><td>36</td><td>81</td></tr>\n",
              "</tbody>\n",
              "</table>\n"
            ],
            "text/markdown": "\nA matrix: 3 × 3 of type dbl\n\n| 1 | 16 | 49 |\n| 4 | 25 | 64 |\n| 9 | 36 | 81 |\n\n",
            "text/latex": "A matrix: 3 × 3 of type dbl\n\\begin{tabular}{lll}\n\t 1 & 16 & 49\\\\\n\t 4 & 25 & 64\\\\\n\t 9 & 36 & 81\\\\\n\\end{tabular}\n",
            "text/plain": [
              "     [,1] [,2] [,3]\n",
              "[1,] 1    16   49  \n",
              "[2,] 4    25   64  \n",
              "[3,] 9    36   81  "
            ]
          },
          "metadata": {}
        }
      ]
    },
    {
      "cell_type": "code",
      "source": [
        "2 * a"
      ],
      "metadata": {
        "colab": {
          "base_uri": "https://localhost:8080/",
          "height": 146
        },
        "id": "s-WNcgGlLDIG",
        "outputId": "eeba93f4-9804-4c45-c859-a4037482ca9d"
      },
      "execution_count": 42,
      "outputs": [
        {
          "output_type": "display_data",
          "data": {
            "text/html": [
              "<table class=\"dataframe\">\n",
              "<caption>A matrix: 3 × 3 of type dbl</caption>\n",
              "<tbody>\n",
              "\t<tr><td>2</td><td> 8</td><td>14</td></tr>\n",
              "\t<tr><td>4</td><td>10</td><td>16</td></tr>\n",
              "\t<tr><td>6</td><td>12</td><td>18</td></tr>\n",
              "</tbody>\n",
              "</table>\n"
            ],
            "text/markdown": "\nA matrix: 3 × 3 of type dbl\n\n| 2 |  8 | 14 |\n| 4 | 10 | 16 |\n| 6 | 12 | 18 |\n\n",
            "text/latex": "A matrix: 3 × 3 of type dbl\n\\begin{tabular}{lll}\n\t 2 &  8 & 14\\\\\n\t 4 & 10 & 16\\\\\n\t 6 & 12 & 18\\\\\n\\end{tabular}\n",
            "text/plain": [
              "     [,1] [,2] [,3]\n",
              "[1,] 2     8   14  \n",
              "[2,] 4    10   16  \n",
              "[3,] 6    12   18  "
            ]
          },
          "metadata": {}
        }
      ]
    },
    {
      "cell_type": "markdown",
      "source": [
        "The Operator `%*%` is used for matrix multiplication satisfying the condition that the number of columns in the first matrix is equal to the number of rows in second. If matrix A[M, N] and matrix B[N, Z] are multiplied then the resultant matrix will be of dimension [M*Z]."
      ],
      "metadata": {
        "id": "JZMRQu2-fiun"
      }
    },
    {
      "cell_type": "code",
      "source": [
        "m <- matrix(1:8, nrow=2)\n",
        "n <- matrix(8:15, nrow=4)\n",
        "\n",
        "m\n",
        "n"
      ],
      "metadata": {
        "colab": {
          "base_uri": "https://localhost:8080/",
          "height": 292
        },
        "id": "C1keU-RQfG86",
        "outputId": "6004514d-864c-44a3-cddb-ef8e6d2216b3"
      },
      "execution_count": 43,
      "outputs": [
        {
          "output_type": "display_data",
          "data": {
            "text/html": [
              "<table class=\"dataframe\">\n",
              "<caption>A matrix: 2 × 4 of type int</caption>\n",
              "<tbody>\n",
              "\t<tr><td>1</td><td>3</td><td>5</td><td>7</td></tr>\n",
              "\t<tr><td>2</td><td>4</td><td>6</td><td>8</td></tr>\n",
              "</tbody>\n",
              "</table>\n"
            ],
            "text/markdown": "\nA matrix: 2 × 4 of type int\n\n| 1 | 3 | 5 | 7 |\n| 2 | 4 | 6 | 8 |\n\n",
            "text/latex": "A matrix: 2 × 4 of type int\n\\begin{tabular}{llll}\n\t 1 & 3 & 5 & 7\\\\\n\t 2 & 4 & 6 & 8\\\\\n\\end{tabular}\n",
            "text/plain": [
              "     [,1] [,2] [,3] [,4]\n",
              "[1,] 1    3    5    7   \n",
              "[2,] 2    4    6    8   "
            ]
          },
          "metadata": {}
        },
        {
          "output_type": "display_data",
          "data": {
            "text/html": [
              "<table class=\"dataframe\">\n",
              "<caption>A matrix: 4 × 2 of type int</caption>\n",
              "<tbody>\n",
              "\t<tr><td> 8</td><td>12</td></tr>\n",
              "\t<tr><td> 9</td><td>13</td></tr>\n",
              "\t<tr><td>10</td><td>14</td></tr>\n",
              "\t<tr><td>11</td><td>15</td></tr>\n",
              "</tbody>\n",
              "</table>\n"
            ],
            "text/markdown": "\nA matrix: 4 × 2 of type int\n\n|  8 | 12 |\n|  9 | 13 |\n| 10 | 14 |\n| 11 | 15 |\n\n",
            "text/latex": "A matrix: 4 × 2 of type int\n\\begin{tabular}{ll}\n\t  8 & 12\\\\\n\t  9 & 13\\\\\n\t 10 & 14\\\\\n\t 11 & 15\\\\\n\\end{tabular}\n",
            "text/plain": [
              "     [,1] [,2]\n",
              "[1,]  8   12  \n",
              "[2,]  9   13  \n",
              "[3,] 10   14  \n",
              "[4,] 11   15  "
            ]
          },
          "metadata": {}
        }
      ]
    },
    {
      "cell_type": "code",
      "source": [
        "print(m %*% n)"
      ],
      "metadata": {
        "colab": {
          "base_uri": "https://localhost:8080/"
        },
        "id": "qWRnqxFILgxu",
        "outputId": "2396c7da-38c3-41a6-f35e-852ebef7d4d1"
      },
      "execution_count": 44,
      "outputs": [
        {
          "output_type": "stream",
          "name": "stdout",
          "text": [
            "     [,1] [,2]\n",
            "[1,]  162  226\n",
            "[2,]  200  280\n"
          ]
        }
      ]
    }
  ]
}